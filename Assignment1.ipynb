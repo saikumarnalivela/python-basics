{
 "cells": [
  {
   "cell_type": "markdown",
   "metadata": {},
   "source": [
    "# Assignment 1 - Introduction to Python"
   ]
  },
  {
   "cell_type": "markdown",
   "metadata": {},
   "source": [
    "## Part 1\n",
    "* Assign x the integer value 3.\n",
    "* Compute and print x, x squared, and x cubed.\n",
    "* Determine if x divided by 3 and then multiplied by 3 is the same as x.\n",
    "* Redo the previous parts but assign x the floating point value 3.0\n",
    "\n",
    "_After the code section, create a MarkDown section and explain your results.  Do you expect the same results if you use // instead of /?_"
   ]
  },
  {
   "cell_type": "code",
   "execution_count": 1,
   "metadata": {},
   "outputs": [
    {
     "name": "stdout",
     "output_type": "stream",
     "text": [
      "3\n",
      "<class 'int'>\n",
      "squared value of x is :  9\n",
      "cubed value of x is :  27\n",
      "3\n",
      "type of y is :  <class 'int'>\n",
      "True\n"
     ]
    }
   ],
   "source": [
    "x = 3\n",
    "print(x)\n",
    "print(type(x))\n",
    "print(\"squared value of x is : \", x * x)\n",
    "print(\"cubed value of x is : \", x*x*x)\n",
    "y = ( x // 3 ) * 3\n",
    "print(y)\n",
    "print(\"type of y is : \", type(y))\n",
    "print(type(x) ==  type(y))"
   ]
  },
  {
   "cell_type": "markdown",
   "metadata": {},
   "source": [
    "# Integer is used:\n",
    " * Squared value is integer\n",
    " * Cubed value is integer\n",
    " * x divided by 3 and then multiplied by 3 is the same as x ==> NO, we get the float point number of given x"
   ]
  },
  {
   "cell_type": "markdown",
   "metadata": {},
   "source": [
    "# Float is used:\n",
    "  * Squared value is float\n",
    "  * Cubed value is float\n",
    "  * x divided by 3 and then multiplied by 3 is the same as x ==> Yes, we get the same value"
   ]
  },
  {
   "cell_type": "markdown",
   "metadata": {},
   "source": [
    "# when // is used:\n",
    "we get the same value all the time"
   ]
  },
  {
   "cell_type": "markdown",
   "metadata": {},
   "source": [
    "## Part 2\n",
    "* Ask the user for a string and assign it to `words`\n",
    "* Split `words` into a list\n",
    "* Iterate over the list and count the number of words of length less than 4, equal to 4, and greater than 4, and print the results.\n"
   ]
  },
  {
   "cell_type": "code",
   "execution_count": 3,
   "metadata": {},
   "outputs": [
    {
     "name": "stdout",
     "output_type": "stream",
     "text": [
      "Please enter the string :  sai kumar nalivela four five three\n",
      "['sai', 'kumar', 'nalivela', 'four', 'five', 'three']\n",
      "words with less than 4 characters in it    :  1\n",
      "words with four characters in it           : 2\n",
      "words with greater than 4 characters in it : 3\n"
     ]
    }
   ],
   "source": [
    "words = input(\"Please enter the string :  \")\n",
    "wordlist = words.split()\n",
    "print(wordlist)\n",
    "lessthan = 0\n",
    "equals = 0 \n",
    "greathan = 0\n",
    "for i in wordlist:\n",
    "    if(len(i) < 4):\n",
    "        lessthan = lessthan + 1\n",
    "    elif(len(i) > 4):\n",
    "        greathan = greathan + 1\n",
    "    elif(len(i) == 4):\n",
    "        equals = equals + 1\n",
    "print(\"words with less than 4 characters in it    : \",lessthan)\n",
    "print(\"words with four characters in it           :\",equals)\n",
    "print(\"words with greater than 4 characters in it :\",greathan)\n",
    "        "
   ]
  },
  {
   "cell_type": "markdown",
   "metadata": {},
   "source": [
    "## Part 3\n",
    "* Use a for loop to compute the first 20 powers of two: 1, 2, 4, 8, ... "
   ]
  },
  {
   "cell_type": "code",
   "execution_count": null,
   "metadata": {},
   "outputs": [],
   "source": [
    "for i in range(21):\n",
    "    print(\"2 to the power of \",i,\"    is : \",2**i)"
   ]
  },
  {
   "cell_type": "markdown",
   "metadata": {},
   "source": [
    "## Part 4\n",
    "* Ask the user for a numeric value x.\n",
    "* Use a while loop to compute a sequence of values where the new value is based on the old value and uses the following formula:\n",
    "\n",
    "$x_{new} = x_{old} - (x_{old}^2-5)/(2x_{old})$\n",
    "\n",
    "Continue as long as the absolute value of the difference between the old and new values is greater than 0.000001.  _Use the abs() function._\n",
    "\n",
    "Note: This will compute the square root of 5 using the Newton-Raphson method.  It requires Calculus, but if you want to learn about finding   zeros of a function it is a good place to start. Also, it is relevant to techniques that we will use later in the course.\n",
    "    "
   ]
  },
  {
   "cell_type": "code",
   "execution_count": null,
   "metadata": {},
   "outputs": [],
   "source": [
    "x = int(input(\"Enter the integer value : \"))\n",
    "print(\"type is :\",type(x), \"value of x is:\", x )\n",
    "y =0\n",
    "while abs(x-y) > 0.000001:\n",
    "    y = x\n",
    "    x = x - (x*x - 5)/ (2 * x)\n",
    "    print(y)"
   ]
  },
  {
   "cell_type": "markdown",
   "metadata": {},
   "source": [
    "## Bonus\n",
    "* Ask the user for an integer value and assign it to n.\n",
    "* Use a for loop to compute n factorial (the product of all the values from 1 to n)\n",
    "* Print the result.\n",
    "* Convert n factorial to a string and assign it to `text`\n",
    "* Use a for loop with `text` to compute and then print the number of zeros in the string.\n",
    "* Print the length of `text`.\n",
    "* Split `text` on the character '7' and print the length of the resulting list.\n",
    "\n",
    "* Try different values of n! and in a new Markdown section discuss how big a value of n you can use before you run into issues and explain what the issues are."
   ]
  },
  {
   "cell_type": "code",
   "execution_count": null,
   "metadata": {},
   "outputs": [],
   "source": [
    "n = int(input(\"Please enter an integer value :  \"))\n",
    "fac =1\n",
    "for i in range(1,n+1):\n",
    "    fac =  fac * i\n",
    "print(\"factorial of fiven number is : \",fac)\n",
    "text = str(fac)\n",
    "print(\"type is : \", type(text), \"value is :\",text)\n",
    "count = 0\n",
    "for i in text:\n",
    "    if(int(i) == 0):\n",
    "        count =count + 1\n",
    "print(\"number of zeros in text string is:\", count)\n",
    "print(\"Length of string text is : \", len(text))\n",
    "text7split = text.split(\"7\")\n",
    "print(text7split)\n",
    "for i in text7split:\n",
    "    print(\"value of i in list is:\", i, \"and the length of it is:\", len(i))"
   ]
  },
  {
   "cell_type": "markdown",
   "metadata": {},
   "source": [
    "# "
   ]
  },
  {
   "cell_type": "markdown",
   "metadata": {},
   "source": [
    "# I am surpised to see the factorial of one lakh in an machine with any other  proagramming langauge tough it is bit slow in computation.\n",
    "# Here comes the interesting part for me, when i am find out the factorial of ten lakh, jupyter didnot respond."
   ]
  },
  {
   "cell_type": "code",
   "execution_count": null,
   "metadata": {},
   "outputs": [],
   "source": []
  }
 ],
 "metadata": {
  "kernelspec": {
   "display_name": "Python 3",
   "language": "python",
   "name": "python3"
  },
  "language_info": {
   "codemirror_mode": {
    "name": "ipython",
    "version": 3
   },
   "file_extension": ".py",
   "mimetype": "text/x-python",
   "name": "python",
   "nbconvert_exporter": "python",
   "pygments_lexer": "ipython3",
   "version": "3.7.1"
  }
 },
 "nbformat": 4,
 "nbformat_minor": 2
}
