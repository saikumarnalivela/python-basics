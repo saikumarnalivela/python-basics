{
 "cells": [
  {
   "cell_type": "code",
   "execution_count": 1,
   "metadata": {},
   "outputs": [
    {
     "name": "stdout",
     "output_type": "stream",
     "text": [
      "\n",
      "Note: you may need to restart the kernel to use updated packages.\n"
     ]
    },
    {
     "name": "stderr",
     "output_type": "stream",
     "text": [
      "usage: conda-script.py install [-h] [--revision REVISION]\n",
      "                               [-n ENVIRONMENT | -p PATH] [-c CHANNEL]\n",
      "                               [--use-local] [--override-channels]\n",
      "                               [--repodata-fn REPODATA_FNS]\n",
      "                               [--strict-channel-priority]\n",
      "                               [--no-channel-priority]\n",
      "                               [--no-deps | --only-deps] [--no-pin] [--copy]\n",
      "                               [--no-shortcuts] [-C] [-k] [--offline] [-d]\n",
      "                               [--json] [-q] [-v] [-y] [--download-only]\n",
      "                               [--show-channel-urls] [--file FILE]\n",
      "                               [--force-reinstall]\n",
      "                               [--freeze-installed | --update-deps | -S | --update-all | --update-specs]\n",
      "                               [-m] [--clobber] [--dev]\n",
      "                               [package_spec [package_spec ...]]\n",
      "conda-script.py install: error: argument -f/--force: ignored explicit argument 'orge'\n"
     ]
    }
   ],
   "source": [
    "conda install -conda -forge keras"
   ]
  },
  {
   "cell_type": "code",
   "execution_count": null,
   "metadata": {},
   "outputs": [],
   "source": []
  },
  {
   "cell_type": "code",
   "execution_count": 1,
   "metadata": {},
   "outputs": [
    {
     "name": "stderr",
     "output_type": "stream",
     "text": [
      "Using TensorFlow backend.\n"
     ]
    }
   ],
   "source": [
    "import keras"
   ]
  },
  {
   "cell_type": "code",
   "execution_count": 2,
   "metadata": {},
   "outputs": [],
   "source": [
    "from keras.models import Sequential"
   ]
  },
  {
   "cell_type": "code",
   "execution_count": 4,
   "metadata": {},
   "outputs": [],
   "source": [
    "from keras.layers import Dense"
   ]
  },
  {
   "cell_type": "code",
   "execution_count": 5,
   "metadata": {},
   "outputs": [],
   "source": [
    "## initizing the squemce of layes"
   ]
  },
  {
   "cell_type": "code",
   "execution_count": 6,
   "metadata": {},
   "outputs": [],
   "source": [
    "## this can done in 2 form \n",
    "## sequbnes if layes\n",
    "## gRAPHa"
   ]
  },
  {
   "cell_type": "code",
   "execution_count": null,
   "metadata": {},
   "outputs": [],
   "source": [
    "wE NEED TO ADD LAYERS to our model\n",
    "\n",
    "\n",
    "We need to assign weights "
   ]
  }
 ],
 "metadata": {
  "kernelspec": {
   "display_name": "Python 3",
   "language": "python",
   "name": "python3"
  },
  "language_info": {
   "codemirror_mode": {
    "name": "ipython",
    "version": 3
   },
   "file_extension": ".py",
   "mimetype": "text/x-python",
   "name": "python",
   "nbconvert_exporter": "python",
   "pygments_lexer": "ipython3",
   "version": "3.7.4"
  }
 },
 "nbformat": 4,
 "nbformat_minor": 2
}
