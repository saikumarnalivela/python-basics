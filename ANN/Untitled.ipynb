{
 "cells": [
  {
   "cell_type": "code",
   "execution_count": null,
   "metadata": {},
   "outputs": [],
   "source": []
  },
  {
   "cell_type": "code",
   "execution_count": 2,
   "metadata": {},
   "outputs": [
    {
     "name": "stderr",
     "output_type": "stream",
     "text": [
      "C:\\Users\\saina\\Anaconda3\\lib\\site-packages\\sklearn\\preprocessing\\_encoders.py:415: FutureWarning: The handling of integer data will change in version 0.22. Currently, the categories are determined based on the range [0, max(values)], while in the future they will be determined based on the unique values.\n",
      "If you want the future behaviour and silence this warning, you can specify \"categories='auto'\".\n",
      "In case you used a LabelEncoder before this OneHotEncoder to convert the categories to integers, then you can now use the OneHotEncoder directly.\n",
      "  warnings.warn(msg, FutureWarning)\n",
      "C:\\Users\\saina\\Anaconda3\\lib\\site-packages\\sklearn\\preprocessing\\_encoders.py:451: DeprecationWarning: The 'categorical_features' keyword is deprecated in version 0.20 and will be removed in 0.22. You can use the ColumnTransformer instead.\n",
      "  \"use the ColumnTransformer instead.\", DeprecationWarning)\n"
     ]
    }
   ],
   "source": [
    "# Artificial Neural Network\n",
    "\n",
    "# Installing Theano\n",
    "# pip install --upgrade --no-deps git+git://github.com/Theano/Theano.git\n",
    "\n",
    "# Installing Tensorflow\n",
    "# Install Tensorflow from the website: https://www.tensorflow.org/versions/r0.12/get_started/os_setup.html\n",
    "\n",
    "# Installing Keras\n",
    "# pip install --upgrade keras\n",
    "\n",
    "# Part 1 - Data Preprocessing\n",
    "\n",
    "# Importing the libraries\n",
    "import numpy as np\n",
    "import matplotlib.pyplot as plt\n",
    "import pandas as pd\n",
    "\n",
    "# Importing the dataset\n",
    "dataset = pd.read_csv('Churn_Modelling.csv')\n",
    "X = dataset.iloc[:, 3:13].values\n",
    "y = dataset.iloc[:, 13].values\n",
    "\n",
    "# Encoding categorical data\n",
    "from sklearn.preprocessing import LabelEncoder, OneHotEncoder\n",
    "labelencoder_X_1 = LabelEncoder()\n",
    "X[:, 1] = labelencoder_X_1.fit_transform(X[:, 1])\n",
    "labelencoder_X_2 = LabelEncoder()\n",
    "X[:, 2] = labelencoder_X_2.fit_transform(X[:, 2])\n",
    "onehotencoder = OneHotEncoder(categorical_features = [1])\n",
    "X = onehotencoder.fit_transform(X).toarray()\n",
    "X = X[:, 1:]\n",
    "\n",
    "# Splitting the dataset into the Training set and Test set\n",
    "from sklearn.model_selection import train_test_split\n",
    "X_train, X_test, y_train, y_test = train_test_split(X, y, test_size = 0.2, random_state = 0)\n",
    "\n",
    "# Feature Scaling\n",
    "from sklearn.preprocessing import StandardScaler\n",
    "sc = StandardScaler()\n",
    "X_train = sc.fit_transform(X_train)\n",
    "X_test = sc.transform(X_test)"
   ]
  },
  {
   "cell_type": "code",
   "execution_count": 4,
   "metadata": {},
   "outputs": [
    {
     "data": {
      "text/plain": [
       "array([[-0.5698444 ,  1.74309049,  0.16958176, ...,  0.64259497,\n",
       "        -1.03227043,  1.10643166],\n",
       "       [ 1.75486502, -0.57369368, -2.30455945, ...,  0.64259497,\n",
       "         0.9687384 , -0.74866447],\n",
       "       [-0.5698444 , -0.57369368, -1.19119591, ...,  0.64259497,\n",
       "        -1.03227043,  1.48533467],\n",
       "       ...,\n",
       "       [-0.5698444 , -0.57369368,  0.9015152 , ...,  0.64259497,\n",
       "        -1.03227043,  1.41231994],\n",
       "       [-0.5698444 ,  1.74309049, -0.62420521, ...,  0.64259497,\n",
       "         0.9687384 ,  0.84432121],\n",
       "       [ 1.75486502, -0.57369368, -0.28401079, ...,  0.64259497,\n",
       "        -1.03227043,  0.32472465]])"
      ]
     },
     "execution_count": 4,
     "metadata": {},
     "output_type": "execute_result"
    }
   ],
   "source": [
    "X_train"
   ]
  },
  {
   "cell_type": "code",
   "execution_count": 5,
   "metadata": {},
   "outputs": [
    {
     "data": {
      "text/plain": [
       "array([0, 0, 0, ..., 0, 0, 1], dtype=int64)"
      ]
     },
     "execution_count": 5,
     "metadata": {},
     "output_type": "execute_result"
    }
   ],
   "source": [
    "y_train"
   ]
  },
  {
   "cell_type": "code",
   "execution_count": 6,
   "metadata": {},
   "outputs": [
    {
     "name": "stderr",
     "output_type": "stream",
     "text": [
      "Using TensorFlow backend.\n"
     ]
    }
   ],
   "source": [
    "# importing the keras \n",
    "import keras"
   ]
  },
  {
   "cell_type": "code",
   "execution_count": 7,
   "metadata": {},
   "outputs": [],
   "source": [
    "from keras.models import Sequential"
   ]
  },
  {
   "cell_type": "code",
   "execution_count": 8,
   "metadata": {},
   "outputs": [],
   "source": [
    "from keras.layers import Dense"
   ]
  },
  {
   "cell_type": "code",
   "execution_count": 9,
   "metadata": {},
   "outputs": [],
   "source": [
    "#After importing the required modules we need to create a object for sequential"
   ]
  },
  {
   "cell_type": "code",
   "execution_count": 10,
   "metadata": {},
   "outputs": [],
   "source": [
    "classifier = Sequential?"
   ]
  },
  {
   "cell_type": "code",
   "execution_count": 11,
   "metadata": {},
   "outputs": [],
   "source": [
    "classifier = Sequential()"
   ]
  },
  {
   "cell_type": "code",
   "execution_count": 16,
   "metadata": {},
   "outputs": [
    {
     "data": {
      "text/plain": [
       "<keras.engine.sequential.Sequential at 0x14366de1308>"
      ]
     },
     "execution_count": 16,
     "metadata": {},
     "output_type": "execute_result"
    }
   ],
   "source": [
    "classifier\n",
    "    "
   ]
  },
  {
   "cell_type": "code",
   "execution_count": 20,
   "metadata": {},
   "outputs": [
    {
     "name": "stderr",
     "output_type": "stream",
     "text": [
      "C:\\Users\\saina\\Anaconda3\\lib\\site-packages\\ipykernel_launcher.py:1: UserWarning: Update your `Dense` call to the Keras 2 API: `Dense(input_dim=11, kernel_initializer=\"uniform\", activation=\"relu\", units=6)`\n",
      "  \"\"\"Entry point for launching an IPython kernel.\n"
     ]
    }
   ],
   "source": [
    "classifier.add(Dense(input_dim = 11,output_dim = 6, kernel_initializer = 'uniform',activation = 'relu'))"
   ]
  },
  {
   "cell_type": "code",
   "execution_count": 21,
   "metadata": {},
   "outputs": [
    {
     "data": {
      "text/plain": [
       "<keras.engine.sequential.Sequential at 0x14366de1308>"
      ]
     },
     "execution_count": 21,
     "metadata": {},
     "output_type": "execute_result"
    }
   ],
   "source": [
    "classifier"
   ]
  },
  {
   "cell_type": "code",
   "execution_count": 22,
   "metadata": {},
   "outputs": [
    {
     "name": "stderr",
     "output_type": "stream",
     "text": [
      "C:\\Users\\saina\\Anaconda3\\lib\\site-packages\\ipykernel_launcher.py:1: UserWarning: Update your `Dense` call to the Keras 2 API: `Dense(kernel_initializer=\"uniform\", activation=\"sigmoid\", units=1)`\n",
      "  \"\"\"Entry point for launching an IPython kernel.\n"
     ]
    }
   ],
   "source": [
    "classifier.add(Dense(output_dim = 1, kernel_initializer = 'uniform',activation = 'sigmoid'))"
   ]
  },
  {
   "cell_type": "code",
   "execution_count": 24,
   "metadata": {},
   "outputs": [],
   "source": [
    "classifier.compile(optimizer= 'adam',loss = 'binary_crossentropy',metrics= ['accuracy'])"
   ]
  },
  {
   "cell_type": "code",
   "execution_count": 29,
   "metadata": {},
   "outputs": [
    {
     "name": "stdout",
     "output_type": "stream",
     "text": [
      "Epoch 1/100\n",
      "1010/8000 [==>...........................] - ETA: 1s - loss: 0.3361 - accuracy: 0.8634"
     ]
    },
    {
     "name": "stderr",
     "output_type": "stream",
     "text": [
      "C:\\Users\\saina\\Anaconda3\\lib\\site-packages\\ipykernel_launcher.py:1: UserWarning: The `nb_epoch` argument in `fit` has been renamed `epochs`.\n",
      "  \"\"\"Entry point for launching an IPython kernel.\n"
     ]
    },
    {
     "name": "stdout",
     "output_type": "stream",
     "text": [
      "8000/8000 [==============================] - 1s 133us/step - loss: 0.3339 - accuracy: 0.8648\n",
      "Epoch 2/100\n",
      "8000/8000 [==============================] - 1s 127us/step - loss: 0.3348 - accuracy: 0.8615\n",
      "Epoch 3/100\n",
      "8000/8000 [==============================] - 1s 137us/step - loss: 0.3327 - accuracy: 0.8630\n",
      "Epoch 4/100\n",
      "8000/8000 [==============================] - 1s 136us/step - loss: 0.3328 - accuracy: 0.8620\n",
      "Epoch 5/100\n",
      "8000/8000 [==============================] - 1s 127us/step - loss: 0.3334 - accuracy: 0.8614\n",
      "Epoch 6/100\n",
      "8000/8000 [==============================] - 1s 128us/step - loss: 0.3327 - accuracy: 0.8609\n",
      "Epoch 7/100\n",
      "8000/8000 [==============================] - 1s 128us/step - loss: 0.3327 - accuracy: 0.8633\n",
      "Epoch 8/100\n",
      "8000/8000 [==============================] - 1s 131us/step - loss: 0.3329 - accuracy: 0.8624\n",
      "Epoch 9/100\n",
      "8000/8000 [==============================] - 1s 168us/step - loss: 0.3330 - accuracy: 0.8611\n",
      "Epoch 10/100\n",
      "8000/8000 [==============================] - 1s 174us/step - loss: 0.3331 - accuracy: 0.8600\n",
      "Epoch 11/100\n",
      "8000/8000 [==============================] - 1s 135us/step - loss: 0.3316 - accuracy: 0.8615\n",
      "Epoch 12/100\n",
      "8000/8000 [==============================] - 1s 131us/step - loss: 0.3317 - accuracy: 0.8622\n",
      "Epoch 13/100\n",
      "8000/8000 [==============================] - 1s 130us/step - loss: 0.3321 - accuracy: 0.8639\n",
      "Epoch 14/100\n",
      "8000/8000 [==============================] - 1s 129us/step - loss: 0.3330 - accuracy: 0.8616\n",
      "Epoch 15/100\n",
      "8000/8000 [==============================] - 1s 128us/step - loss: 0.3327 - accuracy: 0.8616\n",
      "Epoch 16/100\n",
      "8000/8000 [==============================] - 1s 127us/step - loss: 0.3330 - accuracy: 0.8651\n",
      "Epoch 17/100\n",
      "8000/8000 [==============================] - 1s 129us/step - loss: 0.3317 - accuracy: 0.8611\n",
      "Epoch 18/100\n",
      "8000/8000 [==============================] - 1s 129us/step - loss: 0.3334 - accuracy: 0.8589\n",
      "Epoch 19/100\n",
      "8000/8000 [==============================] - 1s 131us/step - loss: 0.3318 - accuracy: 0.8631\n",
      "Epoch 20/100\n",
      "8000/8000 [==============================] - 1s 156us/step - loss: 0.3313 - accuracy: 0.8599\n",
      "Epoch 21/100\n",
      "8000/8000 [==============================] - 1s 131us/step - loss: 0.3317 - accuracy: 0.8631\n",
      "Epoch 22/100\n",
      "8000/8000 [==============================] - 1s 130us/step - loss: 0.3322 - accuracy: 0.8635\n",
      "Epoch 23/100\n",
      "8000/8000 [==============================] - 1s 135us/step - loss: 0.3327 - accuracy: 0.8619\n",
      "Epoch 24/100\n",
      "8000/8000 [==============================] - 1s 136us/step - loss: 0.3317 - accuracy: 0.8619\n",
      "Epoch 25/100\n",
      "8000/8000 [==============================] - 1s 131us/step - loss: 0.3317 - accuracy: 0.8606\n",
      "Epoch 26/100\n",
      "8000/8000 [==============================] - 1s 129us/step - loss: 0.3315 - accuracy: 0.8641\n",
      "Epoch 27/100\n",
      "8000/8000 [==============================] - 1s 130us/step - loss: 0.3329 - accuracy: 0.8614\n",
      "Epoch 28/100\n",
      "8000/8000 [==============================] - 1s 158us/step - loss: 0.3324 - accuracy: 0.8610\n",
      "Epoch 29/100\n",
      "8000/8000 [==============================] - 1s 130us/step - loss: 0.3323 - accuracy: 0.8621\n",
      "Epoch 30/100\n",
      "8000/8000 [==============================] - 1s 130us/step - loss: 0.3305 - accuracy: 0.8649\n",
      "Epoch 31/100\n",
      "8000/8000 [==============================] - 1s 127us/step - loss: 0.3315 - accuracy: 0.8609\n",
      "Epoch 32/100\n",
      "8000/8000 [==============================] - 1s 128us/step - loss: 0.3315 - accuracy: 0.8629\n",
      "Epoch 33/100\n",
      "8000/8000 [==============================] - 1s 150us/step - loss: 0.3312 - accuracy: 0.8621\n",
      "Epoch 34/100\n",
      "8000/8000 [==============================] - 1s 129us/step - loss: 0.3316 - accuracy: 0.8625\n",
      "Epoch 35/100\n",
      "8000/8000 [==============================] - 1s 127us/step - loss: 0.3314 - accuracy: 0.8636\n",
      "Epoch 36/100\n",
      "8000/8000 [==============================] - 1s 129us/step - loss: 0.3321 - accuracy: 0.8626\n",
      "Epoch 37/100\n",
      "8000/8000 [==============================] - 1s 130us/step - loss: 0.3315 - accuracy: 0.8612\n",
      "Epoch 38/100\n",
      "8000/8000 [==============================] - 1s 129us/step - loss: 0.3306 - accuracy: 0.8641\n",
      "Epoch 39/100\n",
      "8000/8000 [==============================] - 1s 128us/step - loss: 0.3309 - accuracy: 0.8635\n",
      "Epoch 40/100\n",
      "8000/8000 [==============================] - 1s 129us/step - loss: 0.3308 - accuracy: 0.8625\n",
      "Epoch 41/100\n",
      "8000/8000 [==============================] - 1s 135us/step - loss: 0.3299 - accuracy: 0.8644\n",
      "Epoch 42/100\n",
      "8000/8000 [==============================] - 1s 147us/step - loss: 0.3307 - accuracy: 0.8626\n",
      "Epoch 43/100\n",
      "8000/8000 [==============================] - 1s 128us/step - loss: 0.3316 - accuracy: 0.8612\n",
      "Epoch 44/100\n",
      "8000/8000 [==============================] - 1s 129us/step - loss: 0.3300 - accuracy: 0.8652\n",
      "Epoch 45/100\n",
      "8000/8000 [==============================] - 1s 129us/step - loss: 0.3307 - accuracy: 0.8615\n",
      "Epoch 46/100\n",
      "8000/8000 [==============================] - 1s 149us/step - loss: 0.3307 - accuracy: 0.8634\n",
      "Epoch 47/100\n",
      "8000/8000 [==============================] - 1s 130us/step - loss: 0.3307 - accuracy: 0.8608\n",
      "Epoch 48/100\n",
      "8000/8000 [==============================] - 1s 129us/step - loss: 0.3301 - accuracy: 0.8618\n",
      "Epoch 49/100\n",
      "8000/8000 [==============================] - 1s 129us/step - loss: 0.3306 - accuracy: 0.8625\n",
      "Epoch 50/100\n",
      "8000/8000 [==============================] - 1s 131us/step - loss: 0.3314 - accuracy: 0.8652\n",
      "Epoch 51/100\n",
      "8000/8000 [==============================] - 1s 128us/step - loss: 0.3308 - accuracy: 0.8619\n",
      "Epoch 52/100\n",
      "8000/8000 [==============================] - 1s 125us/step - loss: 0.3302 - accuracy: 0.8645\n",
      "Epoch 53/100\n",
      "8000/8000 [==============================] - 1s 127us/step - loss: 0.3310 - accuracy: 0.8639\n",
      "Epoch 54/100\n",
      "8000/8000 [==============================] - 1s 151us/step - loss: 0.3307 - accuracy: 0.8626\n",
      "Epoch 55/100\n",
      "8000/8000 [==============================] - 1s 144us/step - loss: 0.3305 - accuracy: 0.8646\n",
      "Epoch 56/100\n",
      "8000/8000 [==============================] - 1s 139us/step - loss: 0.3295 - accuracy: 0.8643\n",
      "Epoch 57/100\n",
      "8000/8000 [==============================] - 1s 128us/step - loss: 0.3303 - accuracy: 0.8615\n",
      "Epoch 58/100\n",
      "8000/8000 [==============================] - 1s 128us/step - loss: 0.3303 - accuracy: 0.8636\n",
      "Epoch 59/100\n",
      "8000/8000 [==============================] - 1s 128us/step - loss: 0.3304 - accuracy: 0.8618\n",
      "Epoch 60/100\n",
      "8000/8000 [==============================] - 1s 129us/step - loss: 0.3299 - accuracy: 0.8645\n",
      "Epoch 61/100\n",
      "8000/8000 [==============================] - 1s 129us/step - loss: 0.3297 - accuracy: 0.8635\n",
      "Epoch 62/100\n",
      "8000/8000 [==============================] - 1s 127us/step - loss: 0.3308 - accuracy: 0.8633\n",
      "Epoch 63/100\n",
      "8000/8000 [==============================] - 1s 129us/step - loss: 0.3294 - accuracy: 0.8645\n",
      "Epoch 64/100\n",
      "8000/8000 [==============================] - 1s 128us/step - loss: 0.3308 - accuracy: 0.8620\n",
      "Epoch 65/100\n",
      "8000/8000 [==============================] - 1s 129us/step - loss: 0.3300 - accuracy: 0.8627\n",
      "Epoch 66/100\n",
      "8000/8000 [==============================] - 1s 129us/step - loss: 0.3301 - accuracy: 0.8635\n",
      "Epoch 67/100\n",
      "8000/8000 [==============================] - 1s 129us/step - loss: 0.3299 - accuracy: 0.8646\n",
      "Epoch 68/100\n",
      "8000/8000 [==============================] - 1s 128us/step - loss: 0.3302 - accuracy: 0.8599\n",
      "Epoch 69/100\n",
      "8000/8000 [==============================] - 1s 129us/step - loss: 0.3289 - accuracy: 0.8651\n",
      "Epoch 70/100\n",
      "8000/8000 [==============================] - 1s 132us/step - loss: 0.3291 - accuracy: 0.8665\n",
      "Epoch 71/100\n",
      "8000/8000 [==============================] - 1s 130us/step - loss: 0.3299 - accuracy: 0.8627\n",
      "Epoch 72/100\n",
      "8000/8000 [==============================] - 1s 129us/step - loss: 0.3276 - accuracy: 0.8639\n",
      "Epoch 73/100\n",
      "8000/8000 [==============================] - 1s 129us/step - loss: 0.3291 - accuracy: 0.8656\n",
      "Epoch 74/100\n",
      "8000/8000 [==============================] - 1s 127us/step - loss: 0.3298 - accuracy: 0.8637\n",
      "Epoch 75/100\n",
      "8000/8000 [==============================] - 1s 128us/step - loss: 0.3300 - accuracy: 0.8611\n",
      "Epoch 76/100\n",
      "8000/8000 [==============================] - 1s 130us/step - loss: 0.3298 - accuracy: 0.8612\n",
      "Epoch 77/100\n",
      "8000/8000 [==============================] - 1s 127us/step - loss: 0.3286 - accuracy: 0.8618\n",
      "Epoch 78/100\n"
     ]
    },
    {
     "name": "stdout",
     "output_type": "stream",
     "text": [
      "8000/8000 [==============================] - 1s 138us/step - loss: 0.3304 - accuracy: 0.8620\n",
      "Epoch 79/100\n",
      "8000/8000 [==============================] - 1s 130us/step - loss: 0.3299 - accuracy: 0.8637\n",
      "Epoch 80/100\n",
      "8000/8000 [==============================] - 1s 166us/step - loss: 0.3288 - accuracy: 0.8636\n",
      "Epoch 81/100\n",
      "8000/8000 [==============================] - 1s 148us/step - loss: 0.3292 - accuracy: 0.8650\n",
      "Epoch 82/100\n",
      "8000/8000 [==============================] - 1s 137us/step - loss: 0.3293 - accuracy: 0.8654\n",
      "Epoch 83/100\n",
      "8000/8000 [==============================] - 1s 127us/step - loss: 0.3299 - accuracy: 0.8614\n",
      "Epoch 84/100\n",
      "8000/8000 [==============================] - 1s 127us/step - loss: 0.3280 - accuracy: 0.8619\n",
      "Epoch 85/100\n",
      "8000/8000 [==============================] - 1s 126us/step - loss: 0.3283 - accuracy: 0.8629\n",
      "Epoch 86/100\n",
      "8000/8000 [==============================] - 1s 141us/step - loss: 0.3291 - accuracy: 0.8641\n",
      "Epoch 87/100\n",
      "8000/8000 [==============================] - 1s 145us/step - loss: 0.3295 - accuracy: 0.8622\n",
      "Epoch 88/100\n",
      "8000/8000 [==============================] - 1s 140us/step - loss: 0.3290 - accuracy: 0.8640\n",
      "Epoch 89/100\n",
      "8000/8000 [==============================] - 1s 149us/step - loss: 0.3297 - accuracy: 0.8635\n",
      "Epoch 90/100\n",
      "8000/8000 [==============================] - 1s 135us/step - loss: 0.3290 - accuracy: 0.8629\n",
      "Epoch 91/100\n",
      "8000/8000 [==============================] - 1s 148us/step - loss: 0.3308 - accuracy: 0.8618\n",
      "Epoch 92/100\n",
      "8000/8000 [==============================] - 1s 137us/step - loss: 0.3279 - accuracy: 0.8644\n",
      "Epoch 93/100\n",
      "8000/8000 [==============================] - 1s 130us/step - loss: 0.3282 - accuracy: 0.8658\n",
      "Epoch 94/100\n",
      "8000/8000 [==============================] - 1s 129us/step - loss: 0.3280 - accuracy: 0.8644\n",
      "Epoch 95/100\n",
      "8000/8000 [==============================] - 1s 142us/step - loss: 0.3290 - accuracy: 0.8645\n",
      "Epoch 96/100\n",
      "8000/8000 [==============================] - 1s 154us/step - loss: 0.3296 - accuracy: 0.8609\n",
      "Epoch 97/100\n",
      "8000/8000 [==============================] - 1s 162us/step - loss: 0.3284 - accuracy: 0.8633\n",
      "Epoch 98/100\n",
      "8000/8000 [==============================] - 1s 145us/step - loss: 0.3294 - accuracy: 0.8637\n",
      "Epoch 99/100\n",
      "8000/8000 [==============================] - 1s 143us/step - loss: 0.3302 - accuracy: 0.8625\n",
      "Epoch 100/100\n",
      "8000/8000 [==============================] - 1s 140us/step - loss: 0.3291 - accuracy: 0.8639\n"
     ]
    },
    {
     "data": {
      "text/plain": [
       "<keras.callbacks.callbacks.History at 0x14367b79888>"
      ]
     },
     "execution_count": 29,
     "metadata": {},
     "output_type": "execute_result"
    }
   ],
   "source": [
    "classifier.fit(X_train,y_train,batch_size= 10, nb_epoch = 100)\n"
   ]
  },
  {
   "cell_type": "code",
   "execution_count": 30,
   "metadata": {},
   "outputs": [],
   "source": [
    "y_pred = classifier.predict(X_test)"
   ]
  },
  {
   "cell_type": "code",
   "execution_count": 31,
   "metadata": {},
   "outputs": [
    {
     "name": "stdout",
     "output_type": "stream",
     "text": [
      "[[0.27412844]\n",
      " [0.17911854]\n",
      " [0.1950573 ]\n",
      " ...\n",
      " [0.15906927]\n",
      " [0.30028778]\n",
      " [0.14930385]]\n"
     ]
    }
   ],
   "source": [
    "print(y_pred)"
   ]
  },
  {
   "cell_type": "code",
   "execution_count": 32,
   "metadata": {},
   "outputs": [
    {
     "data": {
      "text/plain": [
       "array([0, 1, 0, ..., 0, 0, 0], dtype=int64)"
      ]
     },
     "execution_count": 32,
     "metadata": {},
     "output_type": "execute_result"
    }
   ],
   "source": [
    "y_test"
   ]
  },
  {
   "cell_type": "code",
   "execution_count": 33,
   "metadata": {},
   "outputs": [],
   "source": [
    "y_pred = (y_pred>0.5)"
   ]
  },
  {
   "cell_type": "code",
   "execution_count": 34,
   "metadata": {},
   "outputs": [
    {
     "data": {
      "text/plain": [
       "array([[False],\n",
       "       [False],\n",
       "       [False],\n",
       "       ...,\n",
       "       [False],\n",
       "       [False],\n",
       "       [False]])"
      ]
     },
     "execution_count": 34,
     "metadata": {},
     "output_type": "execute_result"
    }
   ],
   "source": [
    "y_pred"
   ]
  },
  {
   "cell_type": "code",
   "execution_count": 35,
   "metadata": {},
   "outputs": [
    {
     "data": {
      "text/plain": [
       "array([[ 0, -1,  0, ...,  0,  0,  0],\n",
       "       [ 0, -1,  0, ...,  0,  0,  0],\n",
       "       [ 0, -1,  0, ...,  0,  0,  0],\n",
       "       ...,\n",
       "       [ 0, -1,  0, ...,  0,  0,  0],\n",
       "       [ 0, -1,  0, ...,  0,  0,  0],\n",
       "       [ 0, -1,  0, ...,  0,  0,  0]], dtype=int64)"
      ]
     },
     "execution_count": 35,
     "metadata": {},
     "output_type": "execute_result"
    }
   ],
   "source": [
    "y_pred - y_test"
   ]
  },
  {
   "cell_type": "code",
   "execution_count": 36,
   "metadata": {},
   "outputs": [],
   "source": [
    "from sklearn.metrics import confusion_matrix,classification_report"
   ]
  },
  {
   "cell_type": "code",
   "execution_count": 38,
   "metadata": {},
   "outputs": [
    {
     "data": {
      "text/plain": [
       "array([[1490,  105],\n",
       "       [ 182,  223]], dtype=int64)"
      ]
     },
     "execution_count": 38,
     "metadata": {},
     "output_type": "execute_result"
    }
   ],
   "source": [
    "confusion_matrix(y_test,y_pred)"
   ]
  },
  {
   "cell_type": "code",
   "execution_count": 41,
   "metadata": {},
   "outputs": [
    {
     "name": "stdout",
     "output_type": "stream",
     "text": [
      "              precision    recall  f1-score   support\n",
      "\n",
      "           0       0.89      0.93      0.91      1595\n",
      "           1       0.68      0.55      0.61       405\n",
      "\n",
      "    accuracy                           0.86      2000\n",
      "   macro avg       0.79      0.74      0.76      2000\n",
      "weighted avg       0.85      0.86      0.85      2000\n",
      "\n"
     ]
    }
   ],
   "source": [
    "print(classification_report(y_test,y_pred))"
   ]
  },
  {
   "cell_type": "code",
   "execution_count": null,
   "metadata": {},
   "outputs": [],
   "source": []
  }
 ],
 "metadata": {
  "kernelspec": {
   "display_name": "Python 3",
   "language": "python",
   "name": "python3"
  },
  "language_info": {
   "codemirror_mode": {
    "name": "ipython",
    "version": 3
   },
   "file_extension": ".py",
   "mimetype": "text/x-python",
   "name": "python",
   "nbconvert_exporter": "python",
   "pygments_lexer": "ipython3",
   "version": "3.7.4"
  }
 },
 "nbformat": 4,
 "nbformat_minor": 2
}
