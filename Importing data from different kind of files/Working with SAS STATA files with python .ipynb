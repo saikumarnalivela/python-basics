{
 "cells": [
  {
   "cell_type": "code",
   "execution_count": 1,
   "metadata": {},
   "outputs": [],
   "source": [
    "import pandas as pd"
   ]
  },
  {
   "cell_type": "code",
   "execution_count": 2,
   "metadata": {},
   "outputs": [
    {
     "name": "stdout",
     "output_type": "stream",
     "text": [
      "Collecting SAS7BDAT\n",
      "  Downloading https://files.pythonhosted.org/packages/4d/7b/d41d280b12c776e67c840bace0e5f02acda6adb13cd1fbb04293ece0bc3c/sas7bdat-2.2.3.tar.gz\n",
      "Requirement already satisfied: six>=1.8.0 in c:\\users\\saina\\anaconda3\\lib\\site-packages (from SAS7BDAT) (1.12.0)\n",
      "Building wheels for collected packages: SAS7BDAT\n",
      "  Building wheel for SAS7BDAT (setup.py): started\n",
      "  Building wheel for SAS7BDAT (setup.py): finished with status 'done'\n",
      "  Created wheel for SAS7BDAT: filename=sas7bdat-2.2.3-cp37-none-any.whl size=16300 sha256=b51615cc49d4133636c4f0444beecbf0eb9ceca94ed56fdeb9dedaa899a9b515\n",
      "  Stored in directory: C:\\Users\\saina\\AppData\\Local\\pip\\Cache\\wheels\\e0\\b0\\d2\\5d251f0c159a251ec247d9d7f6db889b2c396b2f247a64e5c4\n",
      "Successfully built SAS7BDAT\n",
      "Installing collected packages: SAS7BDAT\n",
      "Successfully installed SAS7BDAT-2.2.3\n",
      "Note: you may need to restart the kernel to use updated packages.\n"
     ]
    }
   ],
   "source": [
    "pip install SAS7BDAT"
   ]
  },
  {
   "cell_type": "code",
   "execution_count": 3,
   "metadata": {},
   "outputs": [],
   "source": [
    "## completed installing SAS7BDAT module in the path"
   ]
  },
  {
   "cell_type": "code",
   "execution_count": 4,
   "metadata": {},
   "outputs": [],
   "source": [
    "# now i have downloaded a SAS file from the internet"
   ]
  },
  {
   "cell_type": "code",
   "execution_count": 5,
   "metadata": {},
   "outputs": [],
   "source": [
    "# WHat is SAS file ---> Statistical Analysis system "
   ]
  },
  {
   "cell_type": "code",
   "execution_count": 6,
   "metadata": {},
   "outputs": [],
   "source": [
    "# STata =-- > STattistics + data "
   ]
  },
  {
   "cell_type": "code",
   "execution_count": 7,
   "metadata": {},
   "outputs": [],
   "source": [
    "# how to read sas files"
   ]
  },
  {
   "cell_type": "code",
   "execution_count": 8,
   "metadata": {},
   "outputs": [],
   "source": [
    "from sas7bdat import SAS7BDAT"
   ]
  },
  {
   "cell_type": "code",
   "execution_count": 10,
   "metadata": {},
   "outputs": [
    {
     "name": "stdout",
     "output_type": "stream",
     "text": [
      "      YEAR          Y      W       R      L      K\n",
      "0   1948.0   1.214000  0.243  0.1454  1.415  0.612\n",
      "1   1949.0   1.354000  0.260  0.2181  1.384  0.559\n",
      "2   1950.0   1.569000  0.278  0.3157  1.388  0.573\n",
      "3   1951.0   1.948000  0.297  0.3940  1.550  0.564\n",
      "4   1952.0   2.265000  0.310  0.3559  1.802  0.574\n",
      "5   1953.0   2.731000  0.322  0.3593  1.926  0.711\n",
      "6   1954.0   3.025000  0.335  0.4025  1.964  0.776\n",
      "7   1955.0   3.562000  0.350  0.3961  2.116  0.827\n",
      "8   1956.0   3.979000  0.361  0.3822  2.435  0.800\n",
      "9   1957.0   4.420000  0.379  0.3045  2.707  0.921\n",
      "10  1958.0   4.563000  0.391  0.3284  2.706  1.067\n",
      "11  1959.0   5.385000  0.426  0.3856  2.846  1.083\n",
      "12  1960.0   5.554000  0.441  0.3193  3.089  1.481\n",
      "13  1961.0   5.465000  0.460  0.3079  3.122  1.736\n",
      "14  1962.0   5.825000  0.485  0.3783  3.184  1.926\n",
      "15  1963.0   6.876000  0.506  0.4180  3.263  2.041\n",
      "16  1964.0   7.823000  0.538  0.5163  3.412  1.997\n",
      "17  1965.0   9.120000  0.564  0.5879  3.623  2.257\n",
      "18  1966.0  10.512000  0.586  0.5369  4.074  2.742\n",
      "19  1967.0  13.020000  0.622  0.4443  4.710  3.564\n",
      "20  1968.0  15.261000  0.666  0.3052  5.217  4.767\n",
      "21  1969.0  16.313000  0.731  0.2332  5.569  6.511\n",
      "22  1970.0  16.002001  0.831  0.1883  5.495  7.627\n",
      "23  1971.0  15.876000  0.906  0.2023  5.334  8.673\n",
      "24  1972.0  16.662001  1.000  0.2506  5.345  8.331\n",
      "25  1973.0  17.014000  1.056  0.2668  5.662  8.557\n",
      "26  1974.0  19.305000  1.131  0.2664  5.729  9.508\n",
      "27  1975.0  18.721001  1.247  0.2301  5.722  9.062\n",
      "28  1976.0  19.250000  1.375  0.3452  5.762  8.262\n",
      "29  1977.0  20.646999  1.544  0.4508  5.877  7.474\n",
      "30  1978.0  22.726000  1.703  0.5877  6.108  7.104\n",
      "31  1979.0  23.618999  1.779  0.5346  6.852  6.874\n"
     ]
    }
   ],
   "source": [
    "with SAS7BDAT('airline.sas7bdat') as file:\n",
    "    print(file.to_data_frame())"
   ]
  },
  {
   "cell_type": "code",
   "execution_count": 11,
   "metadata": {},
   "outputs": [],
   "source": [
    "## after reading the file we need to convert the files into data fraem with help of .to_data_frame()"
   ]
  },
  {
   "cell_type": "code",
   "execution_count": null,
   "metadata": {},
   "outputs": [],
   "source": []
  }
 ],
 "metadata": {
  "kernelspec": {
   "display_name": "Python 3",
   "language": "python",
   "name": "python3"
  },
  "language_info": {
   "codemirror_mode": {
    "name": "ipython",
    "version": 3
   },
   "file_extension": ".py",
   "mimetype": "text/x-python",
   "name": "python",
   "nbconvert_exporter": "python",
   "pygments_lexer": "ipython3",
   "version": "3.7.4"
  }
 },
 "nbformat": 4,
 "nbformat_minor": 2
}
