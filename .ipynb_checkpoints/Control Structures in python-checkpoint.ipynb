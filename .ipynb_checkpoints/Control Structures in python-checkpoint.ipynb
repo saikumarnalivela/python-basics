{
 "cells": [
  {
   "cell_type": "code",
   "execution_count": 8,
   "metadata": {},
   "outputs": [
    {
     "name": "stdout",
     "output_type": "stream",
     "text": [
      "[1, 4, 6, 8, 9, 2, 15, 99, 16, 16]\n",
      "mylist [1, 4, 6, 8, 9, 2, 15, 99, 16, 16]\n",
      "copied list [1, 2, 4, 6, 8, 9, 15, 16, 16, 99]\n",
      "[1, 2, 4, 6, 8, 9, 15, 16, 16, 99]\n"
     ]
    }
   ],
   "source": [
    "mylist = [1,4,6,8,9,2,15,99,16,16]\n",
    "print(mylist)\n",
    "sortedlist = sorted(mylist)\n",
    "print(\"mylist\",mylist)\n",
    "print(\"copied list\",sortedlist)\n",
    "mylist.sort()\n",
    "print(mylist)"
   ]
  },
  {
   "cell_type": "markdown",
   "metadata": {},
   "source": [
    "# List is a data structure used in python that stores elements in contionous blocks. List are like array in java but only difference is list contains heterogious elements that means we can store integer , string , double values at the same time."
   ]
  },
  {
   "cell_type": "code",
   "execution_count": 2,
   "metadata": {},
   "outputs": [
    {
     "name": "stdout",
     "output_type": "stream",
     "text": [
      "6\n"
     ]
    }
   ],
   "source": [
    "print(mylist[-3])"
   ]
  },
  {
   "cell_type": "code",
   "execution_count": 6,
   "metadata": {},
   "outputs": [
    {
     "name": "stdout",
     "output_type": "stream",
     "text": [
      "[1, 4, 6, 8, 9, 2, 2]\n"
     ]
    }
   ],
   "source": [
    "mylist.insert(56,2)\n",
    "print(mylist)"
   ]
  },
  {
   "cell_type": "code",
   "execution_count": 5,
   "metadata": {},
   "outputs": [
    {
     "name": "stdout",
     "output_type": "stream",
     "text": [
      "[1, 4, 6, 8, 9, 2]\n"
     ]
    }
   ],
   "source": [
    "print(mylist)"
   ]
  },
  {
   "cell_type": "markdown",
   "metadata": {},
   "source": [
    "# list slicing"
   ]
  },
  {
   "cell_type": "code",
   "execution_count": 16,
   "metadata": {},
   "outputs": [
    {
     "name": "stdout",
     "output_type": "stream",
     "text": [
      "[3, 5, 7, 9, 11, 13, 15, 17, 19, 21, 23, 25, 27, 29, 31, 33, 35, 37, 39, 41, 43, 45, 47, 49, 51, 53, 55]\n",
      "[55, 53, 51, 49, 47, 45, 43, 41, 39, 37, 35, 33, 31, 29, 27, 25, 23, 21, 19, 17, 15, 13, 11, 9, 7, 5, 3]\n",
      "[9, 17, 25, 33, 41, 49]\n",
      "[55, 49, 43, 37, 31, 25, 19, 13, 7]\n",
      "[7, 9, 11]\n",
      "[3, 4, 3, 4, 3, 4]\n",
      "[3, 4, 3, 4, 3, 4]\n"
     ]
    }
   ],
   "source": [
    "list1 = list(range(3,56,2))\n",
    "print(list1)\n",
    "print(list1[::-1])\n",
    "print(list1[3:50:4])\n",
    "print(list1[::-3])\n",
    "print(list1[2:5])\n",
    "things = [3,4]*3\n",
    "print(things)\n",
    "list1[::] = things\n",
    "print(list1)"
   ]
  },
  {
   "cell_type": "markdown",
   "metadata": {},
   "source": [
    "# Tuple"
   ]
  },
  {
   "cell_type": "code",
   "execution_count": 24,
   "metadata": {},
   "outputs": [
    {
     "name": "stdout",
     "output_type": "stream",
     "text": [
      "('sai', 'vishal', 12, 23, 12.345, True)\n",
      "(12, 13, 14)\n",
      "12 13 14\n",
      "2 4\n",
      "4 2\n"
     ]
    }
   ],
   "source": [
    "names = (\"sai\",\"vishal\",12,23,12.345,True)\n",
    "print(names)\n",
    "mytuple = (12,13,14)\n",
    "names = mytuple\n",
    "print(names)\n",
    "firstone , second, third = mytuple\n",
    "print(firstone,second,third)\n",
    "a =2\n",
    "b =4\n",
    "print(a,b)\n",
    "(b,a) = (a,b)\n",
    "print(a,b)"
   ]
  },
  {
   "cell_type": "markdown",
   "metadata": {},
   "source": [
    "# playing with zip"
   ]
  },
  {
   "cell_type": "code",
   "execution_count": 35,
   "metadata": {},
   "outputs": [
    {
     "name": "stdout",
     "output_type": "stream",
     "text": [
      "<class 'zip'>\n",
      "<zip object at 0x00000264DD4B60C8>\n",
      "1 4\n",
      "(1, 4)\n",
      "2 5\n",
      "(2, 5)\n",
      "3 6\n",
      "(3, 6)\n",
      "[(1, 4), (2, 5), (3, 6)]\n",
      "[5, 7, 9]\n"
     ]
    }
   ],
   "source": [
    "print(type(zip()))\n",
    "l1 = [1,2,3,8]\n",
    "l2 = [4,5,6]\n",
    "l3=zip(l1,l2)\n",
    "print(l3)\n",
    "# print(type(l3))\n",
    "# print(list(l3))\n",
    "# print(type(l3))\n",
    "\n",
    "result = []\n",
    "for i in l3:\n",
    "    first, second = i\n",
    "    print(first,second)\n",
    "    print(i)\n",
    "    result.append(i)\n",
    "print(result)\n",
    "water = [first+second for (first,second) in zip(l1,l2) ]\n",
    "print(water)\n"
   ]
  },
  {
   "cell_type": "code",
   "execution_count": null,
   "metadata": {},
   "outputs": [],
   "source": []
  }
 ],
 "metadata": {
  "kernelspec": {
   "display_name": "Python 3",
   "language": "python",
   "name": "python3"
  },
  "language_info": {
   "codemirror_mode": {
    "name": "ipython",
    "version": 3
   },
   "file_extension": ".py",
   "mimetype": "text/x-python",
   "name": "python",
   "nbconvert_exporter": "python",
   "pygments_lexer": "ipython3",
   "version": "3.7.1"
  }
 },
 "nbformat": 4,
 "nbformat_minor": 2
}
