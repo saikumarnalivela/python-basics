{
 "cells": [
  {
   "cell_type": "markdown",
   "metadata": {},
   "source": [
    "# Assignment 3 - Acquiring Data"
   ]
  },
  {
   "cell_type": "markdown",
   "metadata": {},
   "source": [
    "## Part 1 - Ask a question!"
   ]
  },
  {
   "cell_type": "markdown",
   "metadata": {},
   "source": [
    "## what do we clean the data if we have null values? "
   ]
  },
  {
   "cell_type": "markdown",
   "metadata": {},
   "source": [
    "## how to create the models to test the given data set? "
   ]
  },
  {
   "cell_type": "markdown",
   "metadata": {},
   "source": [
    "## _Notes_"
   ]
  },
  {
   "cell_type": "code",
   "execution_count": null,
   "metadata": {},
   "outputs": [],
   "source": []
  },
  {
   "cell_type": "markdown",
   "metadata": {},
   "source": [
    "## Find data set/s related to that question\n",
    "There are a lot of open data sets out there that you can access. Some places that you can find data sets are listed below, but there are plenty of data sets out there.\n",
    "\n",
    "1. Kaggle - Lots of interesting data sets  https://www.kaggle.com/datasets\n",
    "1. UC Irvine Machine Learning Repo - A venerable source of data.  Some what dated now.  http://mlr.cs.umass.edu/ml/\n",
    "1. US government.  The open data sets from the US government. https://catalog.data.gov/dataset (_Many organinizations/governments make data sets available. I have given three, but check around for others._) \n",
    "1. UK data sets https://www.ukdataservice.ac.uk\n",
    "1. IMF data setshttps://www.imf.org/en/Data\n",
    "1. Amazon AWS data sets - Data sets that can be aquired through AWS services https://registry.opendata.aws\n",
    "1. Wikipedia list of data sets - https://en.wikipedia.org/wiki/List_of_datasets_for_machine_learning_research\n",
    "1. 538 - Politics and sports opinions https://fivethirtyeight.com\n",
    "1. Awesome data - a collection of data sets on github https://github.com/awesomedata/awesome-public-datasets\n",
    "\n",
    "One final option is to scrape data from existing web sites and build your own data set."
   ]
  },
  {
   "cell_type": "markdown",
   "metadata": {},
   "source": [
    "## Part 2 - Acquire the data\n",
    "You may want to create a work space and then download the data set into the workspace so you have a local copy to work with.  If you are working with a very large data set, you may choose to only download a part of the set."
   ]
  },
  {
   "cell_type": "markdown",
   "metadata": {},
   "source": [
    "# _Notes_\n",
    "\n",
    "\n",
    "URL: https://www.kaggle.com/tensor2flow/dataset-graduate-admissions/data\n",
    "I am using kaggle graduate dataset"
   ]
  },
  {
   "cell_type": "code",
   "execution_count": 42,
   "metadata": {},
   "outputs": [
    {
     "name": "stdout",
     "output_type": "stream",
     "text": [
      "     Serial No.  GRE Score  TOEFL Score  University Rating  SOP  LOR   CGPA  \\\n",
      "0             1        337          118                  4  4.5   4.5  9.65   \n",
      "1             2        324          107                  4  4.0   4.5  8.87   \n",
      "2             3        316          104                  3  3.0   3.5  8.00   \n",
      "3             4        322          110                  3  3.5   2.5  8.67   \n",
      "4             5        314          103                  2  2.0   3.0  8.21   \n",
      "5             6        330          115                  5  4.5   3.0  9.34   \n",
      "6             7        321          109                  3  3.0   4.0  8.20   \n",
      "7             8        308          101                  2  3.0   4.0  7.90   \n",
      "8             9        302          102                  1  2.0   1.5  8.00   \n",
      "9            10        323          108                  3  3.5   3.0  8.60   \n",
      "10           11        325          106                  3  3.5   4.0  8.40   \n",
      "11           12        327          111                  4  4.0   4.5  9.00   \n",
      "12           13        328          112                  4  4.0   4.5  9.10   \n",
      "13           14        307          109                  3  4.0   3.0  8.00   \n",
      "14           15        311          104                  3  3.5   2.0  8.20   \n",
      "15           16        314          105                  3  3.5   2.5  8.30   \n",
      "16           17        317          107                  3  4.0   3.0  8.70   \n",
      "17           18        319          106                  3  4.0   3.0  8.00   \n",
      "18           19        318          110                  3  4.0   3.0  8.80   \n",
      "19           20        303          102                  3  3.5   3.0  8.50   \n",
      "20           21        312          107                  3  3.0   2.0  7.90   \n",
      "21           22        325          114                  4  3.0   2.0  8.40   \n",
      "22           23        328          116                  5  5.0   5.0  9.50   \n",
      "23           24        334          119                  5  5.0   4.5  9.70   \n",
      "24           25        336          119                  5  4.0   3.5  9.80   \n",
      "25           26        340          120                  5  4.5   4.5  9.60   \n",
      "26           27        322          109                  5  4.5   3.5  8.80   \n",
      "27           28        298           98                  2  1.5   2.5  7.50   \n",
      "28           29        295           93                  1  2.0   2.0  7.20   \n",
      "29           30        310           99                  2  1.5   2.0  7.30   \n",
      "..          ...        ...          ...                ...  ...   ...   ...   \n",
      "370         371        310          103                  2  2.5   2.5  8.24   \n",
      "371         372        324          110                  3  3.5   3.0  9.22   \n",
      "372         373        336          119                  4  4.5   4.0  9.62   \n",
      "373         374        321          109                  3  3.0   3.0  8.54   \n",
      "374         375        315          105                  2  2.0   2.5  7.65   \n",
      "375         376        304          101                  2  2.0   2.5  7.66   \n",
      "376         377        297           96                  2  2.5   2.0  7.43   \n",
      "377         378        290          100                  1  1.5   2.0  7.56   \n",
      "378         379        303           98                  1  2.0   2.5  7.65   \n",
      "379         380        311           99                  1  2.5   3.0  8.43   \n",
      "380         381        322          104                  3  3.5   4.0  8.84   \n",
      "381         382        319          105                  3  3.0   3.5  8.67   \n",
      "382         383        324          110                  4  4.5   4.0  9.15   \n",
      "383         384        300          100                  3  3.0   3.5  8.26   \n",
      "384         385        340          113                  4  5.0   5.0  9.74   \n",
      "385         386        335          117                  5  5.0   5.0  9.82   \n",
      "386         387        302          101                  2  2.5   3.5  7.96   \n",
      "387         388        307          105                  2  2.0   3.5  8.10   \n",
      "388         389        296           97                  2  1.5   2.0  7.80   \n",
      "389         390        320          108                  3  3.5   4.0  8.44   \n",
      "390         391        314          102                  2  2.0   2.5  8.24   \n",
      "391         392        318          106                  3  2.0   3.0  8.65   \n",
      "392         393        326          112                  4  4.0   3.5  9.12   \n",
      "393         394        317          104                  2  3.0   3.0  8.76   \n",
      "394         395        329          111                  4  4.5   4.0  9.23   \n",
      "395         396        324          110                  3  3.5   3.5  9.04   \n",
      "396         397        325          107                  3  3.0   3.5  9.11   \n",
      "397         398        330          116                  4  5.0   4.5  9.45   \n",
      "398         399        312          103                  3  3.5   4.0  8.78   \n",
      "399         400        333          117                  4  5.0   4.0  9.66   \n",
      "\n",
      "     Research  Chance of Admit   \n",
      "0           1              0.92  \n",
      "1           1              0.76  \n",
      "2           1              0.72  \n",
      "3           1              0.80  \n",
      "4           0              0.65  \n",
      "5           1              0.90  \n",
      "6           1              0.75  \n",
      "7           0              0.68  \n",
      "8           0              0.50  \n",
      "9           0              0.45  \n",
      "10          1              0.52  \n",
      "11          1              0.84  \n",
      "12          1              0.78  \n",
      "13          1              0.62  \n",
      "14          1              0.61  \n",
      "15          0              0.54  \n",
      "16          0              0.66  \n",
      "17          1              0.65  \n",
      "18          0              0.63  \n",
      "19          0              0.62  \n",
      "20          1              0.64  \n",
      "21          0              0.70  \n",
      "22          1              0.94  \n",
      "23          1              0.95  \n",
      "24          1              0.97  \n",
      "25          1              0.94  \n",
      "26          0              0.76  \n",
      "27          1              0.44  \n",
      "28          0              0.46  \n",
      "29          0              0.54  \n",
      "..        ...               ...  \n",
      "370         0              0.72  \n",
      "371         1              0.89  \n",
      "372         1              0.95  \n",
      "373         1              0.79  \n",
      "374         0              0.39  \n",
      "375         0              0.38  \n",
      "376         0              0.34  \n",
      "377         0              0.47  \n",
      "378         0              0.56  \n",
      "379         1              0.71  \n",
      "380         1              0.78  \n",
      "381         1              0.73  \n",
      "382         1              0.82  \n",
      "383         0              0.62  \n",
      "384         1              0.96  \n",
      "385         1              0.96  \n",
      "386         0              0.46  \n",
      "387         0              0.53  \n",
      "388         0              0.49  \n",
      "389         1              0.76  \n",
      "390         0              0.64  \n",
      "391         0              0.71  \n",
      "392         1              0.84  \n",
      "393         0              0.77  \n",
      "394         1              0.89  \n",
      "395         1              0.82  \n",
      "396         1              0.84  \n",
      "397         1              0.91  \n",
      "398         0              0.67  \n",
      "399         1              0.95  \n",
      "\n",
      "[400 rows x 9 columns]\n"
     ]
    },
    {
     "data": {
      "text/plain": [
       "Index(['Serial No.', 'GRE Score', 'TOEFL Score', 'University Rating', 'SOP',\n",
       "       'LOR ', 'CGPA', 'Research', 'Chance of Admit '],\n",
       "      dtype='object')"
      ]
     },
     "execution_count": 42,
     "metadata": {},
     "output_type": "execute_result"
    }
   ],
   "source": [
    "import pandas as pd\n",
    "data = pd.read_csv(\"Admission_Predict.csv\")\n",
    "#data.info()\n",
    "print(data)\n",
    "data1 = pd.read_csv(\"Admission_Predict_Ver1.1.csv\")\n",
    "#print(data1)\n",
    "#data1.info()\n",
    "data.columns"
   ]
  },
  {
   "cell_type": "markdown",
   "metadata": {},
   "source": [
    "## Look at the forrest of the data\n",
    "At this point we want to look at the overall picture of the data.  We are not yet trying to do a detailed analysis, but there are some basic questions we want to answer about our data set.\n",
    "\n",
    "1. In each record of data what are the features? \n",
    "Index(['Serial No.', 'GRE Score', 'TOEFL Score', 'University Rating', 'SOP',\n",
    "       'LOR ', 'CGPA', 'Research', 'Chance of Admit '],\n",
    "      dtype='object')\n",
    "\n",
    "2. What are the range of values (min, median/average, max)\n",
    "         Serial No.\tGRE Score\tTOEFL Score\tUniversity Rating\tSOP\t   LOR\t    CGPA\t      ResearchChance of Admit\n",
    " std\t115.614301\t11.473646\t6.069514\t1.143728\t1.006869\t0.898478\t0.596317\t0.498362\t0.142609\n",
    "\n",
    "3. Do I have values that are not numeric?\n",
    "NO\n",
    "4. Do I have records that are missing features?\n",
    "NO"
   ]
  },
  {
   "cell_type": "markdown",
   "metadata": {},
   "source": [
    "# Part 3 - Read the CSV into a DataFrame\n",
    "\n",
    "Now that we have a CSV file to work with, lets use pandas to examine the data.\n",
    "\n",
    "The first thing we will do is to pull all the data from the CSV file into a pandas dataframe and then look at the keys and the first five lines using the head() function."
   ]
  },
  {
   "cell_type": "code",
   "execution_count": 44,
   "metadata": {},
   "outputs": [
    {
     "data": {
      "text/html": [
       "<div>\n",
       "<style scoped>\n",
       "    .dataframe tbody tr th:only-of-type {\n",
       "        vertical-align: middle;\n",
       "    }\n",
       "\n",
       "    .dataframe tbody tr th {\n",
       "        vertical-align: top;\n",
       "    }\n",
       "\n",
       "    .dataframe thead th {\n",
       "        text-align: right;\n",
       "    }\n",
       "</style>\n",
       "<table border=\"1\" class=\"dataframe\">\n",
       "  <thead>\n",
       "    <tr style=\"text-align: right;\">\n",
       "      <th></th>\n",
       "      <th>Serial No.</th>\n",
       "      <th>GRE Score</th>\n",
       "      <th>TOEFL Score</th>\n",
       "      <th>University Rating</th>\n",
       "      <th>SOP</th>\n",
       "      <th>LOR</th>\n",
       "      <th>CGPA</th>\n",
       "      <th>Research</th>\n",
       "      <th>Chance of Admit</th>\n",
       "    </tr>\n",
       "  </thead>\n",
       "  <tbody>\n",
       "    <tr>\n",
       "      <th>0</th>\n",
       "      <td>1</td>\n",
       "      <td>337</td>\n",
       "      <td>118</td>\n",
       "      <td>4</td>\n",
       "      <td>4.5</td>\n",
       "      <td>4.5</td>\n",
       "      <td>9.65</td>\n",
       "      <td>1</td>\n",
       "      <td>0.92</td>\n",
       "    </tr>\n",
       "    <tr>\n",
       "      <th>1</th>\n",
       "      <td>2</td>\n",
       "      <td>324</td>\n",
       "      <td>107</td>\n",
       "      <td>4</td>\n",
       "      <td>4.0</td>\n",
       "      <td>4.5</td>\n",
       "      <td>8.87</td>\n",
       "      <td>1</td>\n",
       "      <td>0.76</td>\n",
       "    </tr>\n",
       "    <tr>\n",
       "      <th>2</th>\n",
       "      <td>3</td>\n",
       "      <td>316</td>\n",
       "      <td>104</td>\n",
       "      <td>3</td>\n",
       "      <td>3.0</td>\n",
       "      <td>3.5</td>\n",
       "      <td>8.00</td>\n",
       "      <td>1</td>\n",
       "      <td>0.72</td>\n",
       "    </tr>\n",
       "    <tr>\n",
       "      <th>3</th>\n",
       "      <td>4</td>\n",
       "      <td>322</td>\n",
       "      <td>110</td>\n",
       "      <td>3</td>\n",
       "      <td>3.5</td>\n",
       "      <td>2.5</td>\n",
       "      <td>8.67</td>\n",
       "      <td>1</td>\n",
       "      <td>0.80</td>\n",
       "    </tr>\n",
       "    <tr>\n",
       "      <th>4</th>\n",
       "      <td>5</td>\n",
       "      <td>314</td>\n",
       "      <td>103</td>\n",
       "      <td>2</td>\n",
       "      <td>2.0</td>\n",
       "      <td>3.0</td>\n",
       "      <td>8.21</td>\n",
       "      <td>0</td>\n",
       "      <td>0.65</td>\n",
       "    </tr>\n",
       "  </tbody>\n",
       "</table>\n",
       "</div>"
      ],
      "text/plain": [
       "   Serial No.  GRE Score  TOEFL Score  University Rating  SOP  LOR   CGPA  \\\n",
       "0           1        337          118                  4  4.5   4.5  9.65   \n",
       "1           2        324          107                  4  4.0   4.5  8.87   \n",
       "2           3        316          104                  3  3.0   3.5  8.00   \n",
       "3           4        322          110                  3  3.5   2.5  8.67   \n",
       "4           5        314          103                  2  2.0   3.0  8.21   \n",
       "\n",
       "   Research  Chance of Admit   \n",
       "0         1              0.92  \n",
       "1         1              0.76  \n",
       "2         1              0.72  \n",
       "3         1              0.80  \n",
       "4         0              0.65  "
      ]
     },
     "execution_count": 44,
     "metadata": {},
     "output_type": "execute_result"
    }
   ],
   "source": [
    "data.head()"
   ]
  },
  {
   "cell_type": "markdown",
   "metadata": {},
   "source": [
    "## _Notes_ \n",
    "After pulling the data , i have analysed all the features of the data like it has serial no, gre score, toefl score, inveristy sop, Lor, CGPA, research, chance of admit. "
   ]
  },
  {
   "cell_type": "markdown",
   "metadata": {},
   "source": [
    "## Part 4 - Quick Overview\n",
    "Lets get a quick overview of the data using the info() function."
   ]
  },
  {
   "cell_type": "code",
   "execution_count": 8,
   "metadata": {},
   "outputs": [
    {
     "name": "stdout",
     "output_type": "stream",
     "text": [
      "<class 'pandas.core.frame.DataFrame'>\n",
      "RangeIndex: 400 entries, 0 to 399\n",
      "Data columns (total 9 columns):\n",
      "Serial No.           400 non-null int64\n",
      "GRE Score            400 non-null int64\n",
      "TOEFL Score          400 non-null int64\n",
      "University Rating    400 non-null int64\n",
      "SOP                  400 non-null float64\n",
      "LOR                  400 non-null float64\n",
      "CGPA                 400 non-null float64\n",
      "Research             400 non-null int64\n",
      "Chance of Admit      400 non-null float64\n",
      "dtypes: float64(4), int64(5)\n",
      "memory usage: 28.2 KB\n"
     ]
    }
   ],
   "source": [
    "# Your code here\n",
    "data.info()"
   ]
  },
  {
   "cell_type": "markdown",
   "metadata": {},
   "source": [
    "## _Notes_\n",
    " when i have used the info funtion i have observed that there are TOTAL OF 9 COLUMNS IN THE DATASET. There are 400 non null values and all of them are int64 and float64."
   ]
  },
  {
   "cell_type": "markdown",
   "metadata": {},
   "source": [
    "## Part 5 - Look at the object fields\n",
    "We can pull out information about the Gender field using the value_counts() method"
   ]
  },
  {
   "cell_type": "code",
   "execution_count": 49,
   "metadata": {},
   "outputs": [
    {
     "data": {
      "text/plain": [
       "324    19\n",
       "312    19\n",
       "316    14\n",
       "322    14\n",
       "314    14\n",
       "321    13\n",
       "325    13\n",
       "311    12\n",
       "317    12\n",
       "320    12\n",
       "327    12\n",
       "308    11\n",
       "326    11\n",
       "313    11\n",
       "323    10\n",
       "315    10\n",
       "329     9\n",
       "300     9\n",
       "319     9\n",
       "318     9\n",
       "310     8\n",
       "307     8\n",
       "305     8\n",
       "304     8\n",
       "301     8\n",
       "299     8\n",
       "340     8\n",
       "331     8\n",
       "334     7\n",
       "298     7\n",
       "330     6\n",
       "309     6\n",
       "332     6\n",
       "306     6\n",
       "328     6\n",
       "303     5\n",
       "336     5\n",
       "302     5\n",
       "296     5\n",
       "335     4\n",
       "295     4\n",
       "338     4\n",
       "333     4\n",
       "297     4\n",
       "339     3\n",
       "294     2\n",
       "290     2\n",
       "337     1\n",
       "293     1\n",
       "Name: GRE Score, dtype: int64"
      ]
     },
     "execution_count": 49,
     "metadata": {},
     "output_type": "execute_result"
    }
   ],
   "source": [
    "# Your code here\n",
    "data[\"GRE Score\"].value_counts()\n",
    "#rint(\"_____________________________________\")\n",
    "#ata[\"CGPA\"].value_counts()"
   ]
  },
  {
   "cell_type": "markdown",
   "metadata": {},
   "source": [
    "## _Notes_\n",
    "(Your notes here!)\n",
    "This funtion value_counts() gives the number of values of given attritube. As you can see there one person with 293 and one person with 337. "
   ]
  },
  {
   "cell_type": "markdown",
   "metadata": {},
   "source": [
    "## Part 6 - Look at the numerical fields\n",
    "We can look at numerical fields using the describe() function. We get some basic information."
   ]
  },
  {
   "cell_type": "code",
   "execution_count": 11,
   "metadata": {},
   "outputs": [
    {
     "data": {
      "text/html": [
       "<div>\n",
       "<style scoped>\n",
       "    .dataframe tbody tr th:only-of-type {\n",
       "        vertical-align: middle;\n",
       "    }\n",
       "\n",
       "    .dataframe tbody tr th {\n",
       "        vertical-align: top;\n",
       "    }\n",
       "\n",
       "    .dataframe thead th {\n",
       "        text-align: right;\n",
       "    }\n",
       "</style>\n",
       "<table border=\"1\" class=\"dataframe\">\n",
       "  <thead>\n",
       "    <tr style=\"text-align: right;\">\n",
       "      <th></th>\n",
       "      <th>Serial No.</th>\n",
       "      <th>GRE Score</th>\n",
       "      <th>TOEFL Score</th>\n",
       "      <th>University Rating</th>\n",
       "      <th>SOP</th>\n",
       "      <th>LOR</th>\n",
       "      <th>CGPA</th>\n",
       "      <th>Research</th>\n",
       "      <th>Chance of Admit</th>\n",
       "    </tr>\n",
       "  </thead>\n",
       "  <tbody>\n",
       "    <tr>\n",
       "      <th>count</th>\n",
       "      <td>400.000000</td>\n",
       "      <td>400.000000</td>\n",
       "      <td>400.000000</td>\n",
       "      <td>400.000000</td>\n",
       "      <td>400.000000</td>\n",
       "      <td>400.000000</td>\n",
       "      <td>400.000000</td>\n",
       "      <td>400.000000</td>\n",
       "      <td>400.000000</td>\n",
       "    </tr>\n",
       "    <tr>\n",
       "      <th>mean</th>\n",
       "      <td>200.500000</td>\n",
       "      <td>316.807500</td>\n",
       "      <td>107.410000</td>\n",
       "      <td>3.087500</td>\n",
       "      <td>3.400000</td>\n",
       "      <td>3.452500</td>\n",
       "      <td>8.598925</td>\n",
       "      <td>0.547500</td>\n",
       "      <td>0.724350</td>\n",
       "    </tr>\n",
       "    <tr>\n",
       "      <th>std</th>\n",
       "      <td>115.614301</td>\n",
       "      <td>11.473646</td>\n",
       "      <td>6.069514</td>\n",
       "      <td>1.143728</td>\n",
       "      <td>1.006869</td>\n",
       "      <td>0.898478</td>\n",
       "      <td>0.596317</td>\n",
       "      <td>0.498362</td>\n",
       "      <td>0.142609</td>\n",
       "    </tr>\n",
       "    <tr>\n",
       "      <th>min</th>\n",
       "      <td>1.000000</td>\n",
       "      <td>290.000000</td>\n",
       "      <td>92.000000</td>\n",
       "      <td>1.000000</td>\n",
       "      <td>1.000000</td>\n",
       "      <td>1.000000</td>\n",
       "      <td>6.800000</td>\n",
       "      <td>0.000000</td>\n",
       "      <td>0.340000</td>\n",
       "    </tr>\n",
       "    <tr>\n",
       "      <th>25%</th>\n",
       "      <td>100.750000</td>\n",
       "      <td>308.000000</td>\n",
       "      <td>103.000000</td>\n",
       "      <td>2.000000</td>\n",
       "      <td>2.500000</td>\n",
       "      <td>3.000000</td>\n",
       "      <td>8.170000</td>\n",
       "      <td>0.000000</td>\n",
       "      <td>0.640000</td>\n",
       "    </tr>\n",
       "    <tr>\n",
       "      <th>50%</th>\n",
       "      <td>200.500000</td>\n",
       "      <td>317.000000</td>\n",
       "      <td>107.000000</td>\n",
       "      <td>3.000000</td>\n",
       "      <td>3.500000</td>\n",
       "      <td>3.500000</td>\n",
       "      <td>8.610000</td>\n",
       "      <td>1.000000</td>\n",
       "      <td>0.730000</td>\n",
       "    </tr>\n",
       "    <tr>\n",
       "      <th>75%</th>\n",
       "      <td>300.250000</td>\n",
       "      <td>325.000000</td>\n",
       "      <td>112.000000</td>\n",
       "      <td>4.000000</td>\n",
       "      <td>4.000000</td>\n",
       "      <td>4.000000</td>\n",
       "      <td>9.062500</td>\n",
       "      <td>1.000000</td>\n",
       "      <td>0.830000</td>\n",
       "    </tr>\n",
       "    <tr>\n",
       "      <th>max</th>\n",
       "      <td>400.000000</td>\n",
       "      <td>340.000000</td>\n",
       "      <td>120.000000</td>\n",
       "      <td>5.000000</td>\n",
       "      <td>5.000000</td>\n",
       "      <td>5.000000</td>\n",
       "      <td>9.920000</td>\n",
       "      <td>1.000000</td>\n",
       "      <td>0.970000</td>\n",
       "    </tr>\n",
       "  </tbody>\n",
       "</table>\n",
       "</div>"
      ],
      "text/plain": [
       "       Serial No.   GRE Score  TOEFL Score  University Rating         SOP  \\\n",
       "count  400.000000  400.000000   400.000000         400.000000  400.000000   \n",
       "mean   200.500000  316.807500   107.410000           3.087500    3.400000   \n",
       "std    115.614301   11.473646     6.069514           1.143728    1.006869   \n",
       "min      1.000000  290.000000    92.000000           1.000000    1.000000   \n",
       "25%    100.750000  308.000000   103.000000           2.000000    2.500000   \n",
       "50%    200.500000  317.000000   107.000000           3.000000    3.500000   \n",
       "75%    300.250000  325.000000   112.000000           4.000000    4.000000   \n",
       "max    400.000000  340.000000   120.000000           5.000000    5.000000   \n",
       "\n",
       "             LOR         CGPA    Research  Chance of Admit   \n",
       "count  400.000000  400.000000  400.000000        400.000000  \n",
       "mean     3.452500    8.598925    0.547500          0.724350  \n",
       "std      0.898478    0.596317    0.498362          0.142609  \n",
       "min      1.000000    6.800000    0.000000          0.340000  \n",
       "25%      3.000000    8.170000    0.000000          0.640000  \n",
       "50%      3.500000    8.610000    1.000000          0.730000  \n",
       "75%      4.000000    9.062500    1.000000          0.830000  \n",
       "max      5.000000    9.920000    1.000000          0.970000  "
      ]
     },
     "execution_count": 11,
     "metadata": {},
     "output_type": "execute_result"
    }
   ],
   "source": [
    "# Your code here\n",
    "data.describe()"
   ]
  },
  {
   "cell_type": "markdown",
   "metadata": {},
   "source": [
    "## _Notes_\n",
    " ### when we use describe function , we get std devition, min value, max values."
   ]
  },
  {
   "cell_type": "markdown",
   "metadata": {},
   "source": [
    "## Part 7 - Get Distributions\n",
    "To really understand what is going on in the data, we will need to see a distribution. One of the common ways of doing this is to use a histogram. "
   ]
  },
  {
   "cell_type": "code",
   "execution_count": 19,
   "metadata": {},
   "outputs": [
    {
     "data": {
      "image/png": "[encoded data removed]",
      "text/plain": [
       "<Figure size 432x288 with 1 Axes>"
      ]
     },
     "metadata": {
      "needs_background": "light"
     },
     "output_type": "display_data"
    },
    {
     "name": "stdout",
     "output_type": "stream",
     "text": [
      "None\n"
     ]
    },
    {
     "data": {
      "image/png": "[encoded data removed]",
      "text/plain": [
       "<Figure size 432x288 with 1 Axes>"
      ]
     },
     "metadata": {
      "needs_background": "light"
     },
     "output_type": "display_data"
    },
    {
     "name": "stdout",
     "output_type": "stream",
     "text": [
      "None\n"
     ]
    }
   ],
   "source": [
    "# Your code here\n",
    "import matplotlib.pyplot as plt\n",
    "data[\"GRE Score\"].hist(bins = 100)\n",
    "print(plt.show())\n",
    "data[\"CGPA\"].hist(bins=100)\n",
    "print(plt.show())"
   ]
  },
  {
   "cell_type": "markdown",
   "metadata": {},
   "source": [
    "## _Notes_\n",
    "(Your notes here!)  \n",
    "\n",
    "From the graph we can observe that most of people has gre score between 300 and 320 and CGPA between 8.0 to 9.0."
   ]
  },
  {
   "cell_type": "markdown",
   "metadata": {},
   "source": [
    "## Part 8 Visualize the data\n",
    "Lets make a copy of the data set and do some simple graphs."
   ]
  },
  {
   "cell_type": "code",
   "execution_count": 56,
   "metadata": {},
   "outputs": [
    {
     "data": {
      "image/png": "[encoded data removed]",
      "text/plain": [
       "<Figure size 432x288 with 9 Axes>"
      ]
     },
     "metadata": {
      "needs_background": "light"
     },
     "output_type": "display_data"
    }
   ],
   "source": [
    "data2 = data.copy()\n",
    "#print(data2)\n",
    "import matplotlib.pyplot as plt\n",
    "data2.hist(bins=100)\n",
    "plt.show()"
   ]
  },
  {
   "cell_type": "markdown",
   "metadata": {},
   "source": [
    "## _Notes_  \n",
    "#### I can observe that research has no scope in getting admission."
   ]
  },
  {
   "cell_type": "markdown",
   "metadata": {},
   "source": [
    "## Part 9 - Do Correlation\n",
    "\n",
    "Check the numerical parameters and see if any are strongly correlated.  This can give an idea of dimensions that are predictive of each other."
   ]
  },
  {
   "cell_type": "code",
   "execution_count": null,
   "metadata": {},
   "outputs": [],
   "source": []
  },
  {
   "cell_type": "code",
   "execution_count": 20,
   "metadata": {},
   "outputs": [
    {
     "data": {
      "text/html": [
       "<div>\n",
       "<style scoped>\n",
       "    .dataframe tbody tr th:only-of-type {\n",
       "        vertical-align: middle;\n",
       "    }\n",
       "\n",
       "    .dataframe tbody tr th {\n",
       "        vertical-align: top;\n",
       "    }\n",
       "\n",
       "    .dataframe thead th {\n",
       "        text-align: right;\n",
       "    }\n",
       "</style>\n",
       "<table border=\"1\" class=\"dataframe\">\n",
       "  <thead>\n",
       "    <tr style=\"text-align: right;\">\n",
       "      <th></th>\n",
       "      <th>Serial No.</th>\n",
       "      <th>GRE Score</th>\n",
       "      <th>TOEFL Score</th>\n",
       "      <th>University Rating</th>\n",
       "      <th>SOP</th>\n",
       "      <th>LOR</th>\n",
       "      <th>CGPA</th>\n",
       "      <th>Research</th>\n",
       "      <th>Chance of Admit</th>\n",
       "    </tr>\n",
       "  </thead>\n",
       "  <tbody>\n",
       "    <tr>\n",
       "      <th>Serial No.</th>\n",
       "      <td>1.000000</td>\n",
       "      <td>-0.097526</td>\n",
       "      <td>-0.147932</td>\n",
       "      <td>-0.169948</td>\n",
       "      <td>-0.166932</td>\n",
       "      <td>-0.088221</td>\n",
       "      <td>-0.045608</td>\n",
       "      <td>-0.063138</td>\n",
       "      <td>0.042336</td>\n",
       "    </tr>\n",
       "    <tr>\n",
       "      <th>GRE Score</th>\n",
       "      <td>-0.097526</td>\n",
       "      <td>1.000000</td>\n",
       "      <td>0.835977</td>\n",
       "      <td>0.668976</td>\n",
       "      <td>0.612831</td>\n",
       "      <td>0.557555</td>\n",
       "      <td>0.833060</td>\n",
       "      <td>0.580391</td>\n",
       "      <td>0.802610</td>\n",
       "    </tr>\n",
       "    <tr>\n",
       "      <th>TOEFL Score</th>\n",
       "      <td>-0.147932</td>\n",
       "      <td>0.835977</td>\n",
       "      <td>1.000000</td>\n",
       "      <td>0.695590</td>\n",
       "      <td>0.657981</td>\n",
       "      <td>0.567721</td>\n",
       "      <td>0.828417</td>\n",
       "      <td>0.489858</td>\n",
       "      <td>0.791594</td>\n",
       "    </tr>\n",
       "    <tr>\n",
       "      <th>University Rating</th>\n",
       "      <td>-0.169948</td>\n",
       "      <td>0.668976</td>\n",
       "      <td>0.695590</td>\n",
       "      <td>1.000000</td>\n",
       "      <td>0.734523</td>\n",
       "      <td>0.660123</td>\n",
       "      <td>0.746479</td>\n",
       "      <td>0.447783</td>\n",
       "      <td>0.711250</td>\n",
       "    </tr>\n",
       "    <tr>\n",
       "      <th>SOP</th>\n",
       "      <td>-0.166932</td>\n",
       "      <td>0.612831</td>\n",
       "      <td>0.657981</td>\n",
       "      <td>0.734523</td>\n",
       "      <td>1.000000</td>\n",
       "      <td>0.729593</td>\n",
       "      <td>0.718144</td>\n",
       "      <td>0.444029</td>\n",
       "      <td>0.675732</td>\n",
       "    </tr>\n",
       "    <tr>\n",
       "      <th>LOR</th>\n",
       "      <td>-0.088221</td>\n",
       "      <td>0.557555</td>\n",
       "      <td>0.567721</td>\n",
       "      <td>0.660123</td>\n",
       "      <td>0.729593</td>\n",
       "      <td>1.000000</td>\n",
       "      <td>0.670211</td>\n",
       "      <td>0.396859</td>\n",
       "      <td>0.669889</td>\n",
       "    </tr>\n",
       "    <tr>\n",
       "      <th>CGPA</th>\n",
       "      <td>-0.045608</td>\n",
       "      <td>0.833060</td>\n",
       "      <td>0.828417</td>\n",
       "      <td>0.746479</td>\n",
       "      <td>0.718144</td>\n",
       "      <td>0.670211</td>\n",
       "      <td>1.000000</td>\n",
       "      <td>0.521654</td>\n",
       "      <td>0.873289</td>\n",
       "    </tr>\n",
       "    <tr>\n",
       "      <th>Research</th>\n",
       "      <td>-0.063138</td>\n",
       "      <td>0.580391</td>\n",
       "      <td>0.489858</td>\n",
       "      <td>0.447783</td>\n",
       "      <td>0.444029</td>\n",
       "      <td>0.396859</td>\n",
       "      <td>0.521654</td>\n",
       "      <td>1.000000</td>\n",
       "      <td>0.553202</td>\n",
       "    </tr>\n",
       "    <tr>\n",
       "      <th>Chance of Admit</th>\n",
       "      <td>0.042336</td>\n",
       "      <td>0.802610</td>\n",
       "      <td>0.791594</td>\n",
       "      <td>0.711250</td>\n",
       "      <td>0.675732</td>\n",
       "      <td>0.669889</td>\n",
       "      <td>0.873289</td>\n",
       "      <td>0.553202</td>\n",
       "      <td>1.000000</td>\n",
       "    </tr>\n",
       "  </tbody>\n",
       "</table>\n",
       "</div>"
      ],
      "text/plain": [
       "                   Serial No.  GRE Score  TOEFL Score  University Rating  \\\n",
       "Serial No.           1.000000  -0.097526    -0.147932          -0.169948   \n",
       "GRE Score           -0.097526   1.000000     0.835977           0.668976   \n",
       "TOEFL Score         -0.147932   0.835977     1.000000           0.695590   \n",
       "University Rating   -0.169948   0.668976     0.695590           1.000000   \n",
       "SOP                 -0.166932   0.612831     0.657981           0.734523   \n",
       "LOR                 -0.088221   0.557555     0.567721           0.660123   \n",
       "CGPA                -0.045608   0.833060     0.828417           0.746479   \n",
       "Research            -0.063138   0.580391     0.489858           0.447783   \n",
       "Chance of Admit      0.042336   0.802610     0.791594           0.711250   \n",
       "\n",
       "                        SOP      LOR       CGPA  Research  Chance of Admit   \n",
       "Serial No.        -0.166932 -0.088221 -0.045608 -0.063138          0.042336  \n",
       "GRE Score          0.612831  0.557555  0.833060  0.580391          0.802610  \n",
       "TOEFL Score        0.657981  0.567721  0.828417  0.489858          0.791594  \n",
       "University Rating  0.734523  0.660123  0.746479  0.447783          0.711250  \n",
       "SOP                1.000000  0.729593  0.718144  0.444029          0.675732  \n",
       "LOR                0.729593  1.000000  0.670211  0.396859          0.669889  \n",
       "CGPA               0.718144  0.670211  1.000000  0.521654          0.873289  \n",
       "Research           0.444029  0.396859  0.521654  1.000000          0.553202  \n",
       "Chance of Admit    0.675732  0.669889  0.873289  0.553202          1.000000  "
      ]
     },
     "execution_count": 20,
     "metadata": {},
     "output_type": "execute_result"
    }
   ],
   "source": [
    "# Your code here\n",
    "data.corr()\n"
   ]
  },
  {
   "cell_type": "markdown",
   "metadata": {},
   "source": [
    "I can observe that gre score and toefl has more correlation than any other atributes."
   ]
  },
  {
   "cell_type": "code",
   "execution_count": 21,
   "metadata": {},
   "outputs": [
    {
     "data": {
      "text/plain": [
       "Serial No.          -0.097526\n",
       "LOR                  0.557555\n",
       "Research             0.580391\n",
       "SOP                  0.612831\n",
       "University Rating    0.668976\n",
       "Chance of Admit      0.802610\n",
       "CGPA                 0.833060\n",
       "TOEFL Score          0.835977\n",
       "GRE Score            1.000000\n",
       "Name: GRE Score, dtype: float64"
      ]
     },
     "execution_count": 21,
     "metadata": {},
     "output_type": "execute_result"
    }
   ],
   "source": [
    "corrrr = data.corr()\n",
    "corrrr[\"GRE Score\"].sort_values()"
   ]
  },
  {
   "cell_type": "markdown",
   "metadata": {},
   "source": [
    "## _Notes_\n",
    "(Your notes here!)"
   ]
  },
  {
   "cell_type": "markdown",
   "metadata": {},
   "source": [
    "## Part 10 - A better scatter plot\n",
    "Look to see if there are interesting relations to the non-numeric data.  Try some filtering."
   ]
  },
  {
   "cell_type": "code",
   "execution_count": 62,
   "metadata": {
    "scrolled": true
   },
   "outputs": [
    {
     "data": {
      "text/plain": [
       "array([[<matplotlib.axes._subplots.AxesSubplot object at 0x000001ADAAA20710>,\n",
       "        <matplotlib.axes._subplots.AxesSubplot object at 0x000001ADA9C8F4E0>,\n",
       "        <matplotlib.axes._subplots.AxesSubplot object at 0x000001ADA9C22320>],\n",
       "       [<matplotlib.axes._subplots.AxesSubplot object at 0x000001ADA8E43320>,\n",
       "        <matplotlib.axes._subplots.AxesSubplot object at 0x000001ADA94A4978>,\n",
       "        <matplotlib.axes._subplots.AxesSubplot object at 0x000001ADACE34A90>],\n",
       "       [<matplotlib.axes._subplots.AxesSubplot object at 0x000001ADACC9C208>,\n",
       "        <matplotlib.axes._subplots.AxesSubplot object at 0x000001ADACA3D8D0>,\n",
       "        <matplotlib.axes._subplots.AxesSubplot object at 0x000001ADACA3D208>]],\n",
       "      dtype=object)"
      ]
     },
     "execution_count": 62,
     "metadata": {},
     "output_type": "execute_result"
    },
    {
     "data": {
      "image/png": "[encoded data removed]",
      "text/plain": [
       "<Figure size 432x288 with 9 Axes>"
      ]
     },
     "metadata": {
      "needs_background": "light"
     },
     "output_type": "display_data"
    }
   ],
   "source": [
    "# Your code here\n",
    "from pandas.plotting import scatter_matrix\n",
    "attributes = [\"GRE Score\",\"CGPA\",\"Research\"]\n",
    "scatter_matrix(data[attributes])\n",
    "\n"
   ]
  },
  {
   "cell_type": "markdown",
   "metadata": {},
   "source": [
    "### i dont any non numeric values in my data.  I dont understand what is mean by filtering."
   ]
  },
  {
   "cell_type": "code",
   "execution_count": 34,
   "metadata": {},
   "outputs": [
    {
     "name": "stdout",
     "output_type": "stream",
     "text": [
      "                   Serial No.  GRE Score  TOEFL Score  University Rating  \\\n",
      "Serial No.           1.000000  -0.097526    -0.147932          -0.169948   \n",
      "GRE Score           -0.097526   1.000000     0.835977           0.668976   \n",
      "TOEFL Score         -0.147932   0.835977     1.000000           0.695590   \n",
      "University Rating   -0.169948   0.668976     0.695590           1.000000   \n",
      "SOP                 -0.166932   0.612831     0.657981           0.734523   \n",
      "LOR                 -0.088221   0.557555     0.567721           0.660123   \n",
      "CGPA                -0.045608   0.833060     0.828417           0.746479   \n",
      "Research            -0.063138   0.580391     0.489858           0.447783   \n",
      "Chance of Admit      0.042336   0.802610     0.791594           0.711250   \n",
      "\n",
      "                        SOP      LOR       CGPA  Research  Chance of Admit   \n",
      "Serial No.        -0.166932 -0.088221 -0.045608 -0.063138          0.042336  \n",
      "GRE Score          0.612831  0.557555  0.833060  0.580391          0.802610  \n",
      "TOEFL Score        0.657981  0.567721  0.828417  0.489858          0.791594  \n",
      "University Rating  0.734523  0.660123  0.746479  0.447783          0.711250  \n",
      "SOP                1.000000  0.729593  0.718144  0.444029          0.675732  \n",
      "LOR                0.729593  1.000000  0.670211  0.396859          0.669889  \n",
      "CGPA               0.718144  0.670211  1.000000  0.521654          0.873289  \n",
      "Research           0.444029  0.396859  0.521654  1.000000          0.553202  \n",
      "Chance of Admit    0.675732  0.669889  0.873289  0.553202          1.000000  \n"
     ]
    },
    {
     "data": {
      "image/png": "[encoded data removed]",
      "text/plain": [
       "<Figure size 1296x1296 with 2 Axes>"
      ]
     },
     "metadata": {
      "needs_background": "light"
     },
     "output_type": "display_data"
    }
   ],
   "source": [
    "import seaborn as sns\n",
    "print(data.corr())\n",
    "f,ax = plt.subplots(figsize=(18, 18))\n",
    "sns.heatmap(data.corr(), annot=True, linewidths=.5, fmt= '.1f',ax=ax)\n",
    "plt.show()"
   ]
  },
  {
   "cell_type": "markdown",
   "metadata": {},
   "source": []
  },
  {
   "cell_type": "markdown",
   "metadata": {},
   "source": [
    "## _Notes_\n",
    "(Your notes here!)"
   ]
  },
  {
   "cell_type": "code",
   "execution_count": 37,
   "metadata": {},
   "outputs": [
    {
     "data": {
      "text/plain": [
       "Index(['Serial No.', 'GRE Score', 'TOEFL Score', 'University Rating', 'SOP',\n",
       "       'LOR ', 'CGPA', 'Research', 'Chance of Admit '],\n",
       "      dtype='object')"
      ]
     },
     "execution_count": 37,
     "metadata": {},
     "output_type": "execute_result"
    }
   ],
   "source": [
    "data.columns"
   ]
  },
  {
   "cell_type": "markdown",
   "metadata": {},
   "source": [
    "# Bonus\n",
    "Do an acquisition and preliminary analysis on a second data set.  Compare the data sets."
   ]
  },
  {
   "cell_type": "code",
   "execution_count": 72,
   "metadata": {},
   "outputs": [
    {
     "data": {
      "image/png": "[encoded data removed]",
      "text/plain": [
       "<Figure size 432x288 with 1 Axes>"
      ]
     },
     "metadata": {
      "needs_background": "light"
     },
     "output_type": "display_data"
    },
    {
     "data": {
      "image/png": "[encoded data removed]",
      "text/plain": [
       "<Figure size 432x288 with 1 Axes>"
      ]
     },
     "metadata": {
      "needs_background": "light"
     },
     "output_type": "display_data"
    },
    {
     "data": {
      "image/png": "[encoded data removed]",
      "text/plain": [
       "<Figure size 432x288 with 1 Axes>"
      ]
     },
     "metadata": {
      "needs_background": "light"
     },
     "output_type": "display_data"
    }
   ],
   "source": [
    "import matplotlib.pyplot as plt\n",
    "data2.CGPA.plot(kind = 'Line',color = 'green', label = 'CGPA')\n",
    "plt.show()\n",
    "data.CGPA.plot(kind  = 'Line', c = 'red')\n",
    "plt.show()\n",
    "secoddataset = pd.read_csv('weight-height.csv')\n",
    "secoddataset.Weight.plot(kind = 'Line',color = 'green', label = 'Weight')\n",
    "plt.show()"
   ]
  },
  {
   "cell_type": "code",
   "execution_count": 71,
   "metadata": {},
   "outputs": [
    {
     "name": "stdout",
     "output_type": "stream",
     "text": [
      "     Serial No.  GRE Score  TOEFL Score  University Rating  SOP  LOR   CGPA  \\\n",
      "0             1        337          118                  4  4.5   4.5  9.65   \n",
      "1             2        324          107                  4  4.0   4.5  8.87   \n",
      "2             3        316          104                  3  3.0   3.5  8.00   \n",
      "3             4        322          110                  3  3.5   2.5  8.67   \n",
      "4             5        314          103                  2  2.0   3.0  8.21   \n",
      "5             6        330          115                  5  4.5   3.0  9.34   \n",
      "6             7        321          109                  3  3.0   4.0  8.20   \n",
      "7             8        308          101                  2  3.0   4.0  7.90   \n",
      "8             9        302          102                  1  2.0   1.5  8.00   \n",
      "9            10        323          108                  3  3.5   3.0  8.60   \n",
      "10           11        325          106                  3  3.5   4.0  8.40   \n",
      "11           12        327          111                  4  4.0   4.5  9.00   \n",
      "12           13        328          112                  4  4.0   4.5  9.10   \n",
      "13           14        307          109                  3  4.0   3.0  8.00   \n",
      "14           15        311          104                  3  3.5   2.0  8.20   \n",
      "15           16        314          105                  3  3.5   2.5  8.30   \n",
      "16           17        317          107                  3  4.0   3.0  8.70   \n",
      "17           18        319          106                  3  4.0   3.0  8.00   \n",
      "18           19        318          110                  3  4.0   3.0  8.80   \n",
      "19           20        303          102                  3  3.5   3.0  8.50   \n",
      "20           21        312          107                  3  3.0   2.0  7.90   \n",
      "21           22        325          114                  4  3.0   2.0  8.40   \n",
      "22           23        328          116                  5  5.0   5.0  9.50   \n",
      "23           24        334          119                  5  5.0   4.5  9.70   \n",
      "24           25        336          119                  5  4.0   3.5  9.80   \n",
      "25           26        340          120                  5  4.5   4.5  9.60   \n",
      "26           27        322          109                  5  4.5   3.5  8.80   \n",
      "27           28        298           98                  2  1.5   2.5  7.50   \n",
      "28           29        295           93                  1  2.0   2.0  7.20   \n",
      "29           30        310           99                  2  1.5   2.0  7.30   \n",
      "..          ...        ...          ...                ...  ...   ...   ...   \n",
      "370         371        310          103                  2  2.5   2.5  8.24   \n",
      "371         372        324          110                  3  3.5   3.0  9.22   \n",
      "372         373        336          119                  4  4.5   4.0  9.62   \n",
      "373         374        321          109                  3  3.0   3.0  8.54   \n",
      "374         375        315          105                  2  2.0   2.5  7.65   \n",
      "375         376        304          101                  2  2.0   2.5  7.66   \n",
      "376         377        297           96                  2  2.5   2.0  7.43   \n",
      "377         378        290          100                  1  1.5   2.0  7.56   \n",
      "378         379        303           98                  1  2.0   2.5  7.65   \n",
      "379         380        311           99                  1  2.5   3.0  8.43   \n",
      "380         381        322          104                  3  3.5   4.0  8.84   \n",
      "381         382        319          105                  3  3.0   3.5  8.67   \n",
      "382         383        324          110                  4  4.5   4.0  9.15   \n",
      "383         384        300          100                  3  3.0   3.5  8.26   \n",
      "384         385        340          113                  4  5.0   5.0  9.74   \n",
      "385         386        335          117                  5  5.0   5.0  9.82   \n",
      "386         387        302          101                  2  2.5   3.5  7.96   \n",
      "387         388        307          105                  2  2.0   3.5  8.10   \n",
      "388         389        296           97                  2  1.5   2.0  7.80   \n",
      "389         390        320          108                  3  3.5   4.0  8.44   \n",
      "390         391        314          102                  2  2.0   2.5  8.24   \n",
      "391         392        318          106                  3  2.0   3.0  8.65   \n",
      "392         393        326          112                  4  4.0   3.5  9.12   \n",
      "393         394        317          104                  2  3.0   3.0  8.76   \n",
      "394         395        329          111                  4  4.5   4.0  9.23   \n",
      "395         396        324          110                  3  3.5   3.5  9.04   \n",
      "396         397        325          107                  3  3.0   3.5  9.11   \n",
      "397         398        330          116                  4  5.0   4.5  9.45   \n",
      "398         399        312          103                  3  3.5   4.0  8.78   \n",
      "399         400        333          117                  4  5.0   4.0  9.66   \n",
      "\n",
      "     Research  Chance of Admit   \n",
      "0           1              0.92  \n",
      "1           1              0.76  \n",
      "2           1              0.72  \n",
      "3           1              0.80  \n",
      "4           0              0.65  \n",
      "5           1              0.90  \n",
      "6           1              0.75  \n",
      "7           0              0.68  \n",
      "8           0              0.50  \n",
      "9           0              0.45  \n",
      "10          1              0.52  \n",
      "11          1              0.84  \n",
      "12          1              0.78  \n",
      "13          1              0.62  \n",
      "14          1              0.61  \n",
      "15          0              0.54  \n",
      "16          0              0.66  \n",
      "17          1              0.65  \n",
      "18          0              0.63  \n",
      "19          0              0.62  \n",
      "20          1              0.64  \n",
      "21          0              0.70  \n",
      "22          1              0.94  \n",
      "23          1              0.95  \n",
      "24          1              0.97  \n",
      "25          1              0.94  \n",
      "26          0              0.76  \n",
      "27          1              0.44  \n",
      "28          0              0.46  \n",
      "29          0              0.54  \n",
      "..        ...               ...  \n",
      "370         0              0.72  \n",
      "371         1              0.89  \n",
      "372         1              0.95  \n",
      "373         1              0.79  \n",
      "374         0              0.39  \n",
      "375         0              0.38  \n",
      "376         0              0.34  \n",
      "377         0              0.47  \n",
      "378         0              0.56  \n",
      "379         1              0.71  \n",
      "380         1              0.78  \n",
      "381         1              0.73  \n",
      "382         1              0.82  \n",
      "383         0              0.62  \n",
      "384         1              0.96  \n",
      "385         1              0.96  \n",
      "386         0              0.46  \n",
      "387         0              0.53  \n",
      "388         0              0.49  \n",
      "389         1              0.76  \n",
      "390         0              0.64  \n",
      "391         0              0.71  \n",
      "392         1              0.84  \n",
      "393         0              0.77  \n",
      "394         1              0.89  \n",
      "395         1              0.82  \n",
      "396         1              0.84  \n",
      "397         1              0.91  \n",
      "398         0              0.67  \n",
      "399         1              0.95  \n",
      "\n",
      "[400 rows x 9 columns]\n"
     ]
    },
    {
     "data": {
      "text/plain": [
       "Index(['Serial No.', 'GRE Score', 'TOEFL Score', 'University Rating', 'SOP',\n",
       "       'LOR ', 'CGPA', 'Research', 'Chance of Admit '],\n",
       "      dtype='object')"
      ]
     },
     "execution_count": 71,
     "metadata": {},
     "output_type": "execute_result"
    }
   ],
   "source": [
    "print(data2)\n",
    "data2.columns"
   ]
  },
  {
   "cell_type": "markdown",
   "metadata": {},
   "source": [
    "#### I have copied the data to data2. data2 has same attributes as that of data. we use copy method in order not to disrupt original data set."
   ]
  },
  {
   "cell_type": "code",
   "execution_count": null,
   "metadata": {},
   "outputs": [],
   "source": []
  }
 ],
 "metadata": {
  "kernelspec": {
   "display_name": "Python 3",
   "language": "python",
   "name": "python3"
  },
  "language_info": {
   "codemirror_mode": {
    "name": "ipython",
    "version": 3
   },
   "file_extension": ".py",
   "mimetype": "text/x-python",
   "name": "python",
   "nbconvert_exporter": "python",
   "pygments_lexer": "ipython3",
   "version": "3.7.1"
  }
 },
 "nbformat": 4,
 "nbformat_minor": 2
}
