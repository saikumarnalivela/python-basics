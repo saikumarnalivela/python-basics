{
 "cells": [
  {
   "cell_type": "markdown",
   "metadata": {},
   "source": [
    "### Falt files are the simple text files which have no struture and basically every line in the flat file is record in the database."
   ]
  },
  {
   "cell_type": "code",
   "execution_count": 2,
   "metadata": {},
   "outputs": [],
   "source": [
    "## Openibg the flatfile iwth open command"
   ]
  },
  {
   "cell_type": "code",
   "execution_count": 3,
   "metadata": {},
   "outputs": [],
   "source": [
    "data = open('flatfile.txt')"
   ]
  },
  {
   "cell_type": "code",
   "execution_count": 4,
   "metadata": {},
   "outputs": [
    {
     "data": {
      "text/plain": [
       "<_io.TextIOWrapper name='flatfile.txt' mode='r' encoding='cp1252'>"
      ]
     },
     "execution_count": 4,
     "metadata": {},
     "output_type": "execute_result"
    }
   ],
   "source": [
    "data"
   ]
  },
  {
   "cell_type": "code",
   "execution_count": 5,
   "metadata": {},
   "outputs": [
    {
     "data": {
      "text/plain": [
       "_io.TextIOWrapper"
      ]
     },
     "execution_count": 5,
     "metadata": {},
     "output_type": "execute_result"
    }
   ],
   "source": [
    "type(data\n",
    "    )"
   ]
  },
  {
   "cell_type": "code",
   "execution_count": 6,
   "metadata": {},
   "outputs": [
    {
     "data": {
      "text/plain": [
       "'1/6/18\\tEast\\tJones\\tPencil\\t95\\t 1.99 \\t 189.05 \\n'"
      ]
     },
     "execution_count": 6,
     "metadata": {},
     "output_type": "execute_result"
    }
   ],
   "source": [
    "data.readline()"
   ]
  },
  {
   "cell_type": "code",
   "execution_count": 7,
   "metadata": {},
   "outputs": [
    {
     "name": "stdout",
     "output_type": "stream",
     "text": [
      "1/23/18\tCentral\tKivell\tBinder\t50\t 19.99 \t 999.50 \n",
      "\n",
      "2/9/18\tCentral\tJardine\tPencil\t36\t 4.99 \t 179.64 \n",
      "\n",
      "2/26/18\tCentral\tGill\tPen\t27\t 19.99 \t 539.73 \n",
      "\n",
      "3/15/18\tWest\tSorvino\tPencil\t56\t 2.99 \t 167.44 \n",
      "\n",
      "4/1/18\tEast\tJones\tBinder\t60\t 4.99 \t 299.40 \n",
      "\n",
      "4/18/18\tCentral\tAndrews\tPencil\t75\t 1.99 \t 149.25 \n",
      "\n",
      "5/5/18\tCentral\tJardine\tPencil\t90\t 4.99 \t 449.10 \n",
      "\n",
      "5/22/18\tWest\tThompson\tPencil\t32\t 1.99 \t 63.68 \n",
      "\n",
      "6/8/18\tEast\tJones\tBinder\t60\t 8.99 \t 539.40 \n",
      "\n",
      "6/25/18\tCentral\tMorgan\tPencil\t90\t 4.99 \t 449.10 \n",
      "\n",
      "7/12/18\tEast\tHoward\tBinder\t29\t 1.99 \t 57.71 \n",
      "\n",
      "7/29/18\tEast\tParent\tBinder\t81\t 19.99 \t 1,619.19 \n",
      "\n",
      "8/15/18\tEast\tJones\tPencil\t35\t 4.99 \t 174.65 \n",
      "\n",
      "9/1/18\tCentral\tSmith\tDesk\t2\t 125.00 \t 250.00 \n",
      "\n",
      "9/18/18\tEast\tJones\tPen Set\t16\t 15.99 \t 255.84 \n",
      "\n",
      "10/5/18\tCentral\tMorgan\tBinder\t28\t 8.99 \t 251.72 \n",
      "\n",
      "10/22/18\tEast\tJones\tPen\t64\t 8.99 \t 575.36 \n",
      "\n",
      "11/8/18\tEast\tParent\tPen\t15\t 19.99 \t 299.85 \n",
      "\n",
      "11/25/18\tCentral\tKivell\tPen Set\t96\t 4.99 \t 479.04 \n",
      "\n",
      "12/12/18\tCentral\tSmith\tPencil\t67\t 1.29 \t 86.43 \n",
      "\n",
      "12/29/18\tEast\tParent\tPen Set\t74\t 15.99 \t 1,183.26 \n",
      "\n",
      "1/15/19\tCentral\tGill\tBinder\t46\t 8.99 \t 413.54 \n",
      "\n",
      "2/1/19\tCentral\tSmith\tBinder\t87\t 15.00 \t 1,305.00 \n",
      "\n",
      "2/18/19\tEast\tJones\tBinder\t4\t 4.99 \t 19.96 \n",
      "\n",
      "3/7/19\tWest\tSorvino\tBinder\t7\t 19.99 \t 139.93 \n",
      "\n",
      "3/24/19\tCentral\tJardine\tPen Set\t50\t 4.99 \t 249.50 \n",
      "\n",
      "4/10/19\tCentral\tAndrews\tPencil\t66\t 1.99 \t 131.34 \n",
      "\n",
      "4/27/19\tEast\tHoward\tPen\t96\t 4.99 \t 479.04 \n",
      "\n",
      "5/14/19\tCentral\tGill\tPencil\t53\t 1.29 \t 68.37 \n",
      "\n",
      "5/31/19\tCentral\tGill\tBinder\t80\t 8.99 \t 719.20 \n",
      "\n",
      "6/17/19\tCentral\tKivell\tDesk\t5\t 125.00 \t 625.00 \n",
      "\n",
      "7/4/19\tEast\tJones\tPen Set\t62\t 4.99 \t 309.38 \n",
      "\n",
      "7/21/19\tCentral\tMorgan\tPen Set\t55\t 12.49 \t 686.95 \n",
      "\n",
      "8/7/19\tCentral\tKivell\tPen Set\t42\t 23.95 \t 1,005.90 \n",
      "\n",
      "8/24/19\tWest\tSorvino\tDesk\t3\t 275.00 \t 825.00 \n",
      "\n",
      "9/10/19\tCentral\tGill\tPencil\t7\t 1.29 \t 9.03 \n",
      "\n",
      "9/27/19\tWest\tSorvino\tPen\t76\t 1.99 \t 151.24 \n",
      "\n",
      "10/14/19\tWest\tThompson\tBinder\t57\t 19.99 \t 1,139.43 \n",
      "\n",
      "10/31/19\tCentral\tAndrews\tPencil\t14\t 1.29 \t 18.06 \n",
      "\n",
      "11/17/19\tCentral\tJardine\tBinder\t11\t 4.99 \t 54.89 \n",
      "\n",
      "12/4/19\tCentral\tJardine\tBinder\t94\t 19.99 \t 1,879.06 \n",
      "\n",
      "12/21/19\tCentral\tAndrews\tBinder\t28\t 4.99 \t 139.72 \n",
      "\n"
     ]
    }
   ],
   "source": [
    "for i in data:\n",
    "    print(i)"
   ]
  },
  {
   "cell_type": "code",
   "execution_count": 8,
   "metadata": {},
   "outputs": [
    {
     "data": {
      "text/plain": [
       "False"
      ]
     },
     "execution_count": 8,
     "metadata": {},
     "output_type": "execute_result"
    }
   ],
   "source": [
    "data.closed"
   ]
  },
  {
   "cell_type": "code",
   "execution_count": 9,
   "metadata": {},
   "outputs": [],
   "source": [
    "## we do have closed attribute which tell us whether the file is closed or not"
   ]
  },
  {
   "cell_type": "code",
   "execution_count": 10,
   "metadata": {},
   "outputs": [],
   "source": [
    "data.close()"
   ]
  },
  {
   "cell_type": "code",
   "execution_count": 11,
   "metadata": {},
   "outputs": [
    {
     "data": {
      "text/plain": [
       "<_io.TextIOWrapper name='flatfile.txt' mode='r' encoding='cp1252'>"
      ]
     },
     "execution_count": 11,
     "metadata": {},
     "output_type": "execute_result"
    }
   ],
   "source": [
    "data"
   ]
  },
  {
   "cell_type": "code",
   "execution_count": 12,
   "metadata": {},
   "outputs": [
    {
     "data": {
      "text/plain": [
       "<_io.TextIOWrapper name='flatfile.txt' mode='r' encoding='cp1252'>"
      ]
     },
     "execution_count": 12,
     "metadata": {},
     "output_type": "execute_result"
    }
   ],
   "source": [
    "data"
   ]
  },
  {
   "cell_type": "code",
   "execution_count": 13,
   "metadata": {},
   "outputs": [
    {
     "name": "stdout",
     "output_type": "stream",
     "text": [
      "Object `with` not found.\n"
     ]
    }
   ],
   "source": [
    "with?"
   ]
  },
  {
   "cell_type": "code",
   "execution_count": 15,
   "metadata": {},
   "outputs": [
    {
     "name": "stdout",
     "output_type": "stream",
     "text": [
      "['1/6/18\\tEast\\tJones\\tPencil\\t95\\t 1.99 \\t 189.05 \\n', '1/23/18\\tCentral\\tKivell\\tBinder\\t50\\t 19.99 \\t 999.50 \\n', '2/9/18\\tCentral\\tJardine\\tPencil\\t36\\t 4.99 \\t 179.64 \\n', '2/26/18\\tCentral\\tGill\\tPen\\t27\\t 19.99 \\t 539.73 \\n', '3/15/18\\tWest\\tSorvino\\tPencil\\t56\\t 2.99 \\t 167.44 \\n', '4/1/18\\tEast\\tJones\\tBinder\\t60\\t 4.99 \\t 299.40 \\n', '4/18/18\\tCentral\\tAndrews\\tPencil\\t75\\t 1.99 \\t 149.25 \\n', '5/5/18\\tCentral\\tJardine\\tPencil\\t90\\t 4.99 \\t 449.10 \\n', '5/22/18\\tWest\\tThompson\\tPencil\\t32\\t 1.99 \\t 63.68 \\n', '6/8/18\\tEast\\tJones\\tBinder\\t60\\t 8.99 \\t 539.40 \\n', '6/25/18\\tCentral\\tMorgan\\tPencil\\t90\\t 4.99 \\t 449.10 \\n', '7/12/18\\tEast\\tHoward\\tBinder\\t29\\t 1.99 \\t 57.71 \\n', '7/29/18\\tEast\\tParent\\tBinder\\t81\\t 19.99 \\t 1,619.19 \\n', '8/15/18\\tEast\\tJones\\tPencil\\t35\\t 4.99 \\t 174.65 \\n', '9/1/18\\tCentral\\tSmith\\tDesk\\t2\\t 125.00 \\t 250.00 \\n', '9/18/18\\tEast\\tJones\\tPen Set\\t16\\t 15.99 \\t 255.84 \\n', '10/5/18\\tCentral\\tMorgan\\tBinder\\t28\\t 8.99 \\t 251.72 \\n', '10/22/18\\tEast\\tJones\\tPen\\t64\\t 8.99 \\t 575.36 \\n', '11/8/18\\tEast\\tParent\\tPen\\t15\\t 19.99 \\t 299.85 \\n', '11/25/18\\tCentral\\tKivell\\tPen Set\\t96\\t 4.99 \\t 479.04 \\n', '12/12/18\\tCentral\\tSmith\\tPencil\\t67\\t 1.29 \\t 86.43 \\n', '12/29/18\\tEast\\tParent\\tPen Set\\t74\\t 15.99 \\t 1,183.26 \\n', '1/15/19\\tCentral\\tGill\\tBinder\\t46\\t 8.99 \\t 413.54 \\n', '2/1/19\\tCentral\\tSmith\\tBinder\\t87\\t 15.00 \\t 1,305.00 \\n', '2/18/19\\tEast\\tJones\\tBinder\\t4\\t 4.99 \\t 19.96 \\n', '3/7/19\\tWest\\tSorvino\\tBinder\\t7\\t 19.99 \\t 139.93 \\n', '3/24/19\\tCentral\\tJardine\\tPen Set\\t50\\t 4.99 \\t 249.50 \\n', '4/10/19\\tCentral\\tAndrews\\tPencil\\t66\\t 1.99 \\t 131.34 \\n', '4/27/19\\tEast\\tHoward\\tPen\\t96\\t 4.99 \\t 479.04 \\n', '5/14/19\\tCentral\\tGill\\tPencil\\t53\\t 1.29 \\t 68.37 \\n', '5/31/19\\tCentral\\tGill\\tBinder\\t80\\t 8.99 \\t 719.20 \\n', '6/17/19\\tCentral\\tKivell\\tDesk\\t5\\t 125.00 \\t 625.00 \\n', '7/4/19\\tEast\\tJones\\tPen Set\\t62\\t 4.99 \\t 309.38 \\n', '7/21/19\\tCentral\\tMorgan\\tPen Set\\t55\\t 12.49 \\t 686.95 \\n', '8/7/19\\tCentral\\tKivell\\tPen Set\\t42\\t 23.95 \\t 1,005.90 \\n', '8/24/19\\tWest\\tSorvino\\tDesk\\t3\\t 275.00 \\t 825.00 \\n', '9/10/19\\tCentral\\tGill\\tPencil\\t7\\t 1.29 \\t 9.03 \\n', '9/27/19\\tWest\\tSorvino\\tPen\\t76\\t 1.99 \\t 151.24 \\n', '10/14/19\\tWest\\tThompson\\tBinder\\t57\\t 19.99 \\t 1,139.43 \\n', '10/31/19\\tCentral\\tAndrews\\tPencil\\t14\\t 1.29 \\t 18.06 \\n', '11/17/19\\tCentral\\tJardine\\tBinder\\t11\\t 4.99 \\t 54.89 \\n', '12/4/19\\tCentral\\tJardine\\tBinder\\t94\\t 19.99 \\t 1,879.06 \\n', '12/21/19\\tCentral\\tAndrews\\tBinder\\t28\\t 4.99 \\t 139.72 \\n']\n"
     ]
    }
   ],
   "source": [
    "with open('flatfile.txt') as file:\n",
    "    print(file.readlines())"
   ]
  },
  {
   "cell_type": "code",
   "execution_count": 16,
   "metadata": {},
   "outputs": [],
   "source": [
    "## We can use with command to open a flat file and create an object to it."
   ]
  },
  {
   "cell_type": "code",
   "execution_count": null,
   "metadata": {},
   "outputs": [],
   "source": []
  }
 ],
 "metadata": {
  "kernelspec": {
   "display_name": "Python 3",
   "language": "python",
   "name": "python3"
  },
  "language_info": {
   "codemirror_mode": {
    "name": "ipython",
    "version": 3
   },
   "file_extension": ".py",
   "mimetype": "text/x-python",
   "name": "python",
   "nbconvert_exporter": "python",
   "pygments_lexer": "ipython3",
   "version": "3.7.4"
  }
 },
 "nbformat": 4,
 "nbformat_minor": 2
}
