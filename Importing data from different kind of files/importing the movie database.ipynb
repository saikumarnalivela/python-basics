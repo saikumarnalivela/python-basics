{
 "cells": [
  {
   "cell_type": "code",
   "execution_count": 1,
   "metadata": {},
   "outputs": [],
   "source": [
    "import requests "
   ]
  },
  {
   "cell_type": "code",
   "execution_count": 30,
   "metadata": {},
   "outputs": [],
   "source": [
    "url = 'http://www.omdbapi.com/?i=tt3896198&apikey=739b4c52&t=telugu&type=movie&r'"
   ]
  },
  {
   "cell_type": "code",
   "execution_count": 31,
   "metadata": {},
   "outputs": [],
   "source": [
    "data = requests.get(url)"
   ]
  },
  {
   "cell_type": "code",
   "execution_count": 32,
   "metadata": {},
   "outputs": [
    {
     "data": {
      "text/plain": [
       "<Response [200]>"
      ]
     },
     "execution_count": 32,
     "metadata": {},
     "output_type": "execute_result"
    }
   ],
   "source": [
    "data"
   ]
  },
  {
   "cell_type": "code",
   "execution_count": 33,
   "metadata": {},
   "outputs": [
    {
     "data": {
      "text/plain": [
       "'{\"Title\":\"1st Rank Raju (Telugu)\",\"Year\":\"2019\",\"Rated\":\"N/A\",\"Released\":\"21 Jun 2019\",\"Runtime\":\"N/A\",\"Genre\":\"Comedy, Drama, Romance\",\"Director\":\"Naresh Kumar\",\"Writer\":\"N/A\",\"Actors\":\"Vennela Kishore, Chetan Maddineni, Kashish Vora\",\"Plot\":\"Raju is an engineering student who is obsessed with academics and very little else. When he is eventually forced to face the real world that lies beyond books, Raju stumbles on to a long ...\",\"Language\":\"Telugu\",\"Country\":\"India\",\"Awards\":\"N/A\",\"Poster\":\"https://m.media-amazon.com/images/M/MV5BNmRmNTVkYWQtNmI3ZC00ZDhiLTk1NWQtMGZmYjIxYTk0YzYyXkEyXkFqcGdeQXVyMTA0NzIyMDc1._V1_SX300.jpg\",\"Ratings\":[{\"Source\":\"Internet Movie Database\",\"Value\":\"6.2/10\"}],\"Metascore\":\"N/A\",\"imdbRating\":\"6.2\",\"imdbVotes\":\"25\",\"imdbID\":\"tt10540150\",\"Type\":\"movie\",\"DVD\":\"N/A\",\"BoxOffice\":\"N/A\",\"Production\":\"N/A\",\"Website\":\"N/A\",\"Response\":\"True\"}'"
      ]
     },
     "execution_count": 33,
     "metadata": {},
     "output_type": "execute_result"
    }
   ],
   "source": [
    "data.text"
   ]
  },
  {
   "cell_type": "code",
   "execution_count": 11,
   "metadata": {},
   "outputs": [],
   "source": [
    "from bs4 import BeautifulSoup"
   ]
  },
  {
   "cell_type": "code",
   "execution_count": 17,
   "metadata": {},
   "outputs": [],
   "source": [
    "d = BeautifulSoup(data.text,'lxml')"
   ]
  },
  {
   "cell_type": "code",
   "execution_count": 20,
   "metadata": {},
   "outputs": [
    {
     "name": "stdout",
     "output_type": "stream",
     "text": [
      "<bound method Response.json of <Response [200]>>\n"
     ]
    }
   ],
   "source": [
    "print(data.json)"
   ]
  },
  {
   "cell_type": "code",
   "execution_count": 34,
   "metadata": {},
   "outputs": [
    {
     "data": {
      "text/plain": [
       "{'Date': 'Mon, 23 Dec 2019 17:29:25 GMT', 'Content-Type': 'application/json; charset=utf-8', 'Transfer-Encoding': 'chunked', 'Connection': 'keep-alive', 'Set-Cookie': '__cfduid=d69f1168a84a8c508c8534fe4fba8440a1577122165; expires=Wed, 22-Jan-20 17:29:25 GMT; path=/; domain=.omdbapi.com; HttpOnly; SameSite=Lax', 'Cache-Control': 'public, max-age=86400', 'Expires': 'Mon, 23 Dec 2019 18:29:25 GMT', 'Last-Modified': 'Mon, 23 Dec 2019 17:29:25 GMT', 'Vary': '*, Accept-Encoding', 'X-AspNet-Version': '4.0.30319', 'X-Powered-By': 'ASP.NET', 'Access-Control-Allow-Origin': '*', 'CF-Cache-Status': 'MISS', 'Server': 'cloudflare', 'CF-RAY': '549c0ec02bebb9e0-ATL', 'Content-Encoding': 'gzip'}"
      ]
     },
     "execution_count": 34,
     "metadata": {},
     "output_type": "execute_result"
    }
   ],
   "source": [
    "data.headers"
   ]
  },
  {
   "cell_type": "code",
   "execution_count": 35,
   "metadata": {},
   "outputs": [
    {
     "data": {
      "text/plain": [
       "[]"
      ]
     },
     "execution_count": 35,
     "metadata": {},
     "output_type": "execute_result"
    }
   ],
   "source": [
    "data.history"
   ]
  },
  {
   "cell_type": "code",
   "execution_count": 36,
   "metadata": {},
   "outputs": [
    {
     "data": {
      "text/plain": [
       "<bound method Response.json of <Response [200]>>"
      ]
     },
     "execution_count": 36,
     "metadata": {},
     "output_type": "execute_result"
    }
   ],
   "source": [
    "data.json"
   ]
  },
  {
   "cell_type": "code",
   "execution_count": 39,
   "metadata": {},
   "outputs": [],
   "source": [
    "import json"
   ]
  },
  {
   "cell_type": "code",
   "execution_count": 42,
   "metadata": {},
   "outputs": [
    {
     "ename": "AttributeError",
     "evalue": "'Response' object has no attribute 'read'",
     "output_type": "error",
     "traceback": [
      "\u001b[1;31m---------------------------------------------------------------------------\u001b[0m",
      "\u001b[1;31mAttributeError\u001b[0m                            Traceback (most recent call last)",
      "\u001b[1;32m<ipython-input-42-d6d5174df2e8>\u001b[0m in \u001b[0;36m<module>\u001b[1;34m\u001b[0m\n\u001b[1;32m----> 1\u001b[1;33m \u001b[0mj\u001b[0m \u001b[1;33m=\u001b[0m \u001b[0mjson\u001b[0m\u001b[1;33m.\u001b[0m\u001b[0mload\u001b[0m\u001b[1;33m(\u001b[0m\u001b[0mdata\u001b[0m\u001b[1;33m)\u001b[0m\u001b[1;33m\u001b[0m\u001b[1;33m\u001b[0m\u001b[0m\n\u001b[0m",
      "\u001b[1;32m~\\Anaconda3\\lib\\json\\__init__.py\u001b[0m in \u001b[0;36mload\u001b[1;34m(fp, cls, object_hook, parse_float, parse_int, parse_constant, object_pairs_hook, **kw)\u001b[0m\n\u001b[0;32m    291\u001b[0m     \u001b[0mkwarg\u001b[0m\u001b[1;33m;\u001b[0m \u001b[0motherwise\u001b[0m\u001b[0;31m \u001b[0m\u001b[0;31m`\u001b[0m\u001b[0;31m`\u001b[0m\u001b[0mJSONDecoder\u001b[0m\u001b[0;31m`\u001b[0m\u001b[0;31m`\u001b[0m \u001b[1;32mis\u001b[0m \u001b[0mused\u001b[0m\u001b[1;33m.\u001b[0m\u001b[1;33m\u001b[0m\u001b[1;33m\u001b[0m\u001b[0m\n\u001b[0;32m    292\u001b[0m     \"\"\"\n\u001b[1;32m--> 293\u001b[1;33m     return loads(fp.read(),\n\u001b[0m\u001b[0;32m    294\u001b[0m         \u001b[0mcls\u001b[0m\u001b[1;33m=\u001b[0m\u001b[0mcls\u001b[0m\u001b[1;33m,\u001b[0m \u001b[0mobject_hook\u001b[0m\u001b[1;33m=\u001b[0m\u001b[0mobject_hook\u001b[0m\u001b[1;33m,\u001b[0m\u001b[1;33m\u001b[0m\u001b[1;33m\u001b[0m\u001b[0m\n\u001b[0;32m    295\u001b[0m         \u001b[0mparse_float\u001b[0m\u001b[1;33m=\u001b[0m\u001b[0mparse_float\u001b[0m\u001b[1;33m,\u001b[0m \u001b[0mparse_int\u001b[0m\u001b[1;33m=\u001b[0m\u001b[0mparse_int\u001b[0m\u001b[1;33m,\u001b[0m\u001b[1;33m\u001b[0m\u001b[1;33m\u001b[0m\u001b[0m\n",
      "\u001b[1;31mAttributeError\u001b[0m: 'Response' object has no attribute 'read'"
     ]
    }
   ],
   "source": [
    "j = json.load(data)"
   ]
  },
  {
   "cell_type": "code",
   "execution_count": 43,
   "metadata": {},
   "outputs": [
    {
     "data": {
      "text/plain": [
       "{}"
      ]
     },
     "execution_count": 43,
     "metadata": {},
     "output_type": "execute_result"
    }
   ],
   "source": [
    "data.links"
   ]
  },
  {
   "cell_type": "code",
   "execution_count": 44,
   "metadata": {},
   "outputs": [
    {
     "data": {
      "text/plain": [
       "<urllib3.response.HTTPResponse at 0x1ddb4d31448>"
      ]
     },
     "execution_count": 44,
     "metadata": {},
     "output_type": "execute_result"
    }
   ],
   "source": [
    "data.raw"
   ]
  },
  {
   "cell_type": "code",
   "execution_count": 47,
   "metadata": {},
   "outputs": [
    {
     "data": {
      "text/plain": [
       "'{\"Title\":\"1st Rank Raju (Telugu)\",\"Year\":\"2019\",\"Rated\":\"N/A\",\"Released\":\"21 Jun 2019\",\"Runtime\":\"N/A\",\"Genre\":\"Comedy, Drama, Romance\",\"Director\":\"Naresh Kumar\",\"Writer\":\"N/A\",\"Actors\":\"Vennela Kishore, Chetan Maddineni, Kashish Vora\",\"Plot\":\"Raju is an engineering student who is obsessed with academics and very little else. When he is eventually forced to face the real world that lies beyond books, Raju stumbles on to a long ...\",\"Language\":\"Telugu\",\"Country\":\"India\",\"Awards\":\"N/A\",\"Poster\":\"https://m.media-amazon.com/images/M/MV5BNmRmNTVkYWQtNmI3ZC00ZDhiLTk1NWQtMGZmYjIxYTk0YzYyXkEyXkFqcGdeQXVyMTA0NzIyMDc1._V1_SX300.jpg\",\"Ratings\":[{\"Source\":\"Internet Movie Database\",\"Value\":\"6.2/10\"}],\"Metascore\":\"N/A\",\"imdbRating\":\"6.2\",\"imdbVotes\":\"25\",\"imdbID\":\"tt10540150\",\"Type\":\"movie\",\"DVD\":\"N/A\",\"BoxOffice\":\"N/A\",\"Production\":\"N/A\",\"Website\":\"N/A\",\"Response\":\"True\"}'"
      ]
     },
     "execution_count": 47,
     "metadata": {},
     "output_type": "execute_result"
    }
   ],
   "source": [
    "data.text"
   ]
  },
  {
   "cell_type": "code",
   "execution_count": 48,
   "metadata": {},
   "outputs": [],
   "source": [
    "b = BeautifulSoup(data.text)"
   ]
  },
  {
   "cell_type": "code",
   "execution_count": 50,
   "metadata": {},
   "outputs": [
    {
     "data": {
      "text/plain": [
       "<bound method Tag.prettify of <html><body><p>{\"Title\":\"1st Rank Raju (Telugu)\",\"Year\":\"2019\",\"Rated\":\"N/A\",\"Released\":\"21 Jun 2019\",\"Runtime\":\"N/A\",\"Genre\":\"Comedy, Drama, Romance\",\"Director\":\"Naresh Kumar\",\"Writer\":\"N/A\",\"Actors\":\"Vennela Kishore, Chetan Maddineni, Kashish Vora\",\"Plot\":\"Raju is an engineering student who is obsessed with academics and very little else. When he is eventually forced to face the real world that lies beyond books, Raju stumbles on to a long ...\",\"Language\":\"Telugu\",\"Country\":\"India\",\"Awards\":\"N/A\",\"Poster\":\"https://m.media-amazon.com/images/M/MV5BNmRmNTVkYWQtNmI3ZC00ZDhiLTk1NWQtMGZmYjIxYTk0YzYyXkEyXkFqcGdeQXVyMTA0NzIyMDc1._V1_SX300.jpg\",\"Ratings\":[{\"Source\":\"Internet Movie Database\",\"Value\":\"6.2/10\"}],\"Metascore\":\"N/A\",\"imdbRating\":\"6.2\",\"imdbVotes\":\"25\",\"imdbID\":\"tt10540150\",\"Type\":\"movie\",\"DVD\":\"N/A\",\"BoxOffice\":\"N/A\",\"Production\":\"N/A\",\"Website\":\"N/A\",\"Response\":\"True\"}</p></body></html>>"
      ]
     },
     "execution_count": 50,
     "metadata": {},
     "output_type": "execute_result"
    }
   ],
   "source": [
    "b.prettify"
   ]
  },
  {
   "cell_type": "code",
   "execution_count": 55,
   "metadata": {},
   "outputs": [],
   "source": [
    "r = data.json()"
   ]
  },
  {
   "cell_type": "code",
   "execution_count": 56,
   "metadata": {},
   "outputs": [
    {
     "data": {
      "text/plain": [
       "{'Title': '1st Rank Raju (Telugu)',\n",
       " 'Year': '2019',\n",
       " 'Rated': 'N/A',\n",
       " 'Released': '21 Jun 2019',\n",
       " 'Runtime': 'N/A',\n",
       " 'Genre': 'Comedy, Drama, Romance',\n",
       " 'Director': 'Naresh Kumar',\n",
       " 'Writer': 'N/A',\n",
       " 'Actors': 'Vennela Kishore, Chetan Maddineni, Kashish Vora',\n",
       " 'Plot': 'Raju is an engineering student who is obsessed with academics and very little else. When he is eventually forced to face the real world that lies beyond books, Raju stumbles on to a long ...',\n",
       " 'Language': 'Telugu',\n",
       " 'Country': 'India',\n",
       " 'Awards': 'N/A',\n",
       " 'Poster': 'https://m.media-amazon.com/images/M/MV5BNmRmNTVkYWQtNmI3ZC00ZDhiLTk1NWQtMGZmYjIxYTk0YzYyXkEyXkFqcGdeQXVyMTA0NzIyMDc1._V1_SX300.jpg',\n",
       " 'Ratings': [{'Source': 'Internet Movie Database', 'Value': '6.2/10'}],\n",
       " 'Metascore': 'N/A',\n",
       " 'imdbRating': '6.2',\n",
       " 'imdbVotes': '25',\n",
       " 'imdbID': 'tt10540150',\n",
       " 'Type': 'movie',\n",
       " 'DVD': 'N/A',\n",
       " 'BoxOffice': 'N/A',\n",
       " 'Production': 'N/A',\n",
       " 'Website': 'N/A',\n",
       " 'Response': 'True'}"
      ]
     },
     "execution_count": 56,
     "metadata": {},
     "output_type": "execute_result"
    }
   ],
   "source": [
    "r\n"
   ]
  },
  {
   "cell_type": "code",
   "execution_count": 58,
   "metadata": {},
   "outputs": [
    {
     "ename": "TypeError",
     "evalue": "string indices must be integers",
     "output_type": "error",
     "traceback": [
      "\u001b[1;31m---------------------------------------------------------------------------\u001b[0m",
      "\u001b[1;31mTypeError\u001b[0m                                 Traceback (most recent call last)",
      "\u001b[1;32m<ipython-input-58-e705a86371de>\u001b[0m in \u001b[0;36m<module>\u001b[1;34m\u001b[0m\n\u001b[1;32m----> 1\u001b[1;33m \u001b[0mr\u001b[0m\u001b[1;33m[\u001b[0m\u001b[1;34m'Title'\u001b[0m\u001b[1;33m]\u001b[0m\u001b[1;33m[\u001b[0m\u001b[1;34m'Plot'\u001b[0m\u001b[1;33m]\u001b[0m\u001b[1;33m\u001b[0m\u001b[1;33m\u001b[0m\u001b[0m\n\u001b[0m",
      "\u001b[1;31mTypeError\u001b[0m: string indices must be integers"
     ]
    }
   ],
   "source": [
    "r['Title']['Plot']"
   ]
  },
  {
   "cell_type": "code",
   "execution_count": 60,
   "metadata": {},
   "outputs": [
    {
     "data": {
      "text/plain": [
       "{'Title': '1st Rank Raju (Telugu)',\n",
       " 'Year': '2019',\n",
       " 'Rated': 'N/A',\n",
       " 'Released': '21 Jun 2019',\n",
       " 'Runtime': 'N/A',\n",
       " 'Genre': 'Comedy, Drama, Romance',\n",
       " 'Director': 'Naresh Kumar',\n",
       " 'Writer': 'N/A',\n",
       " 'Actors': 'Vennela Kishore, Chetan Maddineni, Kashish Vora',\n",
       " 'Plot': 'Raju is an engineering student who is obsessed with academics and very little else. When he is eventually forced to face the real world that lies beyond books, Raju stumbles on to a long ...',\n",
       " 'Language': 'Telugu',\n",
       " 'Country': 'India',\n",
       " 'Awards': 'N/A',\n",
       " 'Poster': 'https://m.media-amazon.com/images/M/MV5BNmRmNTVkYWQtNmI3ZC00ZDhiLTk1NWQtMGZmYjIxYTk0YzYyXkEyXkFqcGdeQXVyMTA0NzIyMDc1._V1_SX300.jpg',\n",
       " 'Ratings': [{'Source': 'Internet Movie Database', 'Value': '6.2/10'}],\n",
       " 'Metascore': 'N/A',\n",
       " 'imdbRating': '6.2',\n",
       " 'imdbVotes': '25',\n",
       " 'imdbID': 'tt10540150',\n",
       " 'Type': 'movie',\n",
       " 'DVD': 'N/A',\n",
       " 'BoxOffice': 'N/A',\n",
       " 'Production': 'N/A',\n",
       " 'Website': 'N/A',\n",
       " 'Response': 'True'}"
      ]
     },
     "execution_count": 60,
     "metadata": {},
     "output_type": "execute_result"
    }
   ],
   "source": [
    "data.json()"
   ]
  },
  {
   "cell_type": "markdown",
   "metadata": {},
   "source": [
    "### api -- Application program interface is bridge between to applications which excahnge data in thr form of json and xml"
   ]
  },
  {
   "cell_type": "markdown",
   "metadata": {},
   "source": [
    "# First we will be using the requests module to get the data from any api or website.\n",
    "## We will be using the get mothod from requests module to get data"
   ]
  },
  {
   "cell_type": "markdown",
   "metadata": {},
   "source": [
    "### coberting the data from text format to json format with help of json() methid avaialbe and then convert the data into dataframe."
   ]
  },
  {
   "cell_type": "code",
   "execution_count": 114,
   "metadata": {},
   "outputs": [],
   "source": [
    "import requests\n",
    "url = 'http://www.omdbapi.com/?i=tt3896198&apikey=739b4c52&type=movie&y=2019'\n",
    "data = requests.get(url)"
   ]
  },
  {
   "cell_type": "code",
   "execution_count": 115,
   "metadata": {},
   "outputs": [
    {
     "data": {
      "text/plain": [
       "<Response [200]>"
      ]
     },
     "execution_count": 115,
     "metadata": {},
     "output_type": "execute_result"
    }
   ],
   "source": [
    "data"
   ]
  },
  {
   "cell_type": "code",
   "execution_count": 120,
   "metadata": {},
   "outputs": [],
   "source": [
    "xdata = data.json()"
   ]
  },
  {
   "cell_type": "code",
   "execution_count": 121,
   "metadata": {},
   "outputs": [
    {
     "data": {
      "text/plain": [
       "{'Title': 'Guardians of the Galaxy Vol. 2',\n",
       " 'Year': '2017',\n",
       " 'Rated': 'PG-13',\n",
       " 'Released': '05 May 2017',\n",
       " 'Runtime': '136 min',\n",
       " 'Genre': 'Action, Adventure, Comedy, Sci-Fi',\n",
       " 'Director': 'James Gunn',\n",
       " 'Writer': 'James Gunn, Dan Abnett (based on the Marvel comics by), Andy Lanning (based on the Marvel comics by), Steve Englehart (Star-Lord created by), Steve Gan (Star-Lord created by), Jim Starlin (Gamora and Drax created by), Stan Lee (Groot created by), Larry Lieber (Groot created by), Jack Kirby (Groot created by), Bill Mantlo (Rocket Raccoon created by), Keith Giffen (Rocket Raccoon created by), Steve Gerber (Howard the Duck created by), Val Mayerik (Howard the Duck created by)',\n",
       " 'Actors': 'Chris Pratt, Zoe Saldana, Dave Bautista, Vin Diesel',\n",
       " 'Plot': \"The Guardians struggle to keep together as a team while dealing with their personal family issues, notably Star-Lord's encounter with his father the ambitious celestial being Ego.\",\n",
       " 'Language': 'English',\n",
       " 'Country': 'USA',\n",
       " 'Awards': 'Nominated for 1 Oscar. Another 12 wins & 42 nominations.',\n",
       " 'Poster': 'https://m.media-amazon.com/images/M/MV5BNjM0NTc0NzItM2FlYS00YzEwLWE0YmUtNTA2ZWIzODc2OTgxXkEyXkFqcGdeQXVyNTgwNzIyNzg@._V1_SX300.jpg',\n",
       " 'Ratings': [{'Source': 'Internet Movie Database', 'Value': '7.6/10'},\n",
       "  {'Source': 'Rotten Tomatoes', 'Value': '84%'},\n",
       "  {'Source': 'Metacritic', 'Value': '67/100'}],\n",
       " 'Metascore': '67',\n",
       " 'imdbRating': '7.6',\n",
       " 'imdbVotes': '513,275',\n",
       " 'imdbID': 'tt3896198',\n",
       " 'Type': 'movie',\n",
       " 'DVD': '22 Aug 2017',\n",
       " 'BoxOffice': '$389,804,217',\n",
       " 'Production': 'Walt Disney Pictures',\n",
       " 'Website': 'N/A',\n",
       " 'Response': 'True'}"
      ]
     },
     "execution_count": 121,
     "metadata": {},
     "output_type": "execute_result"
    }
   ],
   "source": [
    "xdata"
   ]
  },
  {
   "cell_type": "code",
   "execution_count": 122,
   "metadata": {},
   "outputs": [],
   "source": [
    "import pandas as pd"
   ]
  },
  {
   "cell_type": "code",
   "execution_count": 123,
   "metadata": {},
   "outputs": [],
   "source": [
    "d = pd.DataFrame(xdata)"
   ]
  },
  {
   "cell_type": "code",
   "execution_count": 124,
   "metadata": {},
   "outputs": [
    {
     "data": {
      "text/html": [
       "<div>\n",
       "<style scoped>\n",
       "    .dataframe tbody tr th:only-of-type {\n",
       "        vertical-align: middle;\n",
       "    }\n",
       "\n",
       "    .dataframe tbody tr th {\n",
       "        vertical-align: top;\n",
       "    }\n",
       "\n",
       "    .dataframe thead th {\n",
       "        text-align: right;\n",
       "    }\n",
       "</style>\n",
       "<table border=\"1\" class=\"dataframe\">\n",
       "  <thead>\n",
       "    <tr style=\"text-align: right;\">\n",
       "      <th></th>\n",
       "      <th>Title</th>\n",
       "      <th>Year</th>\n",
       "      <th>Rated</th>\n",
       "      <th>Released</th>\n",
       "      <th>Runtime</th>\n",
       "      <th>Genre</th>\n",
       "      <th>Director</th>\n",
       "      <th>Writer</th>\n",
       "      <th>Actors</th>\n",
       "      <th>Plot</th>\n",
       "      <th>...</th>\n",
       "      <th>Metascore</th>\n",
       "      <th>imdbRating</th>\n",
       "      <th>imdbVotes</th>\n",
       "      <th>imdbID</th>\n",
       "      <th>Type</th>\n",
       "      <th>DVD</th>\n",
       "      <th>BoxOffice</th>\n",
       "      <th>Production</th>\n",
       "      <th>Website</th>\n",
       "      <th>Response</th>\n",
       "    </tr>\n",
       "  </thead>\n",
       "  <tbody>\n",
       "    <tr>\n",
       "      <td>0</td>\n",
       "      <td>Guardians of the Galaxy Vol. 2</td>\n",
       "      <td>2017</td>\n",
       "      <td>PG-13</td>\n",
       "      <td>05 May 2017</td>\n",
       "      <td>136 min</td>\n",
       "      <td>Action, Adventure, Comedy, Sci-Fi</td>\n",
       "      <td>James Gunn</td>\n",
       "      <td>James Gunn, Dan Abnett (based on the Marvel co...</td>\n",
       "      <td>Chris Pratt, Zoe Saldana, Dave Bautista, Vin D...</td>\n",
       "      <td>The Guardians struggle to keep together as a t...</td>\n",
       "      <td>...</td>\n",
       "      <td>67</td>\n",
       "      <td>7.6</td>\n",
       "      <td>513,275</td>\n",
       "      <td>tt3896198</td>\n",
       "      <td>movie</td>\n",
       "      <td>22 Aug 2017</td>\n",
       "      <td>$389,804,217</td>\n",
       "      <td>Walt Disney Pictures</td>\n",
       "      <td>N/A</td>\n",
       "      <td>True</td>\n",
       "    </tr>\n",
       "    <tr>\n",
       "      <td>1</td>\n",
       "      <td>Guardians of the Galaxy Vol. 2</td>\n",
       "      <td>2017</td>\n",
       "      <td>PG-13</td>\n",
       "      <td>05 May 2017</td>\n",
       "      <td>136 min</td>\n",
       "      <td>Action, Adventure, Comedy, Sci-Fi</td>\n",
       "      <td>James Gunn</td>\n",
       "      <td>James Gunn, Dan Abnett (based on the Marvel co...</td>\n",
       "      <td>Chris Pratt, Zoe Saldana, Dave Bautista, Vin D...</td>\n",
       "      <td>The Guardians struggle to keep together as a t...</td>\n",
       "      <td>...</td>\n",
       "      <td>67</td>\n",
       "      <td>7.6</td>\n",
       "      <td>513,275</td>\n",
       "      <td>tt3896198</td>\n",
       "      <td>movie</td>\n",
       "      <td>22 Aug 2017</td>\n",
       "      <td>$389,804,217</td>\n",
       "      <td>Walt Disney Pictures</td>\n",
       "      <td>N/A</td>\n",
       "      <td>True</td>\n",
       "    </tr>\n",
       "    <tr>\n",
       "      <td>2</td>\n",
       "      <td>Guardians of the Galaxy Vol. 2</td>\n",
       "      <td>2017</td>\n",
       "      <td>PG-13</td>\n",
       "      <td>05 May 2017</td>\n",
       "      <td>136 min</td>\n",
       "      <td>Action, Adventure, Comedy, Sci-Fi</td>\n",
       "      <td>James Gunn</td>\n",
       "      <td>James Gunn, Dan Abnett (based on the Marvel co...</td>\n",
       "      <td>Chris Pratt, Zoe Saldana, Dave Bautista, Vin D...</td>\n",
       "      <td>The Guardians struggle to keep together as a t...</td>\n",
       "      <td>...</td>\n",
       "      <td>67</td>\n",
       "      <td>7.6</td>\n",
       "      <td>513,275</td>\n",
       "      <td>tt3896198</td>\n",
       "      <td>movie</td>\n",
       "      <td>22 Aug 2017</td>\n",
       "      <td>$389,804,217</td>\n",
       "      <td>Walt Disney Pictures</td>\n",
       "      <td>N/A</td>\n",
       "      <td>True</td>\n",
       "    </tr>\n",
       "  </tbody>\n",
       "</table>\n",
       "<p>3 rows × 25 columns</p>\n",
       "</div>"
      ],
      "text/plain": [
       "                            Title  Year  Rated     Released  Runtime  \\\n",
       "0  Guardians of the Galaxy Vol. 2  2017  PG-13  05 May 2017  136 min   \n",
       "1  Guardians of the Galaxy Vol. 2  2017  PG-13  05 May 2017  136 min   \n",
       "2  Guardians of the Galaxy Vol. 2  2017  PG-13  05 May 2017  136 min   \n",
       "\n",
       "                               Genre    Director  \\\n",
       "0  Action, Adventure, Comedy, Sci-Fi  James Gunn   \n",
       "1  Action, Adventure, Comedy, Sci-Fi  James Gunn   \n",
       "2  Action, Adventure, Comedy, Sci-Fi  James Gunn   \n",
       "\n",
       "                                              Writer  \\\n",
       "0  James Gunn, Dan Abnett (based on the Marvel co...   \n",
       "1  James Gunn, Dan Abnett (based on the Marvel co...   \n",
       "2  James Gunn, Dan Abnett (based on the Marvel co...   \n",
       "\n",
       "                                              Actors  \\\n",
       "0  Chris Pratt, Zoe Saldana, Dave Bautista, Vin D...   \n",
       "1  Chris Pratt, Zoe Saldana, Dave Bautista, Vin D...   \n",
       "2  Chris Pratt, Zoe Saldana, Dave Bautista, Vin D...   \n",
       "\n",
       "                                                Plot  ... Metascore  \\\n",
       "0  The Guardians struggle to keep together as a t...  ...        67   \n",
       "1  The Guardians struggle to keep together as a t...  ...        67   \n",
       "2  The Guardians struggle to keep together as a t...  ...        67   \n",
       "\n",
       "  imdbRating imdbVotes     imdbID   Type          DVD     BoxOffice  \\\n",
       "0        7.6   513,275  tt3896198  movie  22 Aug 2017  $389,804,217   \n",
       "1        7.6   513,275  tt3896198  movie  22 Aug 2017  $389,804,217   \n",
       "2        7.6   513,275  tt3896198  movie  22 Aug 2017  $389,804,217   \n",
       "\n",
       "             Production Website Response  \n",
       "0  Walt Disney Pictures     N/A     True  \n",
       "1  Walt Disney Pictures     N/A     True  \n",
       "2  Walt Disney Pictures     N/A     True  \n",
       "\n",
       "[3 rows x 25 columns]"
      ]
     },
     "execution_count": 124,
     "metadata": {},
     "output_type": "execute_result"
    }
   ],
   "source": [
    "d"
   ]
  },
  {
   "cell_type": "code",
   "execution_count": 107,
   "metadata": {},
   "outputs": [],
   "source": [
    "import xmltodict"
   ]
  },
  {
   "cell_type": "code",
   "execution_count": 108,
   "metadata": {},
   "outputs": [
    {
     "ename": "TypeError",
     "evalue": "a bytes-like object is required, not 'Response'",
     "output_type": "error",
     "traceback": [
      "\u001b[1;31m---------------------------------------------------------------------------\u001b[0m",
      "\u001b[1;31mTypeError\u001b[0m                                 Traceback (most recent call last)",
      "\u001b[1;32m<ipython-input-108-0696f24c04bb>\u001b[0m in \u001b[0;36m<module>\u001b[1;34m\u001b[0m\n\u001b[1;32m----> 1\u001b[1;33m \u001b[0mjd\u001b[0m \u001b[1;33m=\u001b[0m \u001b[0mjson\u001b[0m\u001b[1;33m.\u001b[0m\u001b[0mdumps\u001b[0m\u001b[1;33m(\u001b[0m\u001b[0mxmltodict\u001b[0m\u001b[1;33m.\u001b[0m\u001b[0mparse\u001b[0m\u001b[1;33m(\u001b[0m\u001b[0mdata\u001b[0m\u001b[1;33m)\u001b[0m\u001b[1;33m)\u001b[0m\u001b[1;33m\u001b[0m\u001b[1;33m\u001b[0m\u001b[0m\n\u001b[0m",
      "\u001b[1;32m~\\Anaconda3\\lib\\site-packages\\xmltodict.py\u001b[0m in \u001b[0;36mparse\u001b[1;34m(xml_input, encoding, expat, process_namespaces, namespace_separator, disable_entities, **kwargs)\u001b[0m\n\u001b[0;32m    325\u001b[0m         \u001b[0mparser\u001b[0m\u001b[1;33m.\u001b[0m\u001b[0mParseFile\u001b[0m\u001b[1;33m(\u001b[0m\u001b[0mxml_input\u001b[0m\u001b[1;33m)\u001b[0m\u001b[1;33m\u001b[0m\u001b[1;33m\u001b[0m\u001b[0m\n\u001b[0;32m    326\u001b[0m     \u001b[1;32melse\u001b[0m\u001b[1;33m:\u001b[0m\u001b[1;33m\u001b[0m\u001b[1;33m\u001b[0m\u001b[0m\n\u001b[1;32m--> 327\u001b[1;33m         \u001b[0mparser\u001b[0m\u001b[1;33m.\u001b[0m\u001b[0mParse\u001b[0m\u001b[1;33m(\u001b[0m\u001b[0mxml_input\u001b[0m\u001b[1;33m,\u001b[0m \u001b[1;32mTrue\u001b[0m\u001b[1;33m)\u001b[0m\u001b[1;33m\u001b[0m\u001b[1;33m\u001b[0m\u001b[0m\n\u001b[0m\u001b[0;32m    328\u001b[0m     \u001b[1;32mreturn\u001b[0m \u001b[0mhandler\u001b[0m\u001b[1;33m.\u001b[0m\u001b[0mitem\u001b[0m\u001b[1;33m\u001b[0m\u001b[1;33m\u001b[0m\u001b[0m\n\u001b[0;32m    329\u001b[0m \u001b[1;33m\u001b[0m\u001b[0m\n",
      "\u001b[1;31mTypeError\u001b[0m: a bytes-like object is required, not 'Response'"
     ]
    }
   ],
   "source": [
    "jd = json.dumps(xmltodict.parse(data))"
   ]
  },
  {
   "cell_type": "code",
   "execution_count": 102,
   "metadata": {},
   "outputs": [
    {
     "data": {
      "text/plain": [
       "43"
      ]
     },
     "execution_count": 102,
     "metadata": {},
     "output_type": "execute_result"
    }
   ],
   "source": [
    "jd.find('title')"
   ]
  },
  {
   "cell_type": "code",
   "execution_count": 103,
   "metadata": {},
   "outputs": [
    {
     "data": {
      "text/plain": [
       "str"
      ]
     },
     "execution_count": 103,
     "metadata": {},
     "output_type": "execute_result"
    }
   ],
   "source": [
    "type(jd)"
   ]
  },
  {
   "cell_type": "markdown",
   "metadata": {},
   "source": [
    "* I have collected data from the api which is in the form of json/xml mosytly json and converting this json file into dataframe"
   ]
  },
  {
   "cell_type": "code",
   "execution_count": 125,
   "metadata": {},
   "outputs": [
    {
     "data": {
      "text/html": [
       "<div>\n",
       "<style scoped>\n",
       "    .dataframe tbody tr th:only-of-type {\n",
       "        vertical-align: middle;\n",
       "    }\n",
       "\n",
       "    .dataframe tbody tr th {\n",
       "        vertical-align: top;\n",
       "    }\n",
       "\n",
       "    .dataframe thead th {\n",
       "        text-align: right;\n",
       "    }\n",
       "</style>\n",
       "<table border=\"1\" class=\"dataframe\">\n",
       "  <thead>\n",
       "    <tr style=\"text-align: right;\">\n",
       "      <th></th>\n",
       "      <th>Title</th>\n",
       "      <th>Year</th>\n",
       "      <th>Rated</th>\n",
       "      <th>Released</th>\n",
       "      <th>Runtime</th>\n",
       "      <th>Genre</th>\n",
       "      <th>Director</th>\n",
       "      <th>Writer</th>\n",
       "      <th>Actors</th>\n",
       "      <th>Plot</th>\n",
       "      <th>...</th>\n",
       "      <th>Metascore</th>\n",
       "      <th>imdbRating</th>\n",
       "      <th>imdbVotes</th>\n",
       "      <th>imdbID</th>\n",
       "      <th>Type</th>\n",
       "      <th>DVD</th>\n",
       "      <th>BoxOffice</th>\n",
       "      <th>Production</th>\n",
       "      <th>Website</th>\n",
       "      <th>Response</th>\n",
       "    </tr>\n",
       "  </thead>\n",
       "  <tbody>\n",
       "    <tr>\n",
       "      <td>0</td>\n",
       "      <td>Guardians of the Galaxy Vol. 2</td>\n",
       "      <td>2017</td>\n",
       "      <td>PG-13</td>\n",
       "      <td>05 May 2017</td>\n",
       "      <td>136 min</td>\n",
       "      <td>Action, Adventure, Comedy, Sci-Fi</td>\n",
       "      <td>James Gunn</td>\n",
       "      <td>James Gunn, Dan Abnett (based on the Marvel co...</td>\n",
       "      <td>Chris Pratt, Zoe Saldana, Dave Bautista, Vin D...</td>\n",
       "      <td>The Guardians struggle to keep together as a t...</td>\n",
       "      <td>...</td>\n",
       "      <td>67</td>\n",
       "      <td>7.6</td>\n",
       "      <td>513,275</td>\n",
       "      <td>tt3896198</td>\n",
       "      <td>movie</td>\n",
       "      <td>22 Aug 2017</td>\n",
       "      <td>$389,804,217</td>\n",
       "      <td>Walt Disney Pictures</td>\n",
       "      <td>N/A</td>\n",
       "      <td>True</td>\n",
       "    </tr>\n",
       "    <tr>\n",
       "      <td>1</td>\n",
       "      <td>Guardians of the Galaxy Vol. 2</td>\n",
       "      <td>2017</td>\n",
       "      <td>PG-13</td>\n",
       "      <td>05 May 2017</td>\n",
       "      <td>136 min</td>\n",
       "      <td>Action, Adventure, Comedy, Sci-Fi</td>\n",
       "      <td>James Gunn</td>\n",
       "      <td>James Gunn, Dan Abnett (based on the Marvel co...</td>\n",
       "      <td>Chris Pratt, Zoe Saldana, Dave Bautista, Vin D...</td>\n",
       "      <td>The Guardians struggle to keep together as a t...</td>\n",
       "      <td>...</td>\n",
       "      <td>67</td>\n",
       "      <td>7.6</td>\n",
       "      <td>513,275</td>\n",
       "      <td>tt3896198</td>\n",
       "      <td>movie</td>\n",
       "      <td>22 Aug 2017</td>\n",
       "      <td>$389,804,217</td>\n",
       "      <td>Walt Disney Pictures</td>\n",
       "      <td>N/A</td>\n",
       "      <td>True</td>\n",
       "    </tr>\n",
       "    <tr>\n",
       "      <td>2</td>\n",
       "      <td>Guardians of the Galaxy Vol. 2</td>\n",
       "      <td>2017</td>\n",
       "      <td>PG-13</td>\n",
       "      <td>05 May 2017</td>\n",
       "      <td>136 min</td>\n",
       "      <td>Action, Adventure, Comedy, Sci-Fi</td>\n",
       "      <td>James Gunn</td>\n",
       "      <td>James Gunn, Dan Abnett (based on the Marvel co...</td>\n",
       "      <td>Chris Pratt, Zoe Saldana, Dave Bautista, Vin D...</td>\n",
       "      <td>The Guardians struggle to keep together as a t...</td>\n",
       "      <td>...</td>\n",
       "      <td>67</td>\n",
       "      <td>7.6</td>\n",
       "      <td>513,275</td>\n",
       "      <td>tt3896198</td>\n",
       "      <td>movie</td>\n",
       "      <td>22 Aug 2017</td>\n",
       "      <td>$389,804,217</td>\n",
       "      <td>Walt Disney Pictures</td>\n",
       "      <td>N/A</td>\n",
       "      <td>True</td>\n",
       "    </tr>\n",
       "  </tbody>\n",
       "</table>\n",
       "<p>3 rows × 25 columns</p>\n",
       "</div>"
      ],
      "text/plain": [
       "                            Title  Year  Rated     Released  Runtime  \\\n",
       "0  Guardians of the Galaxy Vol. 2  2017  PG-13  05 May 2017  136 min   \n",
       "1  Guardians of the Galaxy Vol. 2  2017  PG-13  05 May 2017  136 min   \n",
       "2  Guardians of the Galaxy Vol. 2  2017  PG-13  05 May 2017  136 min   \n",
       "\n",
       "                               Genre    Director  \\\n",
       "0  Action, Adventure, Comedy, Sci-Fi  James Gunn   \n",
       "1  Action, Adventure, Comedy, Sci-Fi  James Gunn   \n",
       "2  Action, Adventure, Comedy, Sci-Fi  James Gunn   \n",
       "\n",
       "                                              Writer  \\\n",
       "0  James Gunn, Dan Abnett (based on the Marvel co...   \n",
       "1  James Gunn, Dan Abnett (based on the Marvel co...   \n",
       "2  James Gunn, Dan Abnett (based on the Marvel co...   \n",
       "\n",
       "                                              Actors  \\\n",
       "0  Chris Pratt, Zoe Saldana, Dave Bautista, Vin D...   \n",
       "1  Chris Pratt, Zoe Saldana, Dave Bautista, Vin D...   \n",
       "2  Chris Pratt, Zoe Saldana, Dave Bautista, Vin D...   \n",
       "\n",
       "                                                Plot  ... Metascore  \\\n",
       "0  The Guardians struggle to keep together as a t...  ...        67   \n",
       "1  The Guardians struggle to keep together as a t...  ...        67   \n",
       "2  The Guardians struggle to keep together as a t...  ...        67   \n",
       "\n",
       "  imdbRating imdbVotes     imdbID   Type          DVD     BoxOffice  \\\n",
       "0        7.6   513,275  tt3896198  movie  22 Aug 2017  $389,804,217   \n",
       "1        7.6   513,275  tt3896198  movie  22 Aug 2017  $389,804,217   \n",
       "2        7.6   513,275  tt3896198  movie  22 Aug 2017  $389,804,217   \n",
       "\n",
       "             Production Website Response  \n",
       "0  Walt Disney Pictures     N/A     True  \n",
       "1  Walt Disney Pictures     N/A     True  \n",
       "2  Walt Disney Pictures     N/A     True  \n",
       "\n",
       "[3 rows x 25 columns]"
      ]
     },
     "execution_count": 125,
     "metadata": {},
     "output_type": "execute_result"
    }
   ],
   "source": [
    "d"
   ]
  },
  {
   "cell_type": "code",
   "execution_count": 129,
   "metadata": {},
   "outputs": [
    {
     "name": "stdout",
     "output_type": "stream",
     "text": [
      "Title\n",
      "Year\n",
      "Rated\n",
      "Released\n",
      "Runtime\n",
      "Genre\n",
      "Director\n",
      "Writer\n",
      "Actors\n",
      "Plot\n",
      "Language\n",
      "Country\n",
      "Awards\n",
      "Poster\n",
      "Ratings\n",
      "Metascore\n",
      "imdbRating\n",
      "imdbVotes\n",
      "imdbID\n",
      "Type\n",
      "DVD\n",
      "BoxOffice\n",
      "Production\n",
      "Website\n",
      "Response\n"
     ]
    }
   ],
   "source": [
    "for i in d:\n",
    "    print(i)"
   ]
  },
  {
   "cell_type": "code",
   "execution_count": 130,
   "metadata": {},
   "outputs": [],
   "source": [
    "df = d.copy()"
   ]
  },
  {
   "cell_type": "code",
   "execution_count": 131,
   "metadata": {},
   "outputs": [
    {
     "data": {
      "text/html": [
       "<div>\n",
       "<style scoped>\n",
       "    .dataframe tbody tr th:only-of-type {\n",
       "        vertical-align: middle;\n",
       "    }\n",
       "\n",
       "    .dataframe tbody tr th {\n",
       "        vertical-align: top;\n",
       "    }\n",
       "\n",
       "    .dataframe thead th {\n",
       "        text-align: right;\n",
       "    }\n",
       "</style>\n",
       "<table border=\"1\" class=\"dataframe\">\n",
       "  <thead>\n",
       "    <tr style=\"text-align: right;\">\n",
       "      <th></th>\n",
       "      <th>Title</th>\n",
       "      <th>Year</th>\n",
       "      <th>Rated</th>\n",
       "      <th>Released</th>\n",
       "      <th>Runtime</th>\n",
       "      <th>Genre</th>\n",
       "      <th>Director</th>\n",
       "      <th>Writer</th>\n",
       "      <th>Actors</th>\n",
       "      <th>Plot</th>\n",
       "      <th>...</th>\n",
       "      <th>Metascore</th>\n",
       "      <th>imdbRating</th>\n",
       "      <th>imdbVotes</th>\n",
       "      <th>imdbID</th>\n",
       "      <th>Type</th>\n",
       "      <th>DVD</th>\n",
       "      <th>BoxOffice</th>\n",
       "      <th>Production</th>\n",
       "      <th>Website</th>\n",
       "      <th>Response</th>\n",
       "    </tr>\n",
       "  </thead>\n",
       "  <tbody>\n",
       "    <tr>\n",
       "      <td>0</td>\n",
       "      <td>Guardians of the Galaxy Vol. 2</td>\n",
       "      <td>2017</td>\n",
       "      <td>PG-13</td>\n",
       "      <td>05 May 2017</td>\n",
       "      <td>136 min</td>\n",
       "      <td>Action, Adventure, Comedy, Sci-Fi</td>\n",
       "      <td>James Gunn</td>\n",
       "      <td>James Gunn, Dan Abnett (based on the Marvel co...</td>\n",
       "      <td>Chris Pratt, Zoe Saldana, Dave Bautista, Vin D...</td>\n",
       "      <td>The Guardians struggle to keep together as a t...</td>\n",
       "      <td>...</td>\n",
       "      <td>67</td>\n",
       "      <td>7.6</td>\n",
       "      <td>513,275</td>\n",
       "      <td>tt3896198</td>\n",
       "      <td>movie</td>\n",
       "      <td>22 Aug 2017</td>\n",
       "      <td>$389,804,217</td>\n",
       "      <td>Walt Disney Pictures</td>\n",
       "      <td>N/A</td>\n",
       "      <td>True</td>\n",
       "    </tr>\n",
       "    <tr>\n",
       "      <td>1</td>\n",
       "      <td>Guardians of the Galaxy Vol. 2</td>\n",
       "      <td>2017</td>\n",
       "      <td>PG-13</td>\n",
       "      <td>05 May 2017</td>\n",
       "      <td>136 min</td>\n",
       "      <td>Action, Adventure, Comedy, Sci-Fi</td>\n",
       "      <td>James Gunn</td>\n",
       "      <td>James Gunn, Dan Abnett (based on the Marvel co...</td>\n",
       "      <td>Chris Pratt, Zoe Saldana, Dave Bautista, Vin D...</td>\n",
       "      <td>The Guardians struggle to keep together as a t...</td>\n",
       "      <td>...</td>\n",
       "      <td>67</td>\n",
       "      <td>7.6</td>\n",
       "      <td>513,275</td>\n",
       "      <td>tt3896198</td>\n",
       "      <td>movie</td>\n",
       "      <td>22 Aug 2017</td>\n",
       "      <td>$389,804,217</td>\n",
       "      <td>Walt Disney Pictures</td>\n",
       "      <td>N/A</td>\n",
       "      <td>True</td>\n",
       "    </tr>\n",
       "    <tr>\n",
       "      <td>2</td>\n",
       "      <td>Guardians of the Galaxy Vol. 2</td>\n",
       "      <td>2017</td>\n",
       "      <td>PG-13</td>\n",
       "      <td>05 May 2017</td>\n",
       "      <td>136 min</td>\n",
       "      <td>Action, Adventure, Comedy, Sci-Fi</td>\n",
       "      <td>James Gunn</td>\n",
       "      <td>James Gunn, Dan Abnett (based on the Marvel co...</td>\n",
       "      <td>Chris Pratt, Zoe Saldana, Dave Bautista, Vin D...</td>\n",
       "      <td>The Guardians struggle to keep together as a t...</td>\n",
       "      <td>...</td>\n",
       "      <td>67</td>\n",
       "      <td>7.6</td>\n",
       "      <td>513,275</td>\n",
       "      <td>tt3896198</td>\n",
       "      <td>movie</td>\n",
       "      <td>22 Aug 2017</td>\n",
       "      <td>$389,804,217</td>\n",
       "      <td>Walt Disney Pictures</td>\n",
       "      <td>N/A</td>\n",
       "      <td>True</td>\n",
       "    </tr>\n",
       "  </tbody>\n",
       "</table>\n",
       "<p>3 rows × 25 columns</p>\n",
       "</div>"
      ],
      "text/plain": [
       "                            Title  Year  Rated     Released  Runtime  \\\n",
       "0  Guardians of the Galaxy Vol. 2  2017  PG-13  05 May 2017  136 min   \n",
       "1  Guardians of the Galaxy Vol. 2  2017  PG-13  05 May 2017  136 min   \n",
       "2  Guardians of the Galaxy Vol. 2  2017  PG-13  05 May 2017  136 min   \n",
       "\n",
       "                               Genre    Director  \\\n",
       "0  Action, Adventure, Comedy, Sci-Fi  James Gunn   \n",
       "1  Action, Adventure, Comedy, Sci-Fi  James Gunn   \n",
       "2  Action, Adventure, Comedy, Sci-Fi  James Gunn   \n",
       "\n",
       "                                              Writer  \\\n",
       "0  James Gunn, Dan Abnett (based on the Marvel co...   \n",
       "1  James Gunn, Dan Abnett (based on the Marvel co...   \n",
       "2  James Gunn, Dan Abnett (based on the Marvel co...   \n",
       "\n",
       "                                              Actors  \\\n",
       "0  Chris Pratt, Zoe Saldana, Dave Bautista, Vin D...   \n",
       "1  Chris Pratt, Zoe Saldana, Dave Bautista, Vin D...   \n",
       "2  Chris Pratt, Zoe Saldana, Dave Bautista, Vin D...   \n",
       "\n",
       "                                                Plot  ... Metascore  \\\n",
       "0  The Guardians struggle to keep together as a t...  ...        67   \n",
       "1  The Guardians struggle to keep together as a t...  ...        67   \n",
       "2  The Guardians struggle to keep together as a t...  ...        67   \n",
       "\n",
       "  imdbRating imdbVotes     imdbID   Type          DVD     BoxOffice  \\\n",
       "0        7.6   513,275  tt3896198  movie  22 Aug 2017  $389,804,217   \n",
       "1        7.6   513,275  tt3896198  movie  22 Aug 2017  $389,804,217   \n",
       "2        7.6   513,275  tt3896198  movie  22 Aug 2017  $389,804,217   \n",
       "\n",
       "             Production Website Response  \n",
       "0  Walt Disney Pictures     N/A     True  \n",
       "1  Walt Disney Pictures     N/A     True  \n",
       "2  Walt Disney Pictures     N/A     True  \n",
       "\n",
       "[3 rows x 25 columns]"
      ]
     },
     "execution_count": 131,
     "metadata": {},
     "output_type": "execute_result"
    }
   ],
   "source": [
    "df"
   ]
  },
  {
   "cell_type": "code",
   "execution_count": 132,
   "metadata": {},
   "outputs": [],
   "source": [
    "df.to_csv('newdata.csv')"
   ]
  },
  {
   "cell_type": "code",
   "execution_count": 134,
   "metadata": {},
   "outputs": [],
   "source": [
    "#we have df.t0_csv() method to save the dataframe to any file"
   ]
  },
  {
   "cell_type": "code",
   "execution_count": 135,
   "metadata": {},
   "outputs": [],
   "source": [
    "json = df.to_json()"
   ]
  },
  {
   "cell_type": "code",
   "execution_count": 136,
   "metadata": {},
   "outputs": [
    {
     "data": {
      "text/plain": [
       "'{\"Title\":{\"0\":\"Guardians of the Galaxy Vol. 2\",\"1\":\"Guardians of the Galaxy Vol. 2\",\"2\":\"Guardians of the Galaxy Vol. 2\"},\"Year\":{\"0\":\"2017\",\"1\":\"2017\",\"2\":\"2017\"},\"Rated\":{\"0\":\"PG-13\",\"1\":\"PG-13\",\"2\":\"PG-13\"},\"Released\":{\"0\":\"05 May 2017\",\"1\":\"05 May 2017\",\"2\":\"05 May 2017\"},\"Runtime\":{\"0\":\"136 min\",\"1\":\"136 min\",\"2\":\"136 min\"},\"Genre\":{\"0\":\"Action, Adventure, Comedy, Sci-Fi\",\"1\":\"Action, Adventure, Comedy, Sci-Fi\",\"2\":\"Action, Adventure, Comedy, Sci-Fi\"},\"Director\":{\"0\":\"James Gunn\",\"1\":\"James Gunn\",\"2\":\"James Gunn\"},\"Writer\":{\"0\":\"James Gunn, Dan Abnett (based on the Marvel comics by), Andy Lanning (based on the Marvel comics by), Steve Englehart (Star-Lord created by), Steve Gan (Star-Lord created by), Jim Starlin (Gamora and Drax created by), Stan Lee (Groot created by), Larry Lieber (Groot created by), Jack Kirby (Groot created by), Bill Mantlo (Rocket Raccoon created by), Keith Giffen (Rocket Raccoon created by), Steve Gerber (Howard the Duck created by), Val Mayerik (Howard the Duck created by)\",\"1\":\"James Gunn, Dan Abnett (based on the Marvel comics by), Andy Lanning (based on the Marvel comics by), Steve Englehart (Star-Lord created by), Steve Gan (Star-Lord created by), Jim Starlin (Gamora and Drax created by), Stan Lee (Groot created by), Larry Lieber (Groot created by), Jack Kirby (Groot created by), Bill Mantlo (Rocket Raccoon created by), Keith Giffen (Rocket Raccoon created by), Steve Gerber (Howard the Duck created by), Val Mayerik (Howard the Duck created by)\",\"2\":\"James Gunn, Dan Abnett (based on the Marvel comics by), Andy Lanning (based on the Marvel comics by), Steve Englehart (Star-Lord created by), Steve Gan (Star-Lord created by), Jim Starlin (Gamora and Drax created by), Stan Lee (Groot created by), Larry Lieber (Groot created by), Jack Kirby (Groot created by), Bill Mantlo (Rocket Raccoon created by), Keith Giffen (Rocket Raccoon created by), Steve Gerber (Howard the Duck created by), Val Mayerik (Howard the Duck created by)\"},\"Actors\":{\"0\":\"Chris Pratt, Zoe Saldana, Dave Bautista, Vin Diesel\",\"1\":\"Chris Pratt, Zoe Saldana, Dave Bautista, Vin Diesel\",\"2\":\"Chris Pratt, Zoe Saldana, Dave Bautista, Vin Diesel\"},\"Plot\":{\"0\":\"The Guardians struggle to keep together as a team while dealing with their personal family issues, notably Star-Lord\\'s encounter with his father the ambitious celestial being Ego.\",\"1\":\"The Guardians struggle to keep together as a team while dealing with their personal family issues, notably Star-Lord\\'s encounter with his father the ambitious celestial being Ego.\",\"2\":\"The Guardians struggle to keep together as a team while dealing with their personal family issues, notably Star-Lord\\'s encounter with his father the ambitious celestial being Ego.\"},\"Language\":{\"0\":\"English\",\"1\":\"English\",\"2\":\"English\"},\"Country\":{\"0\":\"USA\",\"1\":\"USA\",\"2\":\"USA\"},\"Awards\":{\"0\":\"Nominated for 1 Oscar. Another 12 wins & 42 nominations.\",\"1\":\"Nominated for 1 Oscar. Another 12 wins & 42 nominations.\",\"2\":\"Nominated for 1 Oscar. Another 12 wins & 42 nominations.\"},\"Poster\":{\"0\":\"https:\\\\/\\\\/m.media-amazon.com\\\\/images\\\\/M\\\\/MV5BNjM0NTc0NzItM2FlYS00YzEwLWE0YmUtNTA2ZWIzODc2OTgxXkEyXkFqcGdeQXVyNTgwNzIyNzg@._V1_SX300.jpg\",\"1\":\"https:\\\\/\\\\/m.media-amazon.com\\\\/images\\\\/M\\\\/MV5BNjM0NTc0NzItM2FlYS00YzEwLWE0YmUtNTA2ZWIzODc2OTgxXkEyXkFqcGdeQXVyNTgwNzIyNzg@._V1_SX300.jpg\",\"2\":\"https:\\\\/\\\\/m.media-amazon.com\\\\/images\\\\/M\\\\/MV5BNjM0NTc0NzItM2FlYS00YzEwLWE0YmUtNTA2ZWIzODc2OTgxXkEyXkFqcGdeQXVyNTgwNzIyNzg@._V1_SX300.jpg\"},\"Ratings\":{\"0\":{\"Source\":\"Internet Movie Database\",\"Value\":\"7.6\\\\/10\"},\"1\":{\"Source\":\"Rotten Tomatoes\",\"Value\":\"84%\"},\"2\":{\"Source\":\"Metacritic\",\"Value\":\"67\\\\/100\"}},\"Metascore\":{\"0\":\"67\",\"1\":\"67\",\"2\":\"67\"},\"imdbRating\":{\"0\":\"7.6\",\"1\":\"7.6\",\"2\":\"7.6\"},\"imdbVotes\":{\"0\":\"513,275\",\"1\":\"513,275\",\"2\":\"513,275\"},\"imdbID\":{\"0\":\"tt3896198\",\"1\":\"tt3896198\",\"2\":\"tt3896198\"},\"Type\":{\"0\":\"movie\",\"1\":\"movie\",\"2\":\"movie\"},\"DVD\":{\"0\":\"22 Aug 2017\",\"1\":\"22 Aug 2017\",\"2\":\"22 Aug 2017\"},\"BoxOffice\":{\"0\":\"$389,804,217\",\"1\":\"$389,804,217\",\"2\":\"$389,804,217\"},\"Production\":{\"0\":\"Walt Disney Pictures\",\"1\":\"Walt Disney Pictures\",\"2\":\"Walt Disney Pictures\"},\"Website\":{\"0\":\"N\\\\/A\",\"1\":\"N\\\\/A\",\"2\":\"N\\\\/A\"},\"Response\":{\"0\":\"True\",\"1\":\"True\",\"2\":\"True\"}}'"
      ]
     },
     "execution_count": 136,
     "metadata": {},
     "output_type": "execute_result"
    }
   ],
   "source": [
    "json"
   ]
  },
  {
   "cell_type": "code",
   "execution_count": 137,
   "metadata": {},
   "outputs": [],
   "source": [
    "df.to_csv?"
   ]
  },
  {
   "cell_type": "code",
   "execution_count": null,
   "metadata": {},
   "outputs": [],
   "source": [
    "# we do have many methods "
   ]
  }
 ],
 "metadata": {
  "kernelspec": {
   "display_name": "Python 3",
   "language": "python",
   "name": "python3"
  },
  "language_info": {
   "codemirror_mode": {
    "name": "ipython",
    "version": 3
   },
   "file_extension": ".py",
   "mimetype": "text/x-python",
   "name": "python",
   "nbconvert_exporter": "python",
   "pygments_lexer": "ipython3",
   "version": "3.7.4"
  }
 },
 "nbformat": 4,
 "nbformat_minor": 2
}
