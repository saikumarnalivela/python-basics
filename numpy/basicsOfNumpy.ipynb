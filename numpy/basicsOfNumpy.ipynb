{
 "cells": [
  {
   "cell_type": "code",
   "execution_count": null,
   "metadata": {},
   "outputs": [],
   "source": [
    "import numpy as np"
   ]
  },
  {
   "cell_type": "markdown",
   "metadata": {},
   "source": [
    "## Numpy \n",
    "\n",
    "Numpy is used in python to create arrays and thier methods.Basically we create an numpy array by passing the list to it."
   ]
  },
  {
   "cell_type": "code",
   "execution_count": 2,
   "metadata": {},
   "outputs": [
    {
     "name": "stdout",
     "output_type": "stream",
     "text": [
      "[1 2 4 5 6]\n",
      "<class 'numpy.ndarray'>\n"
     ]
    }
   ],
   "source": [
    "import numpy as np\n",
    "a = np.array([1,2,4,5,6])\n",
    "print(a)\n",
    "print(type(a))\n"
   ]
  },
  {
   "cell_type": "markdown",
   "metadata": {},
   "source": [
    "## Addition of two vectors(array).\n",
    "Addition means we can add two corresponding values of vectors if they are of same size or else it throws and error."
   ]
  },
  {
   "cell_type": "code",
   "execution_count": 20,
   "metadata": {},
   "outputs": [
    {
     "name": "stdout",
     "output_type": "stream",
     "text": [
      "a :  [ 0  1  4  9 16 25 36]\n",
      "b :  [  0   1   8  27  64 125 216]\n",
      "adding two vectors : [  0   2  12  36  80 150 252]\n",
      "Multipling two vectors:  [   0    1   32  243 1024 3125 7776]\n"
     ]
    }
   ],
   "source": [
    "import numpy as np\n",
    "a = np.array([x**2 for x in range(7)])\n",
    "print(\"a : \",a)\n",
    "b = np.array([y**3 for y in range(7)])\n",
    "print(\"b : \",b )\n",
    "print(\"adding two vectors :\",a + b)\n",
    "print(\"Multipling two vectors: \", a*b)\n",
    "#print(\"divison of two vectors:\", a /b)\n",
    "#print(\"remainder of two vectors:\" , a % b)"
   ]
  },
  {
   "cell_type": "markdown",
   "metadata": {},
   "source": []
  },
  {
   "cell_type": "code",
   "execution_count": 19,
   "metadata": {},
   "outputs": [
    {
     "name": "stdout",
     "output_type": "stream",
     "text": [
      "a :  [ 0  1  4  9 16 25 36]\n",
      "b :  [  0   1   8  27  64 125 216]\n",
      "vector multiplication :  12201\n",
      "vector multiplcation using dot method 12201\n",
      "length of vector 47.69696007084728\n"
     ]
    }
   ],
   "source": [
    "import numpy as np\n",
    "import math \n",
    "a = np.array([x**2 for x in range(7)])\n",
    "print(\"a : \",a)\n",
    "b = np.array([y**3 for y in range(7)])\n",
    "print(\"b : \",b )\n",
    "print(\"vector multiplication : \", a @ b)\n",
    "print(\"vector multiplcation using dot method\", a.dot(b))\n",
    "print(\"length of vector\", math.sqrt(a@a))"
   ]
  },
  {
   "cell_type": "code",
   "execution_count": null,
   "metadata": {},
   "outputs": [],
   "source": []
  }
 ],
 "metadata": {
  "kernelspec": {
   "display_name": "Python 3",
   "language": "python",
   "name": "python3"
  },
  "language_info": {
   "codemirror_mode": {
    "name": "ipython",
    "version": 3
   },
   "file_extension": ".py",
   "mimetype": "text/x-python",
   "name": "python",
   "nbconvert_exporter": "python",
   "pygments_lexer": "ipython3",
   "version": "3.7.1"
  }
 },
 "nbformat": 4,
 "nbformat_minor": 2
}
