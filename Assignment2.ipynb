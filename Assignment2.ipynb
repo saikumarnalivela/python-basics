{
 "cells": [
  {
   "cell_type": "markdown",
   "metadata": {},
   "source": [
    "## Assignment 2 - Structures and Functions"
   ]
  },
  {
   "cell_type": "markdown",
   "metadata": {},
   "source": [
    "## Part 1\n",
    "* Create a function `factorial` which takes a single argument n.  n! is the product of the integer values from 1 to n. \n",
    "(_Note: 0! is defined to be 1._)"
   ]
  },
  {
   "cell_type": "code",
   "execution_count": 16,
   "metadata": {},
   "outputs": [
    {
     "name": "stdout",
     "output_type": "stream",
     "text": [
      "Please enter the integer for which you want to calculate factorial56\n",
      "factorial of given number  56  is:  710998587804863451854045647463724949736497978881168458687447040000000000000\n",
      "Please enter the integer for which you want to calculate factorial45\n",
      "factorial of given number  45  is:  119622220865480194561963161495657715064383733760000000000\n",
      "Please enter the integer for which you want to calculate factorial12\n",
      "factorial of given number  12  is:  479001600\n"
     ]
    }
   ],
   "source": [
    "fact = 1\n",
    "i = 1\n",
    "while i <= 3: \n",
    "    k = int(input(\"Please enter the integer for which you want to calculate factorial\"))\n",
    "    def factorial(n):\n",
    "        if n == 1:\n",
    "            return 1\n",
    "        else:\n",
    "            return n * factorial(n-1)\n",
    "    print(\"factorial of given number \", k ,\" is: \",factorial(k))\n",
    "    i = i + 1\n",
    "\n",
    "\n"
   ]
  },
  {
   "cell_type": "markdown",
   "metadata": {},
   "source": [
    "## I have used recrusion to print the factorial of given number. Recrusion means calling funtion itself again and again untill termination condition is met."
   ]
  },
  {
   "cell_type": "markdown",
   "metadata": {},
   "source": [
    "## Part 2\n",
    "* Create a function `get_pi` which takes a single argument n that defaults to 4 and is the number of terms to use in your computation. Use the first n terms of the sequence\n",
    "\n",
    "$pi = 4 [1 - 1/3 + 1/5 - 1/7 + 1/9 - 1/11 + ...]$\n",
    "\n",
    "* Create a function `e_to_the_x` with two arguments x and n (the number of terms to use.)  Compute the approximation to $e^x$ and compare with `e**x`. Use the sequence \n",
    "\n",
    "$e^x = 1 + x + x^2/2! + x^3/3! + x^4/4! + ...$\n"
   ]
  },
  {
   "cell_type": "code",
   "execution_count": 17,
   "metadata": {},
   "outputs": [
    {
     "name": "stdout",
     "output_type": "stream",
     "text": [
      "Enter a number  : 13\n",
      "3.7675636544447952\n",
      "3.813091483679719\n",
      "3.7604599047323504\n"
     ]
    }
   ],
   "source": [
    "n = int(input(\"Enter a number  : \"))\n",
    "def get_pi(n):\n",
    "    i = 1\n",
    "    sum  = 4\n",
    "    #print(n)\n",
    "    while i <= n:\n",
    "        sum = sum +((-1)**i)/((2 * i )+ 1)\n",
    "        #print(sum)\n",
    "        i = i + 1\n",
    "    print(sum)\n",
    "get_pi(n)\n",
    "get_pi(8)\n",
    "get_pi(9)\n",
    "\n",
    "    \n",
    "    \n",
    "    \n",
    "    \n",
    "                    \n",
    "    "
   ]
  },
  {
   "cell_type": "code",
   "execution_count": 19,
   "metadata": {},
   "outputs": [
    {
     "name": "stdout",
     "output_type": "stream",
     "text": [
      "7.355555555555555\n",
      "300.14285714285717\n",
      "1350.2571428571428\n"
     ]
    }
   ],
   "source": [
    "import math\n",
    "def e_to_the_x(x,n):\n",
    "    i = 1\n",
    "    s = 1\n",
    "    while i <= n:\n",
    "        s = s + ((x**i)/math.factorial(i))\n",
    "        i = i + 1\n",
    "    print(s)\n",
    "    \n",
    "\n",
    "e_to_the_x(2,6) \n",
    "e_to_the_x(6,7)\n",
    "e_to_the_x(8,7)\n"
   ]
  },
  {
   "cell_type": "markdown",
   "metadata": {},
   "source": [
    "## Part 3\n",
    "* Implement Euclid's algorithm to compute the GCD (Greatest Common Divisor) of two non-negative integer values.  Here is the recursive formula:\n",
    "\n",
    "$GCD(A,B) = \\left\\{ \n",
    "\\begin{array}{ll}\n",
    "A & if B=0\\\\\n",
    "GCD(B,A) & if B>A\\\\ \n",
    "GCD(B, B~mod~A) & otherwise\n",
    "\\end{array}\n",
    "\\right. $\n"
   ]
  },
  {
   "cell_type": "code",
   "execution_count": 20,
   "metadata": {},
   "outputs": [
    {
     "name": "stdout",
     "output_type": "stream",
     "text": [
      "gcd of given number: 14\n",
      "gcd of given number: 4\n",
      "gcd of given number: 15\n"
     ]
    }
   ],
   "source": [
    "def gcd(a,b):\n",
    "    if b == 0:\n",
    "        return a\n",
    "    if b > a:\n",
    "        return gcd(b,a)\n",
    "    return gcd(b,a%b)\n",
    "print(\"gcd of given number:\",gcd(98,56))\n",
    "print(\"gcd of given number:\",gcd(20,28))\n",
    "print(\"gcd of given number:\",gcd(15,225))\n"
   ]
  },
  {
   "cell_type": "markdown",
   "metadata": {},
   "source": [
    "## Part 4\n",
    "* Write a function `counter` that will take a list and a value k. Compute the number of values >, <, = to k. Return the result as a tuple.\n",
    "* Write a function `bounds` that will compute the min, max of a list of values. Return the result as a pair.\n",
    "* Write a function `median` that will compute the median of a list of numbers.  Sort the list.  If the length is odd, return the middle value.  If the length is even, return the average of the upper and lower medians.  Example:  The median of 1, 2, 3, 5, 11, 12 is the average of 3 and 5."
   ]
  },
  {
   "cell_type": "code",
   "execution_count": 24,
   "metadata": {},
   "outputs": [
    {
     "name": "stdout",
     "output_type": "stream",
     "text": [
      "less than given k     :  (1, 3, 0)     and the datatype is :  <class 'tuple'>\n",
      "greater than k        :   (5, 6, 5, 9)\n",
      "equals to k           :       ()\n",
      "@@@@@@@\n",
      "less than given k     :  (1, 4, 4, 2)     and the datatype is :  <class 'tuple'>\n",
      "greater than k        :   (8, 8)\n",
      "equals to k           :       ()\n",
      "@@@@@@@\n",
      "less than given k     :  (1, 3)     and the datatype is :  <class 'tuple'>\n",
      "greater than k        :   (34, 343, 434454556, 6768, 78)\n",
      "equals to k           :       ()\n",
      "@@@@@@@\n",
      "***************************************\n",
      "min and max values are:  (-345, 10000)\n",
      "@@@@@@@\n",
      "min and max values are:  (34, 3634534535)\n",
      "@@@@@@@\n",
      "min and max values are:  (-345, 3446756577)\n",
      "@@@@@@@\n",
      "***************************************\n",
      "Length of list is  5\n",
      "median ofnumber with odd items in the list are: 3\n",
      "@@@@@@@\n",
      "Length of list is  6\n",
      "median ofnumber with even items in the list are: 5.0\n",
      "@@@@@@@\n",
      "Length of list is  5\n",
      "median ofnumber with even items in the list are: 678\n"
     ]
    }
   ],
   "source": [
    "def counter(l,k):\n",
    "    a = []\n",
    "    b = []\n",
    "    c = []\n",
    "    for i in l:\n",
    "        if(i < k):\n",
    "            a.append(i)\n",
    "        elif(i > k):\n",
    "            b.append(i)\n",
    "        else:\n",
    "            c.append(i)\n",
    "        \n",
    "    print(\"less than given k     : \",tuple(a), \"    and the datatype is : \", type(tuple(a)))\n",
    "    print(\"greater than k        :  \", tuple(b))\n",
    "    print(\"equals to k           :      \", tuple(c))\n",
    "    \n",
    "\n",
    "counter([1,3,5,6,0,5,9],4)\n",
    "print(\"@@@@@@@\")\n",
    "counter([1,8,8,4,4,2],5)\n",
    "print(\"@@@@@@@\")\n",
    "\n",
    "counter([1,3,34,343,434454556,6768,78],5)\n",
    "print(\"@@@@@@@\")\n",
    "print(\"***************************************\")\n",
    "\n",
    "def bounds(l):\n",
    "    maxv = minv = l[0]\n",
    "    for i in l:\n",
    "        if i < maxv:\n",
    "            maxv = i\n",
    "    for i in l:\n",
    "        if i > minv:\n",
    "            minv = i\n",
    "    print(\"min and max values are: \", (maxv , minv))\n",
    "bounds([1,3,5,7,8,9,-5,3456,999,-345,10000])\n",
    "print(\"@@@@@@@\")\n",
    "bounds([3536,3634534535,34,345345,34534])\n",
    "print(\"@@@@@@@\")\n",
    "bounds([2,4,5,6,8,36,-345,345,245,3446756577])\n",
    "print(\"@@@@@@@\")\n",
    "\n",
    "print(\"***************************************\")\n",
    "\n",
    "def median(l):\n",
    "    c = len(l)\n",
    "    print(\"Length of list is \",c)\n",
    "    if c%2 == 0:\n",
    "        return (l[int(c/2)]+l[int(c/2+1)])/2\n",
    "    else:\n",
    "        return l[int(c/2)]\n",
    "\n",
    "print(\"median ofnumber with odd items in the list are:\",median([1,2,3,4,6]))\n",
    "print(\"@@@@@@@\")\n",
    "print(\"median ofnumber with even items in the list are:\",median([1,2,3,4,6,8]))\n",
    "print(\"@@@@@@@\")\n",
    "print(\"median ofnumber with even items in the list are:\",median([45,57,678,1234,1]))\n",
    "    \n",
    "    "
   ]
  },
  {
   "cell_type": "markdown",
   "metadata": {},
   "source": [
    "## Part 5\n",
    "* Write a function `word_count` that takes in a string and will use a dictionary to count the number of times each word appears in the string. Use a dict to keep the counts for each word."
   ]
  },
  {
   "cell_type": "code",
   "execution_count": 25,
   "metadata": {},
   "outputs": [
    {
     "name": "stdout",
     "output_type": "stream",
     "text": [
      "Please enter the string   a b c\n",
      "The given string is converted to dictionary and then the count of ech word is : {'a': 1, 'b': 1, 'c': 1}\n",
      "Please enter the string    d f e g c\n",
      "The given string is converted to dictionary and then the count of ech word is : {'a': 1, 'b': 1, 'c': 2, 'd': 1, 'f': 1, 'e': 1, 'g': 1}\n",
      "Please enter one more string    i j k l m a b c d\n",
      "The given string is converted to dictionary and then the count of ech word is : {'a': 2, 'b': 2, 'c': 3, 'd': 2, 'f': 1, 'e': 1, 'g': 1, 'i': 1, 'j': 1, 'k': 1, 'l': 1, 'm': 1}\n"
     ]
    }
   ],
   "source": [
    "dic = {}\n",
    "def word_count(s):\n",
    "    s1 = list(s.split(\" \"))\n",
    "    #print(s1)\n",
    "    j = 1\n",
    "    for i in s1:\n",
    "        if i in dic.keys():\n",
    "            j = dic[i]\n",
    "            j = j + 1\n",
    "            dic[i] = j\n",
    "        else:\n",
    "            dic[i] = j\n",
    "    print(\"The given string is converted to dictionary and then the count of ech word is :\",dic)\n",
    "word_count(input(\"Please enter the string   \"))\n",
    "word_count(input(\"Please enter the string    \"))\n",
    "word_count(input(\"Please enter one more string    \"))"
   ]
  },
  {
   "cell_type": "markdown",
   "metadata": {},
   "source": [
    "## Part 6\n",
    "Do at least three calls on each function you created to verify the correct operation."
   ]
  },
  {
   "cell_type": "code",
   "execution_count": null,
   "metadata": {},
   "outputs": [],
   "source": []
  },
  {
   "cell_type": "markdown",
   "metadata": {},
   "source": [
    "## Bonus\n",
    "* Go online and find a different infinite sequence (or product) that converges to pi and implement a function `get_pi_alt` that uses the sequence.\n",
    "\n",
    "* Create a markdown that uses latex (you can see examples of it surrounded by $ in this notebook. Show the sequence you used."
   ]
  },
  {
   "cell_type": "code",
   "execution_count": 26,
   "metadata": {},
   "outputs": [
    {
     "name": "stdout",
     "output_type": "stream",
     "text": [
      "The value of Pi is: 3.1425916543395442\n"
     ]
    }
   ],
   "source": [
    "def get_pi_alt(x,n):\n",
    "    s = x\n",
    "    i = 1\n",
    "    while i <= n:\n",
    "        s = s + ((-1)**(i)/((2*i)+1))\n",
    "        i = i+1\n",
    "    print(\"The value of Pi is:\", s*4)\n",
    "get_pi_alt(1,1000)\n",
    "    "
   ]
  },
  {
   "cell_type": "markdown",
   "metadata": {},
   "source": [
    "$ \\arctan x=x-{\\frac {x^{3}}{3}}+{\\frac {x^{5}}{5}}-{\\frac {x^{7}}{7}}+\\cdots $\n",
    "\n",
    "The Leibniz formula for π/4 can be obtained by putting x = 1 into the above inverse-tangent series"
   ]
  },
  {
   "cell_type": "code",
   "execution_count": null,
   "metadata": {},
   "outputs": [],
   "source": []
  }
 ],
 "metadata": {
  "kernelspec": {
   "display_name": "Python 3",
   "language": "python",
   "name": "python3"
  },
  "language_info": {
   "codemirror_mode": {
    "name": "ipython",
    "version": 3
   },
   "file_extension": ".py",
   "mimetype": "text/x-python",
   "name": "python",
   "nbconvert_exporter": "python",
   "pygments_lexer": "ipython3",
   "version": "3.7.1"
  }
 },
 "nbformat": 4,
 "nbformat_minor": 2
}
