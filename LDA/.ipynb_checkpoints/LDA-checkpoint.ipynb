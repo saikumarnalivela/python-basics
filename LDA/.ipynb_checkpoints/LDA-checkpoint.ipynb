{
 "cells": [
  {
   "cell_type": "code",
   "execution_count": 1,
   "metadata": {},
   "outputs": [],
   "source": [
    "import pandas as pd\n",
    "import numpy as np"
   ]
  },
  {
   "cell_type": "code",
   "execution_count": 2,
   "metadata": {},
   "outputs": [],
   "source": [
    "data = pd.read_csv('Wine.csv')"
   ]
  },
  {
   "cell_type": "code",
   "execution_count": 3,
   "metadata": {},
   "outputs": [],
   "source": [
    "from sklearn.model_selection import train_test_split"
   ]
  },
  {
   "cell_type": "code",
   "execution_count": 4,
   "metadata": {},
   "outputs": [],
   "source": [
    "X = data.iloc[:,0:13].values"
   ]
  },
  {
   "cell_type": "code",
   "execution_count": 5,
   "metadata": {},
   "outputs": [],
   "source": [
    "y = data.iloc[:,-1].values"
   ]
  },
  {
   "cell_type": "code",
   "execution_count": 6,
   "metadata": {},
   "outputs": [],
   "source": [
    "X_train, X_test, y_train, y_test = train_test_split(X,y,test_size = 0.25,random_state = 123)"
   ]
  },
  {
   "cell_type": "code",
   "execution_count": 7,
   "metadata": {},
   "outputs": [],
   "source": [
    "from sklearn.preprocessing import StandardScaler"
   ]
  },
  {
   "cell_type": "code",
   "execution_count": 8,
   "metadata": {},
   "outputs": [],
   "source": [
    "sc = StandardScaler()\n",
    "X_train = sc.fit_transform(X_train)\n",
    "X_test = sc.fit_transform(X_test)"
   ]
  },
  {
   "cell_type": "code",
   "execution_count": 11,
   "metadata": {},
   "outputs": [],
   "source": [
    "from sklearn.discriminant_analysis import LinearDiscriminantAnalysis"
   ]
  },
  {
   "cell_type": "code",
   "execution_count": 14,
   "metadata": {},
   "outputs": [],
   "source": [
    "lda = LinearDiscriminantAnalysis(n_components=2)"
   ]
  },
  {
   "cell_type": "code",
   "execution_count": 16,
   "metadata": {},
   "outputs": [],
   "source": [
    "X_train = lda.fit_transform(X_train,y_train)"
   ]
  },
  {
   "cell_type": "code",
   "execution_count": 18,
   "metadata": {},
   "outputs": [],
   "source": [
    "X_test = lda.transform(X_test)"
   ]
  },
  {
   "cell_type": "code",
   "execution_count": 19,
   "metadata": {},
   "outputs": [
    {
     "data": {
      "text/plain": [
       "array([[-3.41604309e+00,  7.88123870e-01],\n",
       "       [-5.14189421e+00,  1.48768733e+00],\n",
       "       [ 4.37110901e-01, -2.11624722e+00],\n",
       "       [-3.05090903e+00,  1.27034805e-01],\n",
       "       [-4.29381979e-01, -2.65688839e+00],\n",
       "       [ 1.26198452e+00, -3.06532870e+00],\n",
       "       [ 3.29268560e+00,  1.34472531e+00],\n",
       "       [ 4.09846976e+00,  2.59420243e+00],\n",
       "       [-5.21440643e-01, -2.29947121e+00],\n",
       "       [-4.30105944e+00,  1.79079934e+00],\n",
       "       [ 1.10528183e-01, -1.00067793e+00],\n",
       "       [-4.99433814e-01, -3.05305737e+00],\n",
       "       [ 3.25590077e-01, -2.87531978e+00],\n",
       "       [-4.24696317e+00,  2.66258469e+00],\n",
       "       [-2.53275921e+00,  1.09841695e+00],\n",
       "       [-1.49250761e+00,  4.01531482e-01],\n",
       "       [-2.97610675e+00,  2.02608161e+00],\n",
       "       [-6.66898321e-01, -2.27228882e+00],\n",
       "       [-2.72627884e+00,  1.01729636e+00],\n",
       "       [-2.50199815e+00,  2.37743260e-01],\n",
       "       [-4.71488315e+00,  1.68961580e+00],\n",
       "       [ 4.89125382e+00,  2.42820702e+00],\n",
       "       [-2.60850235e+00,  2.69484592e+00],\n",
       "       [-5.85336930e-01, -9.01789534e-01],\n",
       "       [-2.84399383e+00,  1.66781183e-01],\n",
       "       [ 2.46216561e+00, -2.47693466e+00],\n",
       "       [ 2.65690588e+00,  5.08471604e-01],\n",
       "       [-3.56985719e+00,  1.75480631e+00],\n",
       "       [-4.40044694e+00,  2.66394575e+00],\n",
       "       [-3.19874875e+00,  2.51569467e+00],\n",
       "       [ 5.10269970e+00,  2.76980199e+00],\n",
       "       [-4.19329253e-01, -1.25317705e+00],\n",
       "       [ 2.98370344e-01, -1.72130951e+00],\n",
       "       [ 2.64457378e+00, -1.15779586e+00],\n",
       "       [ 4.49684825e+00,  3.71480366e+00],\n",
       "       [-2.58314190e+00, -3.59518580e-01],\n",
       "       [-2.24613587e+00,  8.22638756e-01],\n",
       "       [ 3.00360241e-01, -2.57373799e+00],\n",
       "       [ 9.43021020e-01, -1.90228033e+00],\n",
       "       [ 1.44670654e+00, -1.13179175e+00],\n",
       "       [ 5.68646400e+00,  1.09216632e+00],\n",
       "       [ 4.38769680e+00,  7.29901123e-01],\n",
       "       [-3.01711093e+00,  1.57470474e+00],\n",
       "       [ 3.35471406e+00,  9.86738087e-01],\n",
       "       [ 5.23068155e+00,  2.33874364e+00],\n",
       "       [ 2.75915125e+00,  1.12474064e+00],\n",
       "       [ 6.03331570e+00,  3.26442320e+00],\n",
       "       [ 3.90911599e-01, -3.11624757e+00],\n",
       "       [-1.36936696e+00,  1.04657998e+00],\n",
       "       [-2.92916172e+00,  1.90087710e+00],\n",
       "       [ 2.50846786e-01, -2.19159325e+00],\n",
       "       [-4.09615733e+00,  3.37585624e+00],\n",
       "       [ 1.40013117e+00, -3.08574563e+00],\n",
       "       [ 6.52886399e-01, -3.67397868e+00],\n",
       "       [ 1.80701891e+00, -2.27416370e+00],\n",
       "       [ 4.59357243e-01, -3.53887358e+00],\n",
       "       [-1.92188791e+00,  1.33342654e+00],\n",
       "       [-2.37127201e+00, -4.75673263e-01],\n",
       "       [-3.84436689e+00,  1.94688804e+00],\n",
       "       [ 2.15209661e-01, -3.23719361e+00],\n",
       "       [-1.20367100e+00, -1.27354847e+00],\n",
       "       [-5.07197942e+00,  3.34925503e+00],\n",
       "       [-3.17379439e+00,  1.89388059e+00],\n",
       "       [ 5.46373156e+00,  2.98448566e+00],\n",
       "       [-2.70184820e+00,  1.51602575e+00],\n",
       "       [ 4.89005687e+00,  2.87862582e+00],\n",
       "       [-2.41321472e+00,  9.11427794e-01],\n",
       "       [-2.33565108e+00, -5.17775138e-03],\n",
       "       [ 5.33014710e+00,  2.32891775e+00],\n",
       "       [ 6.65316752e-01, -2.12114508e+00],\n",
       "       [ 4.55226792e+00,  8.25625640e-01],\n",
       "       [-1.07306056e+00,  5.23254135e-01],\n",
       "       [-4.06788564e+00,  8.28379278e-01],\n",
       "       [-2.87890282e-01, -1.51796245e+00],\n",
       "       [-2.98762466e+00,  1.52300375e+00],\n",
       "       [ 4.49390766e+00,  1.18179963e+00],\n",
       "       [ 1.96174479e+00, -3.73146662e+00],\n",
       "       [ 5.77708600e-01, -3.33395789e+00],\n",
       "       [-5.01315398e+00,  3.04402296e+00],\n",
       "       [-4.24295314e+00,  2.69225201e+00],\n",
       "       [ 1.73854692e-01, -4.24399352e+00],\n",
       "       [-3.88253243e+00,  1.62756139e+00],\n",
       "       [ 3.59098190e-01, -5.67403412e+00],\n",
       "       [ 5.75627744e+00,  3.40981926e+00],\n",
       "       [ 1.62574730e+00, -7.81007478e-01],\n",
       "       [-2.94844967e+00,  2.72802425e+00],\n",
       "       [-4.65707151e+00,  5.95753435e-01],\n",
       "       [-3.47477126e+00,  2.13194013e+00],\n",
       "       [ 1.77952223e+00, -2.50717853e+00],\n",
       "       [ 8.21020973e-01, -2.38734394e+00],\n",
       "       [ 3.31397386e-01, -2.41267380e+00],\n",
       "       [ 6.07264423e+00,  2.09261021e+00],\n",
       "       [ 3.76218765e+00,  1.34452552e+00],\n",
       "       [ 1.05562367e+00, -2.14285694e+00],\n",
       "       [-2.63358131e+00,  1.26737496e+00],\n",
       "       [ 1.17433784e+00, -2.59687103e+00],\n",
       "       [ 2.16487109e+00, -6.16808552e-01],\n",
       "       [-2.54734122e-01, -3.10206322e+00],\n",
       "       [-9.64005363e-02, -1.59902918e+00],\n",
       "       [ 1.29684411e+00, -2.14081583e+00],\n",
       "       [-1.50328680e-01, -2.14700504e+00],\n",
       "       [-9.62137471e-01, -3.64947082e+00],\n",
       "       [-3.80803932e-01, -2.85445468e+00],\n",
       "       [ 3.86687946e+00,  6.91537887e-01],\n",
       "       [ 4.95876765e+00,  1.73651830e+00],\n",
       "       [ 3.35647495e+00,  2.05665765e+00],\n",
       "       [ 5.21263804e+00,  3.78987171e+00],\n",
       "       [-3.23053814e+00,  2.55504477e+00],\n",
       "       [-1.15147188e-01, -1.69533250e+00],\n",
       "       [-3.07742035e+00,  1.20678287e+00],\n",
       "       [-1.39672542e+00,  1.23978535e+00],\n",
       "       [-3.31257099e+00,  2.13297096e+00],\n",
       "       [ 2.46237481e-01, -4.48671195e-01],\n",
       "       [ 4.69118155e+00,  2.85732264e+00],\n",
       "       [-3.42537474e-01, -2.06539294e+00],\n",
       "       [ 4.90118727e+00,  3.63547232e+00],\n",
       "       [ 5.26134806e+00,  2.63101675e+00],\n",
       "       [ 7.91607736e-01, -2.53194042e+00],\n",
       "       [-3.11745843e+00, -3.56334519e-02],\n",
       "       [-1.56874592e+00, -1.67160022e+00],\n",
       "       [-3.09740716e+00,  8.29123024e-01],\n",
       "       [ 4.31591837e+00,  2.68777748e+00],\n",
       "       [ 1.49159479e+00, -3.32641703e+00],\n",
       "       [ 2.42713594e+00, -3.00573519e-01],\n",
       "       [-3.42099626e+00,  1.95682702e+00],\n",
       "       [ 4.03648589e-01, -9.87958545e-01],\n",
       "       [-3.30523979e-01, -2.19300016e+00],\n",
       "       [ 2.24855200e+00, -4.65049800e-01],\n",
       "       [-2.95838664e+00,  1.31713958e+00],\n",
       "       [-1.51064191e+00, -2.61564994e+00],\n",
       "       [-1.16111164e+00, -2.46241221e+00],\n",
       "       [-3.47778208e-01, -2.66977034e+00],\n",
       "       [-1.65423746e+00, -2.30394784e+00]])"
      ]
     },
     "execution_count": 19,
     "metadata": {},
     "output_type": "execute_result"
    }
   ],
   "source": [
    "X_train"
   ]
  },
  {
   "cell_type": "code",
   "execution_count": 20,
   "metadata": {},
   "outputs": [],
   "source": [
    "import matplotlib.pyplot as plt"
   ]
  },
  {
   "cell_type": "code",
   "execution_count": 21,
   "metadata": {},
   "outputs": [
    {
     "name": "stderr",
     "output_type": "stream",
     "text": [
      "C:\\Users\\saina\\Anaconda3\\lib\\site-packages\\sklearn\\linear_model\\logistic.py:432: FutureWarning: Default solver will be changed to 'lbfgs' in 0.22. Specify a solver to silence this warning.\n",
      "  FutureWarning)\n",
      "C:\\Users\\saina\\Anaconda3\\lib\\site-packages\\sklearn\\linear_model\\logistic.py:469: FutureWarning: Default multi_class will be changed to 'auto' in 0.22. Specify the multi_class option to silence this warning.\n",
      "  \"this warning.\", FutureWarning)\n",
      "'c' argument looks like a single numeric RGB or RGBA sequence, which should be avoided as value-mapping will have precedence in case its length matches with 'x' & 'y'.  Please use a 2-D array with a single row if you really want to specify the same RGB or RGBA value for all points.\n",
      "'c' argument looks like a single numeric RGB or RGBA sequence, which should be avoided as value-mapping will have precedence in case its length matches with 'x' & 'y'.  Please use a 2-D array with a single row if you really want to specify the same RGB or RGBA value for all points.\n",
      "'c' argument looks like a single numeric RGB or RGBA sequence, which should be avoided as value-mapping will have precedence in case its length matches with 'x' & 'y'.  Please use a 2-D array with a single row if you really want to specify the same RGB or RGBA value for all points.\n"
     ]
    },
    {
     "data": {
      "image/png": "[encoded data removed]",
      "text/plain": [
       "<Figure size 432x288 with 1 Axes>"
      ]
     },
     "metadata": {
      "needs_background": "light"
     },
     "output_type": "display_data"
    },
    {
     "name": "stderr",
     "output_type": "stream",
     "text": [
      "'c' argument looks like a single numeric RGB or RGBA sequence, which should be avoided as value-mapping will have precedence in case its length matches with 'x' & 'y'.  Please use a 2-D array with a single row if you really want to specify the same RGB or RGBA value for all points.\n",
      "'c' argument looks like a single numeric RGB or RGBA sequence, which should be avoided as value-mapping will have precedence in case its length matches with 'x' & 'y'.  Please use a 2-D array with a single row if you really want to specify the same RGB or RGBA value for all points.\n",
      "'c' argument looks like a single numeric RGB or RGBA sequence, which should be avoided as value-mapping will have precedence in case its length matches with 'x' & 'y'.  Please use a 2-D array with a single row if you really want to specify the same RGB or RGBA value for all points.\n"
     ]
    },
    {
     "data": {
      "image/png": "[encoded data removed]",
      "text/plain": [
       "<Figure size 432x288 with 1 Axes>"
      ]
     },
     "metadata": {
      "needs_background": "light"
     },
     "output_type": "display_data"
    }
   ],
   "source": [
    "from sklearn.linear_model import LogisticRegression\n",
    "classifier = LogisticRegression(random_state = 0)\n",
    "classifier.fit(X_train, y_train)\n",
    "\n",
    "# Predicting the Test set results\n",
    "y_pred = classifier.predict(X_test)\n",
    "\n",
    "# Making the Confusion Matrix\n",
    "from sklearn.metrics import confusion_matrix\n",
    "cm = confusion_matrix(y_test, y_pred)\n",
    "\n",
    "# Visualising the Training set results\n",
    "from matplotlib.colors import ListedColormap\n",
    "X_set, y_set = X_train, y_train\n",
    "X1, X2 = np.meshgrid(np.arange(start = X_set[:, 0].min() - 1, stop = X_set[:, 0].max() + 1, step = 0.01),\n",
    "                     np.arange(start = X_set[:, 1].min() - 1, stop = X_set[:, 1].max() + 1, step = 0.01))\n",
    "plt.contourf(X1, X2, classifier.predict(np.array([X1.ravel(), X2.ravel()]).T).reshape(X1.shape),\n",
    "             alpha = 0.75, cmap = ListedColormap(('red', 'green', 'blue')))\n",
    "plt.xlim(X1.min(), X1.max())\n",
    "plt.ylim(X2.min(), X2.max())\n",
    "for i, j in enumerate(np.unique(y_set)):\n",
    "    plt.scatter(X_set[y_set == j, 0], X_set[y_set == j, 1],\n",
    "                c = ListedColormap(('red', 'green', 'blue'))(i), label = j)\n",
    "plt.title('Logistic Regression (Training set)')\n",
    "plt.xlabel('LD1')\n",
    "plt.ylabel('LD2')\n",
    "plt.legend()\n",
    "plt.show()\n",
    "\n",
    "# Visualising the Test set results\n",
    "from matplotlib.colors import ListedColormap\n",
    "X_set, y_set = X_test, y_test\n",
    "X1, X2 = np.meshgrid(np.arange(start = X_set[:, 0].min() - 1, stop = X_set[:, 0].max() + 1, step = 0.01),\n",
    "                     np.arange(start = X_set[:, 1].min() - 1, stop = X_set[:, 1].max() + 1, step = 0.01))\n",
    "plt.contourf(X1, X2, classifier.predict(np.array([X1.ravel(), X2.ravel()]).T).reshape(X1.shape),\n",
    "             alpha = 0.75, cmap = ListedColormap(('red', 'green', 'blue')))\n",
    "plt.xlim(X1.min(), X1.max())\n",
    "plt.ylim(X2.min(), X2.max())\n",
    "for i, j in enumerate(np.unique(y_set)):\n",
    "    plt.scatter(X_set[y_set == j, 0], X_set[y_set == j, 1],\n",
    "                c = ListedColormap(('red', 'green', 'blue'))(i), label = j)\n",
    "plt.title('Logistic Regression (Test set)')\n",
    "plt.xlabel('LD1')\n",
    "plt.ylabel('LD2')\n",
    "plt.legend()\n",
    "plt.show()"
   ]
  },
  {
   "cell_type": "code",
   "execution_count": 22,
   "metadata": {},
   "outputs": [
    {
     "data": {
      "text/plain": [
       "array([[11,  0,  0],\n",
       "       [ 0, 14,  0],\n",
       "       [ 0,  3, 17]], dtype=int64)"
      ]
     },
     "execution_count": 22,
     "metadata": {},
     "output_type": "execute_result"
    }
   ],
   "source": [
    "cm"
   ]
  },
  {
   "cell_type": "code",
   "execution_count": null,
   "metadata": {},
   "outputs": [],
   "source": []
  }
 ],
 "metadata": {
  "kernelspec": {
   "display_name": "Python 3",
   "language": "python",
   "name": "python3"
  },
  "language_info": {
   "codemirror_mode": {
    "name": "ipython",
    "version": 3
   },
   "file_extension": ".py",
   "mimetype": "text/x-python",
   "name": "python",
   "nbconvert_exporter": "python",
   "pygments_lexer": "ipython3",
   "version": "3.7.4"
  }
 },
 "nbformat": 4,
 "nbformat_minor": 2
}
